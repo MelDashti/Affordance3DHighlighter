{
 "nbformat": 4,
 "nbformat_minor": 0,
 "metadata": {
  "colab": {
   "provenance": [],
   "gpuType": "T4"
  },
  "kernelspec": {
   "name": "python3",
   "display_name": "Python 3"
  },
  "language_info": {
   "name": "python"
  },
  "accelerator": "GPU"
 },
 "cells": [
  {
   "cell_type": "code",
   "metadata": {
    "colab": {
     "base_uri": "https://localhost:8080/"
    },
    "id": "7V2sAvAnx8Au",
    "outputId": "a4365a06-9f57-45dd-cc1f-3e38310a0bba"
   },
   "source": [
    "!pip install open3d plotly\n"
   ],
   "outputs": [],
   "execution_count": null
  },
  {
   "cell_type": "code",
   "source": [
    "import numpy as np\n",
    "\n",
    "# Load the .npz file\n",
    "data = np.load(\"/content/highlighted_points.npz\")\n",
    "points = data['points']  # Shape: (2048, 3)\n",
    "colors = data['colors']  # Shape: (2048, 3)\n"
   ],
   "metadata": {
    "id": "sSUSuO7kyZNi"
   },
   "outputs": [],
   "execution_count": null
  },
  {
   "cell_type": "code",
   "source": [
    "import plotly.graph_objects as go\n",
    "\n",
    "# Create a scatter plot\n",
    "fig = go.Figure(\n",
    "    data=[\n",
    "        go.Scatter3d(\n",
    "            x=points[:, 0],\n",
    "            y=points[:, 1],\n",
    "            z=points[:, 2],\n",
    "            mode='markers',\n",
    "            marker=dict(\n",
    "                size=2,\n",
    "                color=colors,  # Use the colors from your data\n",
    "                opacity=0.8\n",
    "            )\n",
    "        )\n",
    "    ]\n",
    ")\n",
    "\n",
    "# Set plot layout\n",
    "# Update layout to remove background and axis elements\n",
    "fig.update_layout(\n",
    "    paper_bgcolor='white',  # Set the background color of the entire figure\n",
    "    plot_bgcolor='white',   # Set the background color of the plotting area\n",
    "    scene=dict(\n",
    "        xaxis=dict(\n",
    "            showbackground=False,  # Hide background plane\n",
    "            showticklabels=False,  # Hide axis tick labels\n",
    "            ticks='',              # Hide axis ticks\n",
    "            showgrid=False,        # Hide grid lines\n",
    "            zeroline=False         # Hide zero line\n",
    "        ),\n",
    "        yaxis=dict(\n",
    "            showbackground=False,\n",
    "            showticklabels=False,\n",
    "            ticks='',\n",
    "            showgrid=False,\n",
    "            zeroline=False\n",
    "        ),\n",
    "        zaxis=dict(\n",
    "            showbackground=False,\n",
    "            showticklabels=False,\n",
    "            ticks='',\n",
    "            showgrid=False,\n",
    "            zeroline=False\n",
    "        )\n",
    "    )\n",
    ")\n",
    "\n",
    "\n",
    "# Show the plot\n",
    "fig.show()\n",
    "fig.write_image(\"/content/point_cloud_visualization.png\")"
   ],
   "metadata": {
    "colab": {
     "base_uri": "https://localhost:8080/",
     "height": 898
    },
    "id": "36Wkfx2Uyt7u",
    "outputId": "397a4b1f-1541-4354-889b-2f8ace657c03"
   },
   "outputs": [],
   "execution_count": null
  }
 ]
}
