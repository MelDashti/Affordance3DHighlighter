{
 "cells": [
  {
   "cell_type": "code",
   "execution_count": 1,
   "metadata": {
    "colab": {
     "base_uri": "https://localhost:8080/"
    },
    "execution": {
     "iopub.execute_input": "2024-12-29T13:22:56.405362Z",
     "iopub.status.busy": "2024-12-29T13:22:56.405013Z",
     "iopub.status.idle": "2024-12-29T13:22:57.472712Z",
     "shell.execute_reply": "2024-12-29T13:22:57.471524Z",
     "shell.execute_reply.started": "2024-12-29T13:22:56.405331Z"
    },
    "id": "2rqJobuCpQLi",
    "outputId": "281b69ef-7d5c-40e7-e9d1-c343706616ea",
    "trusted": true
   },
   "outputs": [
    {
     "name": "stdout",
     "output_type": "stream",
     "text": [
      "Cloning into 'Affordance3DHighlighter'...\n",
      "remote: Enumerating objects: 141, done.\u001b[K\n",
      "remote: Counting objects: 100% (141/141), done.\u001b[K\n",
      "remote: Compressing objects: 100% (99/99), done.\u001b[K\n",
      "remote: Total 141 (delta 75), reused 103 (delta 39), pack-reused 0 (from 0)\u001b[K\n",
      "Receiving objects: 100% (141/141), 1.84 MiB | 23.24 MiB/s, done.\n",
      "Resolving deltas: 100% (75/75), done.\n"
     ]
    }
   ],
   "source": []
  },
  {
   "cell_type": "code",
   "execution_count": 2,
   "metadata": {
    "execution": {
     "iopub.execute_input": "2024-12-29T13:23:00.657572Z",
     "iopub.status.busy": "2024-12-29T13:23:00.657241Z",
     "iopub.status.idle": "2024-12-29T13:23:00.661274Z",
     "shell.execute_reply": "2024-12-29T13:23:00.660466Z",
     "shell.execute_reply.started": "2024-12-29T13:23:00.657544Z"
    },
    "id": "fhLYzi952EEA",
    "trusted": true
   },
   "outputs": [],
   "source": [
    "import os\n",
    "\n",
    "os.chdir('/kaggle/working/Affordance3DHighlighter')"
   ]
  },
  {
   "cell_type": "code",
   "execution_count": null,
   "metadata": {},
   "outputs": [],
   "source": [
    "!pip install gdown\n",
    "!gdown --id 1siZtGusB1LfQVapTvNOiYi8aeKKAgcDF\n",
    "!unzip full-shape.zip -d /kaggle/working/Affordance3DHighlighter/data/"
   ]
  },
  {
   "cell_type": "code",
   "execution_count": null,
   "metadata": {},
   "outputs": [],
   "source": [
    "import pickle\n",
    "\n",
    "# Load training data\n",
    "with open('full_shape_train_data.pkl', 'rb') as train_file:\n",
    "    train_data = pickle.load(train_file)\n",
    "\n",
    "# Load validation data\n",
    "with open('full_shape_val_data.pkl', 'rb') as val_file:\n",
    "    val_data = pickle.load(val_file)\n",
    "\n",
    "# Inspect the contents\n",
    "print(f\"Training Data Type: {type(train_data)}\")\n",
    "print(f\"Training Data Example: {train_data[:1]}\")\n",
    "print(f\"Validation Data Type: {type(val_data)}\")\n",
    "print(f\"Validation Data Example: {val_data[:1]}\")"
   ]
  },
  {
   "cell_type": "code",
   "execution_count": null,
   "metadata": {
    "colab": {
     "base_uri": "https://localhost:8080/"
    },
    "execution": {
     "iopub.execute_input": "2024-12-29T13:24:23.588989Z",
     "iopub.status.busy": "2024-12-29T13:24:23.588319Z",
     "iopub.status.idle": "2024-12-29T13:24:31.831852Z",
     "shell.execute_reply": "2024-12-29T13:24:31.830950Z",
     "shell.execute_reply.started": "2024-12-29T13:24:23.588955Z"
    },
    "id": "d8vCbctxbPP4",
    "outputId": "55a100ed-7b85-4630-9e3f-e3ce98c37fff",
    "trusted": true
   },
   "outputs": [],
   "source": [
    "!pip install git+https://github.com/openai/CLIP.git\n",
    "!pip install kaolin==0.17.0 -f https://nvidia-kaolin.s3.us-east-2.amazonaws.com/torch-2.5.1_cu121.html"
   ]
  },
  {
   "cell_type": "code",
   "execution_count": 27,
   "metadata": {
    "ExecuteTime": {
     "end_time": "2024-12-26T14:58:53.585274Z",
     "start_time": "2024-12-26T14:58:48.836644Z"
    },
    "colab": {
     "base_uri": "https://localhost:8080/"
    },
    "execution": {
     "iopub.execute_input": "2024-12-29T14:25:20.704313Z",
     "iopub.status.busy": "2024-12-29T14:25:20.703998Z",
     "iopub.status.idle": "2024-12-29T14:25:20.715992Z",
     "shell.execute_reply": "2024-12-29T14:25:20.715196Z",
     "shell.execute_reply.started": "2024-12-29T14:25:20.704290Z"
    },
    "id": "sRNWfRMnIzuJ",
    "outputId": "39ed1f77-3f8e-499d-eb2b-8aecadf7c335",
    "trusted": true
   },
   "outputs": [],
   "source": [
    "\n",
    "import sys\n",
    "import torch\n",
    "\n",
    "need_pytorch3d = False\n",
    "try:\n",
    "    import pytorch3d\n",
    "except ModuleNotFoundError:\n",
    "    need_pytorch3d = True\n",
    "if need_pytorch3d:\n",
    "    pyt_version_str = torch.__version__.split(\"+\")[0].replace(\".\", \"\")\n",
    "    version_str = \"\".join([\n",
    "        f\"py3{sys.version_info.minor}_cu\",\n",
    "        torch.version.cuda.replace(\".\", \"\"),\n",
    "        f\"_pyt{pyt_version_str}\"\n",
    "    ])\n",
    "    !pip install iopath\n",
    "    if sys.platform.startswith(\"linux\"):\n",
    "        print(\"Trying to install wheel for PyTorch3D\")\n",
    "        !pip install --no-index --no-cache-dir pytorch3d -f https://dl.fbaipublicfiles.com/pytorch3d/packaging/wheels/{version_str}/download.html\n",
    "        pip_list = !pip freeze\n",
    "        need_pytorch3d = not any(i.startswith(\"pytorch3d==\") for i in pip_list)\n",
    "    if need_pytorch3d:\n",
    "        print(f\"failed to find/install wheel for {version_str}\")\n",
    "if need_pytorch3d:\n",
    "    print(\"Installing PyTorch3D from source\")\n",
    "    !pip install ninja\n",
    "    !pip install 'git+https://github.com/facebookresearch/pytorch3d.git@stable'"
   ]
  },
  {
   "cell_type": "code",
   "execution_count": null,
   "metadata": {
    "colab": {
     "base_uri": "https://localhost:8080/"
    },
    "execution": {
     "iopub.execute_input": "2024-12-29T13:25:35.005268Z",
     "iopub.status.busy": "2024-12-29T13:25:35.004942Z",
     "iopub.status.idle": "2024-12-29T13:25:52.711356Z",
     "shell.execute_reply": "2024-12-29T13:25:52.710373Z",
     "shell.execute_reply.started": "2024-12-29T13:25:35.005248Z"
    },
    "id": "zT9LfpcRXDHy",
    "outputId": "527d847c-60da-4e72-c096-81cbf9671f92",
    "trusted": true
   },
   "outputs": [],
   "source": [
    "!pip install open3d"
   ]
  },
  {
   "cell_type": "code",
   "execution_count": 7,
   "metadata": {
    "colab": {
     "base_uri": "https://localhost:8080/"
    },
    "execution": {
     "iopub.execute_input": "2024-12-29T13:17:38.518795Z",
     "iopub.status.busy": "2024-12-29T13:17:38.518502Z",
     "iopub.status.idle": "2024-12-29T13:17:38.949273Z",
     "shell.execute_reply": "2024-12-29T13:17:38.948438Z",
     "shell.execute_reply.started": "2024-12-29T13:17:38.518773Z"
    },
    "id": "FTk44DGYYIBS",
    "outputId": "864b8bfd-a638-4f09-f520-d3f0fb75389c",
    "trusted": true
   },
   "outputs": [
    {
     "name": "stdout",
     "output_type": "stream",
     "text": [
      "--2024-12-29 13:17:38--  https://dl.fbaipublicfiles.com/pytorch3d/data/PittsburghBridge/pointcloud.npz\n",
      "Resolving dl.fbaipublicfiles.com (dl.fbaipublicfiles.com)... 3.163.189.51, 3.163.189.14, 3.163.189.96, ...\n",
      "Connecting to dl.fbaipublicfiles.com (dl.fbaipublicfiles.com)|3.163.189.51|:443... connected.\n",
      "HTTP request sent, awaiting response... 200 OK\n",
      "Length: 5701352 (5.4M) [application/zip]\n",
      "Saving to: ‘data/PittsburghBridge/pointcloud.npz’\n",
      "\n",
      "pointcloud.npz      100%[===================>]   5.44M  --.-KB/s    in 0.09s   \n",
      "\n",
      "2024-12-29 13:17:38 (58.6 MB/s) - ‘data/PittsburghBridge/pointcloud.npz’ saved [5701352/5701352]\n",
      "\n"
     ]
    }
   ],
   "source": [
    "!mkdir -p data/PittsburghBridge\n",
    "!wget -P data/PittsburghBridge https://dl.fbaipublicfiles.com/pytorch3d/data/PittsburghBridge/pointcloud.npz"
   ]
  },
  {
   "cell_type": "code",
   "execution_count": 28,
   "metadata": {
    "execution": {
     "iopub.execute_input": "2024-12-29T14:25:27.631711Z",
     "iopub.status.busy": "2024-12-29T14:25:27.631412Z",
     "iopub.status.idle": "2024-12-29T14:25:27.639712Z",
     "shell.execute_reply": "2024-12-29T14:25:27.638779Z",
     "shell.execute_reply.started": "2024-12-29T14:25:27.631688Z"
    },
    "trusted": true
   },
   "outputs": [],
   "source": [
    "\n",
    "from src.mesh import Mesh\n",
    "from pytorch3d.structures import Pointclouds\n",
    "\n",
    "from src.convertor import obj_to_pointcloud\n",
    "\n",
    "\n",
    "def bounding_sphere_normalize(points: torch.Tensor) -> torch.Tensor:\n",
    "    \"\"\"\n",
    "    points: (N,3) tensor of point coords\n",
    "    Return normalized points in a unit sphere centered at origin.\n",
    "    \"\"\"\n",
    "    center = points.mean(dim=0, keepdim=True)\n",
    "    max_dist = (points - center).norm(p=2, dim=1).max()\n",
    "    points_normed = (points - center) / max_dist\n",
    "    return points_normed\n",
    "\n",
    "\n",
    "def load_3d_data(file_path, num_points=10000, device=\"cuda\", do_normalize=True):\n",
    "    \"\"\"\n",
    "    Loads 3D data as PyTorch3D Pointclouds from either NPZ point cloud or OBJ mesh.\n",
    "\n",
    "    Args:\n",
    "        file_path: Path to either .npz point cloud or .obj mesh file\n",
    "        num_points: Number of points to sample if loading from mesh\n",
    "        device: Device to load data on\n",
    "\n",
    "    Returns:\n",
    "        Pointclouds object containing points and features\n",
    "    \"\"\"\n",
    "    file_ext = file_path.split('.')[-1].lower()\n",
    "\n",
    "    if file_ext == 'npz':\n",
    "        # Load NPZ point cloud directly like in the example\n",
    "        pointcloud = np.load(file_path)\n",
    "        verts = torch.Tensor(pointcloud['verts']).to(device)\n",
    "        rgb = torch.Tensor(pointcloud['rgb']).to(device)\n",
    "\n",
    "        print(\"lenght of the data\")\n",
    "        print(len(verts))\n",
    "\n",
    "        # Subsample if needed\n",
    "        if len(verts) > num_points:\n",
    "            idx = torch.randperm(len(verts))[:num_points]\n",
    "            verts = verts[idx]\n",
    "            rgb = rgb[idx]\n",
    "\n",
    "        if do_normalize:\n",
    "            verts = bounding_sphere_normalize(verts)\n",
    "\n",
    "        # Return both the points tensor and the Pointclouds object\n",
    "        point_cloud = Pointclouds(points=[verts], features=[rgb])\n",
    "        return verts, point_cloud  # Return both\n",
    "\n",
    "    elif file_ext == 'obj':\n",
    "        # Load and convert your OBJ file\n",
    "        points, point_cloud = obj_to_pointcloud(\n",
    "            file_path,\n",
    "            num_points=num_points,  # Adjust this number as needed\n",
    "            device=\"cuda\"  # Use \"cpu\" if you don't have a GPU\n",
    "        )\n",
    "        if do_normalize:\n",
    "            points = bounding_sphere_normalize(points)\n",
    "            # here we update the point cloud too\n",
    "            rgb = point_cloud.features_packed() # shape [N,3]\n",
    "            point_cloud = Pointclouds(points = [points], features = [rgb])\n",
    "        return points, point_cloud\n",
    "        # # Load mesh and sample points\n",
    "        # mesh = Mesh(file_path)\n",
    "        # vertices = mesh.vertices\n",
    "\n",
    "        # # Sample random points\n",
    "        # idx = torch.randperm(vertices.shape[0])[:num_points]\n",
    "        # points = vertices[idx].to(device)\n",
    "\n",
    "        # # Initialize with gray color\n",
    "        # colors = torch.ones_like(points) * 0.7\n",
    "\n",
    "        # return Pointclouds(points=[points], features=[colors])\n",
    "\n",
    "    else:\n",
    "        raise ValueError(f\"Unsupported file format: {file_ext}. Only .npz and .obj are supported.\")\n",
    "\n"
   ]
  },
  {
   "cell_type": "code",
   "execution_count": 29,
   "metadata": {
    "execution": {
     "iopub.execute_input": "2024-12-29T14:25:41.677365Z",
     "iopub.status.busy": "2024-12-29T14:25:41.677027Z",
     "iopub.status.idle": "2024-12-29T14:25:41.682294Z",
     "shell.execute_reply": "2024-12-29T14:25:41.681359Z",
     "shell.execute_reply.started": "2024-12-29T14:25:41.677336Z"
    },
    "trusted": true
   },
   "outputs": [],
   "source": [
    "def print_grad_fn(tensor, depth=0):\n",
    "    \"\"\"Recursively print the gradient function graph\"\"\"\n",
    "    if tensor.grad_fn is None:\n",
    "        print(\"  \" * depth + \"None (leaf tensor)\")\n",
    "        return\n",
    "\n",
    "    print(\"  \" * depth + str(tensor.grad_fn))\n",
    "    for fn in tensor.grad_fn.next_functions:\n",
    "        if fn[0] is not None:\n",
    "            print(\"  \" * (depth + 1) + str(fn[0]))"
   ]
  },
  {
   "cell_type": "code",
   "execution_count": 34,
   "metadata": {
    "execution": {
     "iopub.execute_input": "2024-12-29T14:37:38.441009Z",
     "iopub.status.busy": "2024-12-29T14:37:38.440674Z",
     "iopub.status.idle": "2024-12-29T14:37:38.456613Z",
     "shell.execute_reply": "2024-12-29T14:37:38.455726Z",
     "shell.execute_reply.started": "2024-12-29T14:37:38.440981Z"
    },
    "id": "E0SBrmlBkwib",
    "trusted": true
   },
   "outputs": [],
   "source": [
    "\n",
    "from src.render.cloud_point_renderer import MultiViewPointCloudRenderer\n",
    "from src.save_results import save_renders, save_results\n",
    "from src.neural_highlighter import NeuralHighlighter\n",
    "from src.Clip.loss_function import clip_loss\n",
    "from src.Clip.clip_model import get_clip_model, encode_text, setup_clip_transforms\n",
    "\n",
    "import torch\n",
    "import numpy as np\n",
    "import random\n",
    "from tqdm import tqdm\n",
    "\n",
    "# Constrain most sources of randomness\n",
    "# (some torch backwards functions within CLIP are non-determinstic)\n",
    "# Set a consistent seed for reproducibility\n",
    "seed = 0  # You can use any integer value\n",
    "torch.manual_seed(seed)\n",
    "torch.cuda.manual_seed(seed)\n",
    "torch.cuda.manual_seed_all(seed)\n",
    "random.seed(seed)\n",
    "np.random.seed(seed)\n",
    "torch.backends.cudnn.benchmark = False\n",
    "torch.backends.cudnn.deterministic = True\n",
    "\n",
    "\n",
    "def optimize_point_cloud(points, clip_model, renderer, encoded_text, log_dir: str, **kwargs):\n",
    "    num_iterations = kwargs.get('num_iterations', 1000)\n",
    "    learning_rate = kwargs.get('learning_rate', 1e-4)\n",
    "    depth = kwargs.get('depth', 5)\n",
    "    width = kwargs.get('network_width', 256)\n",
    "    n_views = kwargs.get(\"n_views\", 4)\n",
    "    n_augs = kwargs.get('n_augs', 1)\n",
    "    clipavg = kwargs.get('clipavg', 'view')\n",
    "    device = kwargs.get('device', 'cuda')\n",
    "\n",
    "    # Initialize network and optimizer\n",
    "    net = NeuralHighlighter(\n",
    "        depth=depth,  # Number of hidden layers\n",
    "        width=width,  # Width of each layer\n",
    "        out_dim=2,  # Binary classification (highlight/no-highlight)\n",
    "        input_dim=3,  # 3D coordinates (x,y,z)\n",
    "        positional_encoding=False  # As recommended in the paper\n",
    "    ).to(device)\n",
    "    optimizer = torch.optim.Adam(net.parameters(), lr=learning_rate)\n",
    "\n",
    "    # Set up the transforms\n",
    "    clip_transform, augment_transform = setup_clip_transforms()\n",
    "\n",
    "    # Training loop\n",
    "    for i in tqdm(range(num_iterations)):\n",
    "        optimizer.zero_grad()\n",
    "\n",
    "        # Predict highlight probabilities\n",
    "        pred_class = net(points)\n",
    "\n",
    "        # Create colors based on predictions\n",
    "        highlight_color = torch.tensor([204 / 255, 1.0, 0.0]).to(device)\n",
    "        base_color = torch.tensor([180 / 255, 180 / 255, 180 / 255]).to(device)\n",
    "\n",
    "        colors = pred_class[:, 0:1] * highlight_color + pred_class[:, 1:2] * base_color\n",
    "\n",
    "        # Create and render point cloud\n",
    "        point_cloud = renderer.create_point_cloud(points, colors)\n",
    "        rendered_images = renderer.render_all_views(point_cloud=point_cloud, n_views=n_views)\n",
    "        # Convert dictionary of images to tensor\n",
    "        rendered_tensor = []\n",
    "        for name, img in rendered_images.items():\n",
    "            rendered_tensor.append(img.to(device))\n",
    "        rendered_tensor = torch.stack(rendered_tensor)\n",
    "\n",
    "        #Convert rendered images to CLIP format\n",
    "        rendered_images = rendered_tensor.permute(0, 3, 1, 2)  # [B, H, W, C] -> [B, C, H, W]\n",
    "        #print(rendered_images.shape)\n",
    "\n",
    "        # Calculate CLIP loss\n",
    "        loss = clip_loss(\n",
    "            rendered_images=rendered_images,\n",
    "            encoded_text=encoded_text,\n",
    "            clip_transform=clip_transform,\n",
    "            augment_transform=augment_transform,\n",
    "            clip_model=clip_model,\n",
    "            n_augs=n_augs,\n",
    "            clipavg=clipavg\n",
    "        )\n",
    "        #print(\"Loss computation graph:\")\n",
    "        #print_grad_fn(loss)\n",
    "        loss.backward()\n",
    "        optimizer.step()\n",
    "\n",
    "        if i % 100 == 0:\n",
    "            print(f\"Iteration {i}, Loss: {loss.item():.4f}\")\n",
    "            save_renders(log_dir, i, rendered_images)\n",
    "\n",
    "    return net\n",
    "\n",
    "\n",
    "def main(input_path, object_name, highlight_region, **kwargs):\n",
    "    \"\"\"\n",
    "    Main function for 3D highlighting with configurable parameters.\n",
    "    \n",
    "    Args:\n",
    "        input_path: Path to input 3D file (mesh or point cloud)\n",
    "        object_name: Name of the object for the prompt\n",
    "        highlight_region: Region to highlight\n",
    "        **kwargs: Optional parameters with defaults:\n",
    "            n_views: Number of views to render (default: 5)\n",
    "            n_aug: Number of augmentations (default: 5) \n",
    "            clipavg: Method for CLIP averaging (default: \"view\")\n",
    "            network_depth: Depth of neural network (default: 5)\n",
    "            network_width: Width of neural layers (default: 256)\n",
    "            learning_rate: Learning rate for optimization (default: 1e-4)\n",
    "            num_iterations: Number of training iterations (default: 500)\n",
    "            num_points: Number of points to sample (default: 10000)\n",
    "            device: Device to run on (default: \"cuda\")\n",
    "            output_dir: Directory for outputs (default: \"./output\")\n",
    "    \"\"\"\n",
    "    # Extract parameters from kwargs with defaults\n",
    "    n_views = kwargs.get(\"n_views\", 4)\n",
    "    num_points = kwargs.get(\"num_points\", 10000)\n",
    "    device = kwargs.get(\"device\", \"cuda\")\n",
    "    output_dir = kwargs.get(\"output_dir\", \"./output\")\n",
    "    do_normalize = kwargs.get(\"do_normalize\", True) \n",
    "    \n",
    "    try:\n",
    "        # Create output directory if it doesn't exist\n",
    "        os.makedirs(output_dir, exist_ok=True)\n",
    "\n",
    "        # Load 3D data (either mesh or point cloud)\n",
    "        print(f\"Loading 3D data from {input_path}...\")\n",
    "        points, point_cloud = load_3d_data(input_path, num_points=num_points, device=device)\n",
    "        print(f\"Loaded {len(points)} points\")\n",
    "\n",
    "        # Setup CLIP model\n",
    "        print(\"Setting up CLIP model...\")\n",
    "        clip_model, preprocess, resolution = get_clip_model()\n",
    "\n",
    "        # Create and encode prompt\n",
    "        prompt = f\"A 3D render of a gray {object_name} with highlighted {highlight_region}\"\n",
    "        print(f\"Using prompt: {prompt}\")\n",
    "        text_features = encode_text(clip_model, prompt, device)\n",
    "\n",
    "        # Initialize renderer\n",
    "        print(\"Setting up renderer...\")\n",
    "        renderer = MultiViewPointCloudRenderer(\n",
    "            image_size=512,\n",
    "            base_dist=30,  # Your default view distance\n",
    "            base_elev=10,  # Your default elevation\n",
    "            base_azim=0,  # Your default azimuth\n",
    "            device=device\n",
    "        )\n",
    "\n",
    "        # Optimize point cloud highlighting\n",
    "        print(\"Starting optimization...\")\n",
    "        net = optimize_point_cloud(\n",
    "            points=points,\n",
    "            renderer=renderer,\n",
    "            clip_model=clip_model,\n",
    "            encoded_text=text_features,\n",
    "            log_dir=output_dir,\n",
    "            **kwargs\n",
    "        )\n",
    "\n",
    "        # Save results\n",
    "        print(\"Saving results...\")\n",
    "        save_results(\n",
    "            net=net,\n",
    "            points=points,\n",
    "            n_views=n_views,\n",
    "            prompt=prompt,\n",
    "            output_dir=output_dir,\n",
    "            renderer=renderer,\n",
    "            device=device\n",
    "        )\n",
    "\n",
    "        print(\"Processing complete!\")\n",
    "        return net, points\n",
    "\n",
    "    except Exception as e:\n",
    "        print(f\"Error in processing: {str(e)}\")\n",
    "        raise\n",
    "\n"
   ]
  },
  {
   "cell_type": "code",
   "execution_count": 36,
   "metadata": {
    "colab": {
     "base_uri": "https://localhost:8080/"
    },
    "execution": {
     "iopub.execute_input": "2024-12-29T14:51:45.103620Z",
     "iopub.status.busy": "2024-12-29T14:51:45.103314Z",
     "iopub.status.idle": "2024-12-29T14:55:01.180282Z",
     "shell.execute_reply": "2024-12-29T14:55:01.179493Z",
     "shell.execute_reply.started": "2024-12-29T14:51:45.103597Z"
    },
    "id": "uD_gYzdOpy-t",
    "outputId": "d0563f73-0957-4301-d62e-4937f39216e6",
    "trusted": true
   },
   "outputs": [
    {
     "name": "stdout",
     "output_type": "stream",
     "text": [
      "Loading 3D data from /kaggle/working/Affordance3DHighlighter/data/candle.obj...\n",
      "Loaded 100000 points\n",
      "Setting up CLIP model...\n",
      "Using prompt: A 3D render of a gray candle with highlighted head\n",
      "Setting up renderer...\n",
      "Starting optimization...\n",
      "ModuleList(\n",
      "  (0): Linear(in_features=3, out_features=256, bias=True)\n",
      "  (1): ReLU()\n",
      "  (2): LayerNorm((256,), eps=1e-05, elementwise_affine=True)\n",
      "  (3): Linear(in_features=256, out_features=256, bias=True)\n",
      "  (4): ReLU()\n",
      "  (5): LayerNorm((256,), eps=1e-05, elementwise_affine=True)\n",
      "  (6): Linear(in_features=256, out_features=256, bias=True)\n",
      "  (7): ReLU()\n",
      "  (8): LayerNorm((256,), eps=1e-05, elementwise_affine=True)\n",
      "  (9): Linear(in_features=256, out_features=256, bias=True)\n",
      "  (10): ReLU()\n",
      "  (11): LayerNorm((256,), eps=1e-05, elementwise_affine=True)\n",
      "  (12): Linear(in_features=256, out_features=256, bias=True)\n",
      "  (13): ReLU()\n",
      "  (14): LayerNorm((256,), eps=1e-05, elementwise_affine=True)\n",
      "  (15): Linear(in_features=256, out_features=256, bias=True)\n",
      "  (16): ReLU()\n",
      "  (17): LayerNorm((256,), eps=1e-05, elementwise_affine=True)\n",
      "  (18): Linear(in_features=256, out_features=2, bias=True)\n",
      "  (19): Softmax(dim=1)\n",
      ")\n"
     ]
    },
    {
     "name": "stderr",
     "output_type": "stream",
     "text": [
      "  0%|          | 1/500 [00:00<03:46,  2.21it/s]"
     ]
    },
    {
     "name": "stdout",
     "output_type": "stream",
     "text": [
      "Iteration 0, Loss: -0.3125\n"
     ]
    },
    {
     "name": "stderr",
     "output_type": "stream",
     "text": [
      " 20%|██        | 101/500 [00:38<02:37,  2.53it/s]"
     ]
    },
    {
     "name": "stdout",
     "output_type": "stream",
     "text": [
      "Iteration 100, Loss: -0.3384\n"
     ]
    },
    {
     "name": "stderr",
     "output_type": "stream",
     "text": [
      " 40%|████      | 201/500 [01:15<01:56,  2.56it/s]"
     ]
    },
    {
     "name": "stdout",
     "output_type": "stream",
     "text": [
      "Iteration 200, Loss: -0.3213\n"
     ]
    },
    {
     "name": "stderr",
     "output_type": "stream",
     "text": [
      " 60%|██████    | 301/500 [01:52<01:19,  2.50it/s]"
     ]
    },
    {
     "name": "stdout",
     "output_type": "stream",
     "text": [
      "Iteration 300, Loss: -0.3279\n"
     ]
    },
    {
     "name": "stderr",
     "output_type": "stream",
     "text": [
      " 80%|████████  | 401/500 [02:29<00:38,  2.54it/s]"
     ]
    },
    {
     "name": "stdout",
     "output_type": "stream",
     "text": [
      "Iteration 400, Loss: -0.3447\n"
     ]
    },
    {
     "name": "stderr",
     "output_type": "stream",
     "text": [
      "100%|██████████| 500/500 [03:05<00:00,  2.70it/s]\n"
     ]
    },
    {
     "name": "stdout",
     "output_type": "stream",
     "text": [
      "Saving results...\n",
      "Processing complete!\n"
     ]
    },
    {
     "data": {
      "text/plain": [
       "(NeuralHighlighter(\n",
       "   (mlp): ModuleList(\n",
       "     (0): Linear(in_features=3, out_features=256, bias=True)\n",
       "     (1): ReLU()\n",
       "     (2): LayerNorm((256,), eps=1e-05, elementwise_affine=True)\n",
       "     (3): Linear(in_features=256, out_features=256, bias=True)\n",
       "     (4): ReLU()\n",
       "     (5): LayerNorm((256,), eps=1e-05, elementwise_affine=True)\n",
       "     (6): Linear(in_features=256, out_features=256, bias=True)\n",
       "     (7): ReLU()\n",
       "     (8): LayerNorm((256,), eps=1e-05, elementwise_affine=True)\n",
       "     (9): Linear(in_features=256, out_features=256, bias=True)\n",
       "     (10): ReLU()\n",
       "     (11): LayerNorm((256,), eps=1e-05, elementwise_affine=True)\n",
       "     (12): Linear(in_features=256, out_features=256, bias=True)\n",
       "     (13): ReLU()\n",
       "     (14): LayerNorm((256,), eps=1e-05, elementwise_affine=True)\n",
       "     (15): Linear(in_features=256, out_features=256, bias=True)\n",
       "     (16): ReLU()\n",
       "     (17): LayerNorm((256,), eps=1e-05, elementwise_affine=True)\n",
       "     (18): Linear(in_features=256, out_features=2, bias=True)\n",
       "     (19): Softmax(dim=1)\n",
       "   )\n",
       " ),\n",
       " tensor([[ 0.0370, -0.3501,  0.3173],\n",
       "         [-0.1128,  0.1220, -0.1137],\n",
       "         [ 0.0968,  0.1463,  0.0266],\n",
       "         ...,\n",
       "         [ 0.0212,  0.0707,  0.1749],\n",
       "         [ 0.0366, -0.3441,  0.3553],\n",
       "         [-0.1221, -0.3514, -0.0248]], device='cuda:0'))"
      ]
     },
     "execution_count": 36,
     "metadata": {},
     "output_type": "execute_result"
    }
   ],
   "source": [
    "main(\n",
    "    input_path=\"/kaggle/working/Affordance3DHighlighter/data/candle.obj\",\n",
    "    object_name=\"candle\",\n",
    "    highlight_region=\"head\",\n",
    "    n_views=4,\n",
    "    n_augs=1,\n",
    "    clipavg=\"view\",\n",
    "    network_depth=5,\n",
    "    network_width=256,\n",
    "    learning_rate=1e-4,\n",
    "    num_iterations=500,\n",
    "    num_points=100000,\n",
    "    device=\"cuda\",\n",
    "    output_dir=\"./output\"\n",
    ")"
   ]
  },
  {
   "cell_type": "markdown",
   "metadata": {},
   "source": [
    "### Evaluation for part 3 "
   ]
  },
  {
   "cell_type": "code",
   "execution_count": null,
   "metadata": {},
   "outputs": [],
   "source": [
    "import os\n",
    "\n",
    "# 1) Import the new modules\n",
    "from src.data_loader_fullshape import FullShapeDataset\n",
    "from src.evaluation_fullshape import evaluate_full_shape_objects\n",
    "from torch.utils.data import DataLoader\n",
    "\n",
    "# 2) Setup paths\n",
    "train_pkl = \"/kaggle/working/Affordance3DHighlighter/data/full_shape_train_data.pkl\"\n",
    "val_pkl   = \"/kaggle/working/Affordance3DHighlighter/data/full_shape_val_data.pkl\"\n",
    "device    = \"cuda\"\n",
    "\n",
    "# 3) Create dataset & dataloader (optional, but can help if we had batch usage)\n",
    "val_dataset = FullShapeDataset(val_pkl, device=device)\n",
    "print(\"Val dataset size:\", len(val_dataset))\n",
    "\n",
    "# 4) Load CLIP model, create the net, create the renderer, etc.\n",
    "from src.Clip.clip_model import get_clip_model\n",
    "from src.render.cloud_point_renderer import MultiViewPointCloudRenderer\n",
    "from src.neural_highlighter import NeuralHighlighter\n",
    "\n",
    "clip_model, preprocess, resolution = get_clip_model(clipmodel=\"ViT-L/14\")\n",
    "\n",
    "# Suppose you already trained your net or have it loaded\n",
    "# Or create a new untrained net for demonstration\n",
    "net = NeuralHighlighter(\n",
    "    depth=5,\n",
    "    width=256,\n",
    "    out_dim=2,   # highlight vs. non-highlight\n",
    "    input_dim=3\n",
    ").to(device)\n",
    "\n",
    "renderer = MultiViewPointCloudRenderer(\n",
    "    image_size=512, base_dist=20, base_elev=10, base_azim=0, device=device\n",
    ")\n",
    "\n",
    "# 5) Evaluate on the entire val set\n",
    "val_data_entries = val_dataset.data_entries  # list of dict\n",
    "output_csv_path = \"./output/full_shape_val_results.csv\"\n",
    "\n",
    "# Evaluate\n",
    "evaluate_full_shape_objects(\n",
    "    data_entries=val_data_entries,\n",
    "    net=net,\n",
    "    clip_model=clip_model,\n",
    "    renderer=renderer,\n",
    "    device=device,\n",
    "    output_csv=output_csv_path\n",
    ")\n",
    "\n",
    "# Now check the saved CSV\n",
    "print(\"Evaluation complete! See CSV at:\", output_csv_path)"
   ]
  },
  {
   "cell_type": "code",
   "execution_count": null,
   "metadata": {},
   "outputs": [],
   "source": []
  },
  {
   "cell_type": "code",
   "execution_count": null,
   "metadata": {},
   "outputs": [],
   "source": []
  }
 ],
 "metadata": {
  "accelerator": "GPU",
  "colab": {
   "gpuType": "T4",
   "provenance": []
  },
  "kaggle": {
   "accelerator": "nvidiaTeslaT4",
   "dataSources": [],
   "dockerImageVersionId": 30822,
   "isGpuEnabled": true,
   "isInternetEnabled": true,
   "language": "python",
   "sourceType": "notebook"
  },
  "kernelspec": {
   "display_name": "Python 3",
   "language": "python",
   "name": "python3"
  },
  "language_info": {
   "codemirror_mode": {
    "name": "ipython",
    "version": 3
   },
   "file_extension": ".py",
   "mimetype": "text/x-python",
   "name": "python",
   "nbconvert_exporter": "python",
   "pygments_lexer": "ipython3",
   "version": "3.10.12"
  }
 },
 "nbformat": 4,
 "nbformat_minor": 4
}
