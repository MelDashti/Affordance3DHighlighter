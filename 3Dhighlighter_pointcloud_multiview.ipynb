{
  "metadata": {
    "kernelspec": {
      "display_name": "Python 3",
      "language": "python",
      "name": "python3"
    },
    "language_info": {
      "codemirror_mode": {
        "name": "ipython",
        "version": 3
      },
      "file_extension": ".py",
      "mimetype": "text/x-python",
      "name": "python",
      "nbconvert_exporter": "python",
      "pygments_lexer": "ipython3",
      "version": "3.10.12"
    },
    "kaggle": {
      "accelerator": "nvidiaTeslaT4",
      "dataSources": [],
      "dockerImageVersionId": 30822,
      "isInternetEnabled": true,
      "language": "python",
      "sourceType": "notebook",
      "isGpuEnabled": true
    },
    "colab": {
      "gpuType": "T4",
      "provenance": []
    },
    "accelerator": "GPU"
  },
  "nbformat_minor": 0,
  "nbformat": 4,
  "cells": [
    {
      "cell_type": "code",
      "source": [],
      "metadata": {
        "colab": {
          "base_uri": "https://localhost:8080/"
        },
        "execution": {
          "iopub.status.busy": "2025-01-01T14:32:38.498175Z",
          "iopub.execute_input": "2025-01-01T14:32:38.498457Z",
          "iopub.status.idle": "2025-01-01T14:32:39.660922Z",
          "shell.execute_reply.started": "2025-01-01T14:32:38.498434Z",
          "shell.execute_reply": "2025-01-01T14:32:39.660009Z"
        },
        "id": "2rqJobuCpQLi",
        "outputId": "521060ae-5815-48bf-b5a2-9be1082f06e8",
        "trusted": true
      },
      "outputs": [
        {
          "output_type": "stream",
          "name": "stdout",
          "text": [
            "Cloning into 'Affordance3DHighlighter'...\n",
            "remote: Enumerating objects: 247, done.\u001b[K\n",
            "remote: Counting objects: 100% (9/9), done.\u001b[K\n",
            "remote: Compressing objects: 100% (9/9), done.\u001b[K\n",
            "remote: Total 247 (delta 2), reused 1 (delta 0), pack-reused 238 (from 1)\u001b[K\n",
            "Receiving objects: 100% (247/247), 2.64 MiB | 6.04 MiB/s, done.\n",
            "Resolving deltas: 100% (142/142), done.\n"
          ]
        }
      ],
      "execution_count": 1
    },
    {
      "cell_type": "code",
      "source": [
        "import os\n",
        "\n",
        "os.chdir('/content/Affordance3DHighlighter')"
      ],
      "metadata": {
        "execution": {
          "iopub.status.busy": "2025-01-01T14:32:43.089369Z",
          "iopub.execute_input": "2025-01-01T14:32:43.089724Z",
          "iopub.status.idle": "2025-01-01T14:32:43.093468Z",
          "shell.execute_reply.started": "2025-01-01T14:32:43.089694Z",
          "shell.execute_reply": "2025-01-01T14:32:43.092660Z"
        },
        "id": "fhLYzi952EEA",
        "trusted": true
      },
      "outputs": [],
      "execution_count": 2
    },
    {
      "cell_type": "code",
      "source": [
        "!pip install gdown\n",
        "!gdown --id 1siZtGusB1LfQVapTvNOiYi8aeKKAgcDF\n",
        "!unzip full-shape.zip -d /content/Affordance3DHighlighter/data/"
      ],
      "metadata": {
        "execution": {
          "iopub.status.busy": "2025-01-01T14:32:45.542095Z",
          "iopub.execute_input": "2025-01-01T14:32:45.542385Z",
          "iopub.status.idle": "2025-01-01T14:33:16.869764Z",
          "shell.execute_reply.started": "2025-01-01T14:32:45.542363Z",
          "shell.execute_reply": "2025-01-01T14:33:16.868596Z"
        },
        "trusted": true,
        "collapsed": true,
        "jupyter": {
          "outputs_hidden": true
        },
        "id": "OufUfyJM2NHk"
      },
      "outputs": [],
      "execution_count": null
    },
    {
      "cell_type": "code",
      "source": [
        "import pickle\n",
        "\n",
        "# Load training data\n",
        "with open('/kaggle/working/Affordance3DHighlighter/data/full_shape_train_data.pkl', 'rb') as train_file:\n",
        "    train_data = pickle.load(train_file)\n",
        "# Inspect the contents\n",
        "print(f\"Training Data Type: {type(train_data)}\")\n",
        "print(f\"Training Data Example: {train_data[:1]}\")"
      ],
      "metadata": {
        "collapsed": true,
        "execution": {
          "iopub.execute_input": "2024-12-31T00:37:15.380198Z",
          "iopub.status.busy": "2024-12-31T00:37:15.379956Z",
          "iopub.status.idle": "2024-12-31T00:37:19.828311Z",
          "shell.execute_reply": "2024-12-31T00:37:19.827376Z",
          "shell.execute_reply.started": "2024-12-31T00:37:15.380179Z"
        },
        "jupyter": {
          "outputs_hidden": true
        },
        "trusted": true,
        "id": "pE_BXtaR2NHl"
      },
      "outputs": [],
      "execution_count": null
    },
    {
      "cell_type": "code",
      "source": [
        "!pip install git+https://github.com/openai/CLIP.git\n",
        "!pip install kaolin==0.17.0 -f https://nvidia-kaolin.s3.us-east-2.amazonaws.com/torch-2.5.1_cu121.html"
      ],
      "metadata": {
        "execution": {
          "iopub.status.busy": "2025-01-01T14:35:07.250511Z",
          "iopub.execute_input": "2025-01-01T14:35:07.250838Z",
          "iopub.status.idle": "2025-01-01T14:35:23.271738Z",
          "shell.execute_reply.started": "2025-01-01T14:35:07.250813Z",
          "shell.execute_reply": "2025-01-01T14:35:23.270687Z"
        },
        "id": "d8vCbctxbPP4",
        "trusted": true,
        "collapsed": true,
        "jupyter": {
          "outputs_hidden": true
        }
      },
      "outputs": [],
      "execution_count": null
    },
    {
      "cell_type": "code",
      "source": [
        "\n",
        "import sys\n",
        "import torch\n",
        "\n",
        "need_pytorch3d = False\n",
        "try:\n",
        "    import pytorch3d\n",
        "except ModuleNotFoundError:\n",
        "    need_pytorch3d = True\n",
        "if need_pytorch3d:\n",
        "    pyt_version_str = torch.__version__.split(\"+\")[0].replace(\".\", \"\")\n",
        "    version_str = \"\".join([\n",
        "        f\"py3{sys.version_info.minor}_cu\",\n",
        "        torch.version.cuda.replace(\".\", \"\"),\n",
        "        f\"_pyt{pyt_version_str}\"\n",
        "    ])\n",
        "    !pip install iopath\n",
        "    if sys.platform.startswith(\"linux\"):\n",
        "        print(\"Trying to install wheel for PyTorch3D\")\n",
        "        !pip install --no-index --no-cache-dir pytorch3d -f https://dl.fbaipublicfiles.com/pytorch3d/packaging/wheels/{version_str}/download.html\n",
        "        pip_list = !pip freeze\n",
        "        need_pytorch3d = not any(i.startswith(\"pytorch3d==\") for i in pip_list)\n",
        "    if need_pytorch3d:\n",
        "        print(f\"failed to find/install wheel for {version_str}\")\n",
        "if need_pytorch3d:\n",
        "    print(\"Installing PyTorch3D from source\")\n",
        "    !pip install ninja\n",
        "    !pip install 'git+https://github.com/facebookresearch/pytorch3d.git@stable'"
      ],
      "metadata": {
        "ExecuteTime": {
          "end_time": "2024-12-26T14:58:53.585274Z",
          "start_time": "2024-12-26T14:58:48.836644Z"
        },
        "execution": {
          "iopub.status.busy": "2025-01-01T14:36:21.555574Z",
          "iopub.execute_input": "2025-01-01T14:36:21.555908Z",
          "iopub.status.idle": "2025-01-01T14:36:21.568059Z",
          "shell.execute_reply.started": "2025-01-01T14:36:21.555881Z",
          "shell.execute_reply": "2025-01-01T14:36:21.567172Z"
        },
        "id": "sRNWfRMnIzuJ",
        "trusted": true
      },
      "outputs": [],
      "execution_count": null
    },
    {
      "cell_type": "code",
      "source": [
        "!pip install open3d"
      ],
      "metadata": {
        "execution": {
          "iopub.status.busy": "2025-01-01T14:36:14.047506Z",
          "iopub.execute_input": "2025-01-01T14:36:14.047869Z",
          "iopub.status.idle": "2025-01-01T14:36:17.370993Z",
          "shell.execute_reply.started": "2025-01-01T14:36:14.047843Z",
          "shell.execute_reply": "2025-01-01T14:36:17.369917Z"
        },
        "id": "zT9LfpcRXDHy",
        "trusted": true,
        "collapsed": true,
        "jupyter": {
          "outputs_hidden": true
        }
      },
      "outputs": [],
      "execution_count": null
    },
    {
      "cell_type": "code",
      "source": [
        "!mkdir -p data/PittsburghBridge\n",
        "!wget -P data/PittsburghBridge https://dl.fbaipublicfiles.com/pytorch3d/data/PittsburghBridge/pointcloud.npz"
      ],
      "metadata": {
        "collapsed": true,
        "execution": {
          "iopub.execute_input": "2024-12-30T21:49:30.907987Z",
          "iopub.status.busy": "2024-12-30T21:49:30.907664Z",
          "iopub.status.idle": "2024-12-30T21:49:31.604721Z",
          "shell.execute_reply": "2024-12-30T21:49:31.603879Z",
          "shell.execute_reply.started": "2024-12-30T21:49:30.907957Z"
        },
        "id": "FTk44DGYYIBS",
        "jupyter": {
          "outputs_hidden": true
        },
        "trusted": true
      },
      "outputs": [],
      "execution_count": null
    },
    {
      "cell_type": "code",
      "source": [
        "\n",
        "from src.mesh import Mesh\n",
        "from pytorch3d.structures import Pointclouds\n",
        "\n",
        "from src.convertor import obj_to_pointcloud\n",
        "\n",
        "\n",
        "def bounding_sphere_normalize(points: torch.Tensor) -> torch.Tensor:\n",
        "    \"\"\"\n",
        "    points: (N,3) tensor of point coords\n",
        "    Return normalized points in a unit sphere centered at origin.\n",
        "    \"\"\"\n",
        "    center = points.mean(dim=0, keepdim=True)\n",
        "    max_dist = (points - center).norm(p=2, dim=1).max()\n",
        "    points_normed = (points - center) / max_dist\n",
        "    return points_normed\n",
        "\n",
        "\n",
        "def load_3d_data(file_path, num_points=10000, device=\"cuda\", do_normalize=True):\n",
        "    \"\"\"\n",
        "    Loads 3D data as PyTorch3D Pointclouds from either NPZ point cloud or OBJ mesh.\n",
        "\n",
        "    Args:\n",
        "        file_path: Path to either .npz point cloud or .obj mesh file\n",
        "        num_points: Number of points to sample if loading from mesh\n",
        "        device: Device to load data on\n",
        "\n",
        "    Returns:\n",
        "        Pointclouds object containing points and features\n",
        "    \"\"\"\n",
        "    file_ext = file_path.split('.')[-1].lower()\n",
        "\n",
        "    if file_ext == 'npz':\n",
        "        # Load NPZ point cloud directly like in the example\n",
        "        pointcloud = np.load(file_path)\n",
        "        verts = torch.Tensor(pointcloud['verts']).to(device)\n",
        "        rgb = torch.Tensor(pointcloud['rgb']).to(device)\n",
        "\n",
        "        print(\"lenght of the data\")\n",
        "        print(len(verts))\n",
        "\n",
        "        # Subsample if needed\n",
        "        if len(verts) > num_points:\n",
        "            idx = torch.randperm(len(verts))[:num_points]\n",
        "            verts = verts[idx]\n",
        "            rgb = rgb[idx]\n",
        "\n",
        "        if do_normalize:\n",
        "            verts = bounding_sphere_normalize(verts)\n",
        "\n",
        "        # Return both the points tensor and the Pointclouds object\n",
        "        point_cloud = Pointclouds(points=[verts], features=[rgb])\n",
        "        return verts, point_cloud  # Return both\n",
        "\n",
        "    elif file_ext == 'obj':\n",
        "        # Load and convert your OBJ file\n",
        "        points, point_cloud = obj_to_pointcloud(\n",
        "            file_path,\n",
        "            num_points=num_points,  # Adjust this number as needed\n",
        "            device=\"cuda\"  # Use \"cpu\" if you don't have a GPU\n",
        "        )\n",
        "        if do_normalize:\n",
        "            points = bounding_sphere_normalize(points)\n",
        "            # here we update the point cloud too\n",
        "            rgb = point_cloud.features_packed() # shape [N,3]\n",
        "            point_cloud = Pointclouds(points = [points], features = [rgb])\n",
        "        return points, point_cloud\n",
        "        # # Load mesh and sample points\n",
        "        # mesh = Mesh(file_path)\n",
        "        # vertices = mesh.vertices\n",
        "\n",
        "        # # Sample random points\n",
        "        # idx = torch.randperm(vertices.shape[0])[:num_points]\n",
        "        # points = vertices[idx].to(device)\n",
        "\n",
        "        # # Initialize with gray color\n",
        "        # colors = torch.ones_like(points) * 0.7\n",
        "\n",
        "        # return Pointclouds(points=[points], features=[colors])\n",
        "\n",
        "    else:\n",
        "        raise ValueError(f\"Unsupported file format: {file_ext}. Only .npz and .obj are supported.\")\n",
        "\n"
      ],
      "metadata": {
        "execution": {
          "iopub.status.busy": "2025-01-01T14:36:26.236843Z",
          "iopub.execute_input": "2025-01-01T14:36:26.237129Z",
          "iopub.status.idle": "2025-01-01T14:36:29.035862Z",
          "shell.execute_reply.started": "2025-01-01T14:36:26.237107Z",
          "shell.execute_reply": "2025-01-01T14:36:29.035082Z"
        },
        "trusted": true,
        "id": "fxo1SjSH2NHm",
        "outputId": "7c02f196-9f42-4181-ebeb-3d36e2e5da01",
        "colab": {
          "base_uri": "https://localhost:8080/",
          "height": 138
        }
      },
      "outputs": [
        {
          "output_type": "stream",
          "name": "stdout",
          "text": [
            "Warp 1.5.1 initialized:\n",
            "   CUDA Toolkit 12.6, Driver 12.2\n",
            "   Devices:\n",
            "     \"cpu\"      : \"x86_64\"\n",
            "     \"cuda:0\"   : \"Tesla T4\" (15 GiB, sm_75, mempool enabled)\n",
            "   Kernel cache:\n",
            "     /root/.cache/warp/1.5.1\n"
          ]
        }
      ],
      "execution_count": 7
    },
    {
      "cell_type": "code",
      "source": [
        "def print_grad_fn(tensor, depth=0):\n",
        "    \"\"\"Recursively print the gradient function graph\"\"\"\n",
        "    if tensor.grad_fn is None:\n",
        "        print(\"  \" * depth + \"None (leaf tensor)\")\n",
        "        return\n",
        "\n",
        "    print(\"  \" * depth + str(tensor.grad_fn))\n",
        "    for fn in tensor.grad_fn.next_functions:\n",
        "        if fn[0] is not None:\n",
        "            print(\"  \" * (depth + 1) + str(fn[0]))"
      ],
      "metadata": {
        "collapsed": true,
        "execution": {
          "iopub.execute_input": "2024-12-29T14:25:41.677365Z",
          "iopub.status.busy": "2024-12-29T14:25:41.677027Z",
          "iopub.status.idle": "2024-12-29T14:25:41.682294Z",
          "shell.execute_reply": "2024-12-29T14:25:41.681359Z",
          "shell.execute_reply.started": "2024-12-29T14:25:41.677336Z"
        },
        "jupyter": {
          "outputs_hidden": true
        },
        "trusted": true,
        "id": "kBamsUCJ2NHn"
      },
      "outputs": [],
      "execution_count": null
    },
    {
      "cell_type": "code",
      "source": [
        "\n",
        "from src.render.cloud_point_renderer import MultiViewPointCloudRenderer\n",
        "from src.save_results import save_renders, save_results\n",
        "from src.neural_highlighter import NeuralHighlighter\n",
        "from src.Clip.loss_function import clip_loss\n",
        "from src.Clip.clip_model import get_clip_model, encode_text, setup_clip_transforms\n",
        "\n",
        "import torch\n",
        "import numpy as np\n",
        "import random\n",
        "from tqdm import tqdm\n",
        "\n",
        "# Constrain most sources of randomness\n",
        "# (some torch backwards functions within CLIP are non-determinstic)\n",
        "# Set a consistent seed for reproducibility\n",
        "seed = 0  # You can use any integer value\n",
        "torch.manual_seed(seed)\n",
        "torch.cuda.manual_seed(seed)\n",
        "torch.cuda.manual_seed_all(seed)\n",
        "random.seed(seed)\n",
        "np.random.seed(seed)\n",
        "torch.backends.cudnn.benchmark = False\n",
        "torch.backends.cudnn.deterministic = True\n",
        "\n",
        "\n",
        "def optimize_point_cloud(points, clip_model, renderer, encoded_text, log_dir: str, **kwargs):\n",
        "    num_iterations = kwargs.get('num_iterations', 1000)\n",
        "    learning_rate = kwargs.get('learning_rate', 1e-4)\n",
        "    depth = kwargs.get('depth', 5)\n",
        "    width = kwargs.get('network_width', 256)\n",
        "    n_views = kwargs.get(\"n_views\", 4)\n",
        "    n_augs = kwargs.get('n_augs', 1)\n",
        "    clipavg = kwargs.get('clipavg', 'view')\n",
        "    device = kwargs.get('device', 'cuda')\n",
        "\n",
        "    # Initialize network and optimizer\n",
        "    net = NeuralHighlighter(\n",
        "        depth=depth,  # Number of hidden layers\n",
        "        width=width,  # Width of each layer\n",
        "        out_dim=2,  # Binary classification (highlight/no-highlight)\n",
        "        input_dim=3,  # 3D coordinates (x,y,z)\n",
        "        positional_encoding=False  # As recommended in the paper\n",
        "    ).to(device)\n",
        "    optimizer = torch.optim.Adam(net.parameters(), lr=learning_rate)\n",
        "\n",
        "    # Set up the transforms\n",
        "    clip_transform, augment_transform = setup_clip_transforms()\n",
        "\n",
        "    # Training loop\n",
        "    for i in tqdm(range(num_iterations)):\n",
        "        optimizer.zero_grad()\n",
        "\n",
        "        # Predict highlight probabilities\n",
        "        pred_class = net(points)\n",
        "\n",
        "        # Create colors based on predictions\n",
        "        highlight_color = torch.tensor([204 / 255, 1.0, 0.0]).to(device)\n",
        "        base_color = torch.tensor([180 / 255, 180 / 255, 180 / 255]).to(device)\n",
        "\n",
        "        colors = pred_class[:, 0:1] * highlight_color + pred_class[:, 1:2] * base_color\n",
        "\n",
        "        # Create and render point cloud\n",
        "        point_cloud = renderer.create_point_cloud(points, colors)\n",
        "        rendered_images = renderer.render_all_views(point_cloud=point_cloud, n_views=n_views)\n",
        "        # Convert dictionary of images to tensor\n",
        "        rendered_tensor = []\n",
        "        for name, img in rendered_images.items():\n",
        "            rendered_tensor.append(img.to(device))\n",
        "        rendered_tensor = torch.stack(rendered_tensor)\n",
        "\n",
        "        #Convert rendered images to CLIP format\n",
        "        rendered_images = rendered_tensor.permute(0, 3, 1, 2)  # [B, H, W, C] -> [B, C, H, W]\n",
        "        #print(rendered_images.shape)\n",
        "\n",
        "        # Calculate CLIP loss\n",
        "        loss = clip_loss(\n",
        "            rendered_images=rendered_images,\n",
        "            encoded_text=encoded_text,\n",
        "            clip_transform=clip_transform,\n",
        "            augment_transform=augment_transform,\n",
        "            clip_model=clip_model,\n",
        "            n_augs=n_augs,\n",
        "            clipavg=clipavg\n",
        "        )\n",
        "        #print(\"Loss computation graph:\")\n",
        "        #print_grad_fn(loss)\n",
        "        loss.backward()\n",
        "        optimizer.step()\n",
        "\n",
        "        if i % 100 == 0:\n",
        "            print(f\"Iteration {i}, Loss: {loss.item():.4f}\")\n",
        "            save_renders(log_dir, i, rendered_images)\n",
        "\n",
        "    return net\n",
        "\n",
        "\n",
        "def main(input_path, object_name, highlight_region, **kwargs):\n",
        "    \"\"\"\n",
        "    Main function for 3D highlighting with configurable parameters.\n",
        "\n",
        "    Args:\n",
        "        input_path: Path to input 3D file (mesh or point cloud)\n",
        "        object_name: Name of the object for the prompt\n",
        "        highlight_region: Region to highlight\n",
        "        **kwargs: Optional parameters with defaults:\n",
        "            n_views: Number of views to render (default: 5)\n",
        "            n_aug: Number of augmentations (default: 5)\n",
        "            clipavg: Method for CLIP averaging (default: \"view\")\n",
        "            network_depth: Depth of neural network (default: 5)\n",
        "            network_width: Width of neural layers (default: 256)\n",
        "            learning_rate: Learning rate for optimization (default: 1e-4)\n",
        "            num_iterations: Number of training iterations (default: 500)\n",
        "            num_points: Number of points to sample (default: 10000)\n",
        "            device: Device to run on (default: \"cuda\")\n",
        "            output_dir: Directory for outputs (default: \"./output\")\n",
        "    \"\"\"\n",
        "    # Extract parameters from kwargs with defaults\n",
        "    n_views = kwargs.get(\"n_views\", 4)\n",
        "    num_points = kwargs.get(\"num_points\", 10000)\n",
        "    device = kwargs.get(\"device\", \"cuda\")\n",
        "    output_dir = kwargs.get(\"output_dir\", \"./output\")\n",
        "    do_normalize = kwargs.get(\"do_normalize\", True)\n",
        "\n",
        "    try:\n",
        "        # Create output directory if it doesn't exist\n",
        "        os.makedirs(output_dir, exist_ok=True)\n",
        "\n",
        "        # Load 3D data (either mesh or point cloud)\n",
        "        print(f\"Loading 3D data from {input_path}...\")\n",
        "        points, point_cloud = load_3d_data(input_path, num_points=num_points, device=device)\n",
        "        print(f\"Loaded {len(points)} points\")\n",
        "\n",
        "        # Setup CLIP model\n",
        "        print(\"Setting up CLIP model...\")\n",
        "        clip_model, preprocess, resolution = get_clip_model()\n",
        "\n",
        "        # Create and encode prompt\n",
        "        prompt = f\"A 3D render of a gray {object_name} with highlighted {highlight_region}\"\n",
        "        print(f\"Using prompt: {prompt}\")\n",
        "        text_features = encode_text(clip_model, prompt, device)\n",
        "\n",
        "        # Initialize renderer\n",
        "        print(\"Setting up renderer...\")\n",
        "        renderer = MultiViewPointCloudRenderer(\n",
        "            image_size=512,\n",
        "            base_dist=30,  # Your default view distance\n",
        "            base_elev=10,  # Your default elevation\n",
        "            base_azim=0,  # Your default azimuth\n",
        "            device=device\n",
        "        )\n",
        "\n",
        "        # Optimize point cloud highlighting\n",
        "        print(\"Starting optimization...\")\n",
        "        net = optimize_point_cloud(\n",
        "            points=points,\n",
        "            renderer=renderer,\n",
        "            clip_model=clip_model,\n",
        "            encoded_text=text_features,\n",
        "            log_dir=output_dir,\n",
        "            **kwargs\n",
        "        )\n",
        "\n",
        "        # Save results\n",
        "        print(\"Saving results...\")\n",
        "        save_results(\n",
        "            net=net,\n",
        "            points=points,\n",
        "            n_views=n_views,\n",
        "            prompt=prompt,\n",
        "            output_dir=output_dir,\n",
        "            renderer=renderer,\n",
        "            device=device\n",
        "        )\n",
        "\n",
        "        print(\"Processing complete!\")\n",
        "        return net, points\n",
        "\n",
        "    except Exception as e:\n",
        "        print(f\"Error in processing: {str(e)}\")\n",
        "        raise\n",
        "\n"
      ],
      "metadata": {
        "execution": {
          "iopub.status.busy": "2025-01-01T14:36:34.620779Z",
          "iopub.execute_input": "2025-01-01T14:36:34.621176Z",
          "iopub.status.idle": "2025-01-01T14:36:36.982381Z",
          "shell.execute_reply.started": "2025-01-01T14:36:34.621151Z",
          "shell.execute_reply": "2025-01-01T14:36:36.981685Z"
        },
        "id": "E0SBrmlBkwib",
        "trusted": true
      },
      "outputs": [],
      "execution_count": 8
    },
    {
      "cell_type": "code",
      "source": [
        "main(\n",
        "    input_path=\"/kaggle/working/Affordance3DHighlighter/data/candle.obj\",\n",
        "    object_name=\"candle\",\n",
        "    highlight_region=\"head\",\n",
        "    n_views=4,\n",
        "    n_augs=1,\n",
        "    clipavg=\"view\",\n",
        "    network_depth=5,\n",
        "    network_width=256,\n",
        "    learning_rate=1e-4,\n",
        "    num_iterations=500,\n",
        "    num_points=100000,\n",
        "    device=\"cuda\",\n",
        "    output_dir=\"./output\"\n",
        ")"
      ],
      "metadata": {
        "collapsed": true,
        "execution": {
          "iopub.execute_input": "2024-12-29T14:51:45.103620Z",
          "iopub.status.busy": "2024-12-29T14:51:45.103314Z",
          "iopub.status.idle": "2024-12-29T14:55:01.180282Z",
          "shell.execute_reply": "2024-12-29T14:55:01.179493Z",
          "shell.execute_reply.started": "2024-12-29T14:51:45.103597Z"
        },
        "id": "uD_gYzdOpy-t",
        "jupyter": {
          "outputs_hidden": true
        },
        "trusted": true
      },
      "outputs": [],
      "execution_count": null
    },
    {
      "cell_type": "markdown",
      "source": [
        "### Evaluation for part 3"
      ],
      "metadata": {
        "id": "wWM3ZR9_2NHo"
      }
    },
    {
      "cell_type": "markdown",
      "source": [
        "Ground truth visual representation"
      ],
      "metadata": {
        "id": "XEKOPuSx2NHp"
      }
    },
    {
      "cell_type": "code",
      "source": [
        "from src.save_results import save_point_cloud_results\n",
        "def save_ground_truth_results(data_entry, output_dir, renderer, device=\"cuda\", n_views=4):\n",
        "    \"\"\"\n",
        "    Saves visualization of ground truth affordance labels using existing save functions.\n",
        "    Now with more contrasting colors for better visibility.\n",
        "\n",
        "    Args:\n",
        "        data_entry: Dataset entry containing point cloud and labels\n",
        "        output_dir: Directory to save results\n",
        "        renderer: Point cloud renderer\n",
        "        device: Computing device\n",
        "        n_views: Number of views to render\n",
        "    \"\"\"\n",
        "    with torch.no_grad():\n",
        "        points = data_entry[\"coords\"]\n",
        "        labels_dict = data_entry[\"labels_dict\"]\n",
        "        shape_class = data_entry[\"shape_class\"]\n",
        "\n",
        "        # Create ground truth directory\n",
        "        gt_dir = os.path.join(output_dir, 'ground_truth')\n",
        "        os.makedirs(gt_dir, exist_ok=True)\n",
        "\n",
        "        # Define colors for different affordances\n",
        "        affordance_colors = {\n",
        "            'openable': torch.tensor([1.0, 0.0, 0.0]).to(device),  # bright red\n",
        "            'pushable': torch.tensor([0.0, 0.0, 1.0]).to(device),  # bright blue\n",
        "            'pull': torch.tensor([0.0, 1.0, 0.0]).to(device)       # bright green\n",
        "        }\n",
        "\n",
        "        # Darker base color for better contrast\n",
        "        base_color = torch.tensor([0.3, 0.3, 0.3]).to(device)  # darker gray\n",
        "\n",
        "        # Process each affordance\n",
        "        for affordance, labels in labels_dict.items():\n",
        "            # Convert labels to the same format as network predictions\n",
        "            pred_class = torch.stack([1 - labels, labels], dim=1)\n",
        "\n",
        "            # Use the corresponding color for this affordance\n",
        "            highlight_color = affordance_colors.get(affordance, torch.tensor([1.0, 0.0, 0.0]).to(device))  # default to red\n",
        "            colors = pred_class[:, 1:2] * highlight_color + pred_class[:, 0:1] * base_color\n",
        "\n",
        "            # Save raw point cloud data using existing function\n",
        "            save_point_cloud_results(\n",
        "                points=points,\n",
        "                colors=colors,\n",
        "                output_path=os.path.join(gt_dir, f'gt_pointcloud_{affordance}.ply')\n",
        "            )\n",
        "\n",
        "            # Create and render point cloud\n",
        "            point_cloud = renderer.create_point_cloud(points, colors)\n",
        "            rendered_images = renderer.render_all_views(point_cloud=point_cloud, n_views=n_views)\n",
        "\n",
        "            # Convert dictionary of images to tensor\n",
        "            rendered_tensor = []\n",
        "            for name, img in rendered_images.items():\n",
        "                rendered_tensor.append(img.to(device))\n",
        "            rendered_tensor = torch.stack(rendered_tensor)\n",
        "\n",
        "            # Convert rendered images to proper format\n",
        "            rendered_images = rendered_tensor.permute(0, 3, 1, 2)  # [B, H, W, C] -> [B, C, H, W]\n",
        "            rendered_images = (rendered_images * 255).clamp(0, 255).to(torch.uint8)\n",
        "\n",
        "            # Save rendered images using existing function\n",
        "            save_renders(\n",
        "                dir=gt_dir,\n",
        "                i=0,\n",
        "                rendered_images=rendered_images.float() / 255.0,\n",
        "                name=f'gt_render_{affordance}.png'\n",
        "            )\n",
        "\n",
        "            # Save metadata\n",
        "            with open(os.path.join(gt_dir, f'gt_info_{affordance}.txt'), 'w') as f:\n",
        "                f.write(f\"Shape Class: {shape_class}\\n\")\n",
        "                f.write(f\"Affordance: {affordance}\\n\")\n",
        "                f.write(f\"Positive labels: {labels.sum().item()}/{len(labels)}\")"
      ],
      "metadata": {
        "id": "MIty92B94HEW"
      },
      "execution_count": 14,
      "outputs": []
    },
    {
      "cell_type": "markdown",
      "source": [
        "### Part 3\n",
        "Hyperparam + Strategy Tuning, Then Test Evaluation\n",
        "Teammates focus on the below code block for the reporting part of part 3."
      ],
      "metadata": {
        "id": "-fdoEbMQ2NHp"
      }
    },
    {
      "metadata": {
        "id": "vFI0Nlrz2NHp"
      },
      "cell_type": "code",
      "outputs": [],
      "execution_count": 17,
      "source": [
        "from src.prompt_strategies import generate_affordance_prompt\n",
        "\n",
        "\n",
        "def grid_search_validation(\n",
        "    val_dataset, # validation set\n",
        "    clip_model,  # clip model\n",
        "    device='cuda',\n",
        "    strategies=('basic','affordance_specific'),\n",
        "    thresholds=(0.3, 0.5, 0.7),\n",
        "    num_val_objects=3,  # number of validation objects to use\n",
        "    num_iterations=200,\n",
        "    output_dir=\"./val_gridsearch\"\n",
        "):\n",
        "    \"\"\"\n",
        "    For each (strategy, threshold), pick up to 'num_val_objects' shapes from val_dataset,\n",
        "    train & evaluate *per affordance* => average IoU => pick best combo.\n",
        "    \"\"\"\n",
        "    import random\n",
        "    import os\n",
        "\n",
        "    os.makedirs(output_dir, exist_ok=True)\n",
        "    val_indices = list(range(min(num_val_objects, len(val_dataset))))\n",
        "\n",
        "    best_strategy = None\n",
        "    best_threshold = None\n",
        "    best_iou = -1.0\n",
        "    all_results = []\n",
        "\n",
        "    print(\"[grid_search_validation] Starting shape-by-shape (per-affordance) training on validation...\")\n",
        "\n",
        "    for strategy in strategies:\n",
        "        for th in thresholds:\n",
        "            print(f\"\\n=== Trying strategy='{strategy}', threshold={th} ===\")\n",
        "\n",
        "            sum_iou = 0.0\n",
        "            count_shapes = 0\n",
        "\n",
        "            combo_dir = os.path.join(output_dir, f\"val_{strategy}_th{th}\")\n",
        "            os.makedirs(combo_dir, exist_ok=True)\n",
        "\n",
        "            # For each shape in val_indices\n",
        "            for i, idx in enumerate(val_indices):\n",
        "                shape_entry = val_dataset[idx]\n",
        "                shape_id = shape_entry.get('shape_id', f'valshape_{idx}')\n",
        "                shape_class = shape_entry[\"shape_class\"]\n",
        "                affs = shape_entry[\"affordances\"]\n",
        "                label_dict = shape_entry[\"labels_dict\"]\n",
        "\n",
        "                # Convert coords to tensor if not already\n",
        "                shape_coords = shape_entry[\"coords\"]\n",
        "                if not isinstance(shape_coords, torch.Tensor):\n",
        "                    shape_coords = torch.tensor(shape_coords, device=device)\n",
        "\n",
        "                shape_subdir = os.path.join(combo_dir, f\"val_shape_{shape_id}\")\n",
        "                os.makedirs(shape_subdir, exist_ok=True)\n",
        "\n",
        "                print(f\"  -> [Shape {i+1}/{len(val_indices)}] ID={shape_id}, Class={shape_class}, Affs={affs}\")\n",
        "\n",
        "                try:\n",
        "                    # 1) Save ground truth visualization\n",
        "                    renderer = MultiViewPointCloudRenderer(\n",
        "                        image_size=256, base_dist=20, base_elev=10, device=device\n",
        "                    )\n",
        "                    save_ground_truth_results(\n",
        "                        data_entry=shape_entry,\n",
        "                        output_dir=shape_subdir,\n",
        "                        renderer=renderer,\n",
        "                        device=device,\n",
        "                        n_views=4\n",
        "                    )\n",
        "\n",
        "                    # 2) Train & evaluate *separately* for each affordance\n",
        "                    shape_sum_iou = 0.0\n",
        "\n",
        "                    for aff in affs:\n",
        "                        # Create a sub-folder for this affordance’s run\n",
        "                        aff_subdir = os.path.join(shape_subdir, f\"aff_{aff}\")\n",
        "                        os.makedirs(aff_subdir, exist_ok=True)\n",
        "                        os.makedirs(os.path.join(aff_subdir, \"predictions\"), exist_ok=True)\n",
        "\n",
        "                        # (a) Fresh network\n",
        "                        net = NeuralHighlighter(depth=5, width=256, out_dim=2, input_dim=3).to(device)\n",
        "\n",
        "                        # (b) Prompt for *this* affordance\n",
        "                        prompt_str = generate_affordance_prompt(shape_class, aff, strategy)\n",
        "                        text_feats = encode_text(clip_model, prompt_str, device=device)\n",
        "\n",
        "                        # (c) Optimize\n",
        "                        net = optimize_point_cloud(\n",
        "                            points=shape_coords,\n",
        "                            clip_model=clip_model,\n",
        "                            renderer=renderer,\n",
        "                            encoded_text=text_feats,\n",
        "                            log_dir=os.path.join(aff_subdir, \"optimization_logs\"),\n",
        "                            num_iterations=num_iterations,\n",
        "                            device=device,\n",
        "                            n_views=4\n",
        "                        )\n",
        "\n",
        "                        # (d) Save predictions\n",
        "                        save_results(\n",
        "                            net=net,\n",
        "                            points=shape_coords,\n",
        "                            prompt=prompt_str,\n",
        "                            output_dir=os.path.join(aff_subdir, \"predictions\"),\n",
        "                            renderer=renderer,\n",
        "                            device=device,\n",
        "                            n_views=4\n",
        "                        )\n",
        "\n",
        "                        # (e) Compute IoU for *this* affordance\n",
        "                        with torch.no_grad():\n",
        "                            pred_class = net(shape_coords)  # shape [N,2]\n",
        "                            highlight_scores = pred_class[:, 0]\n",
        "\n",
        "                        gt_bin = (label_dict[aff] > 0.0).long()\n",
        "                        bin_pred = (highlight_scores >= th).long()\n",
        "                        iou_val = compute_mIoU(bin_pred, gt_bin)\n",
        "\n",
        "                        # Save a quick metrics file for this affordance\n",
        "                        with open(os.path.join(aff_subdir, \"metrics.txt\"), 'w') as f:\n",
        "                            f.write(f\"Validation shape ID: {shape_id}\\n\")\n",
        "                            f.write(f\"Affordance: {aff}\\n\")\n",
        "                            f.write(f\"Prompt strategy: {strategy}\\n\")\n",
        "                            f.write(f\"Threshold: {th}\\n\")\n",
        "                            f.write(f\"IoU: {iou_val:.3f}\\n\")\n",
        "\n",
        "                        shape_sum_iou += iou_val\n",
        "\n",
        "                    # (f) Average IoU across all affs for this shape\n",
        "                    shape_mean_iou = shape_sum_iou / len(affs) if len(affs) > 0 else 0.0\n",
        "\n",
        "                    # Summation for this (strategy, threshold) combo\n",
        "                    sum_iou += shape_mean_iou\n",
        "                    count_shapes += 1\n",
        "\n",
        "                    # Write shape-level metrics\n",
        "                    with open(os.path.join(shape_subdir, \"metrics_summary.txt\"), 'w') as f:\n",
        "                        f.write(f\"Validation shape ID: {shape_id}\\n\")\n",
        "                        f.write(f\"All affordances: {affs}\\n\")\n",
        "                        f.write(f\"Final shape mean IoU (averaged over {len(affs)} affs) = {shape_mean_iou:.3f}\\n\")\n",
        "\n",
        "                    print(f\"     Shape mean IoU => {shape_mean_iou:.3f}\")\n",
        "\n",
        "                except Exception as e:\n",
        "                    print(f\"[Warning] Skipped shape idx={idx} due to error: {e}\")\n",
        "                    continue\n",
        "\n",
        "            # After finishing these shapes for this (strategy, threshold) combo...\n",
        "            avg_iou = sum_iou / count_shapes if count_shapes > 0 else 0.0\n",
        "            all_results.append((strategy, th, avg_iou))\n",
        "            print(f\"\\n>>> Combo (strategy={strategy}, threshold={th}) => Mean IoU={avg_iou:.3f} over {count_shapes} shapes\")\n",
        "\n",
        "            # Track best\n",
        "            if avg_iou > best_iou:\n",
        "                best_iou = avg_iou\n",
        "                best_strategy = strategy\n",
        "                best_threshold = th\n",
        "\n",
        "    print(\"\\n[grid_search_validation] Validation combos sorted by best IoU:\")\n",
        "    sorted_res = sorted(all_results, key=lambda x: x[2], reverse=True)\n",
        "    for (s, t, iou) in sorted_res:\n",
        "        print(f\"    Strategy={s}, Threshold={t}, IoU={iou:.3f}\")\n",
        "\n",
        "    print(f\"\\n[grid_search_validation] Best strategy={best_strategy}, threshold={best_threshold}, average mIoU={best_iou:.3f}\")\n",
        "    return best_strategy, best_threshold, best_iou\n",
        "\n",
        "def test_phase_evaluation(\n",
        "    test_dataset,\n",
        "    clip_model,\n",
        "    best_strategy,\n",
        "    best_threshold,\n",
        "    device='cuda',\n",
        "    num_test_shapes=3,\n",
        "    num_iterations=200,\n",
        "    output_dir=\"./test_results\"\n",
        "):\n",
        "    \"\"\"\n",
        "    Evaluate the pipeline on the test dataset, *per affordance*.\n",
        "    Returns the final average test IoU (averaged across shapes and affordances).\n",
        "    \"\"\"\n",
        "    import os\n",
        "    import torch\n",
        "    import random\n",
        "\n",
        "    test_indices = list(range(min(num_test_shapes, len(test_dataset))))\n",
        "    sum_test_iou = 0.0\n",
        "    count_shapes = 0\n",
        "\n",
        "    print(f\"[test_phase_evaluation] Using strategy={best_strategy}, threshold={best_threshold}\")\n",
        "\n",
        "    for idx in test_indices:\n",
        "        shape_entry = test_dataset[idx]\n",
        "        shape_id = shape_entry.get('shape_id', f'shape_{idx}')\n",
        "        shape_class = shape_entry[\"shape_class\"]\n",
        "        affs = shape_entry[\"affordances\"]\n",
        "        label_dict = shape_entry[\"labels_dict\"]\n",
        "\n",
        "        shape_dir = os.path.join(output_dir, f\"test_shape_{shape_id}\")\n",
        "        os.makedirs(shape_dir, exist_ok=True)\n",
        "\n",
        "        print(f\"  -> [Test Shape] ID={shape_id}, Class={shape_class}, Affs={affs}\")\n",
        "\n",
        "        try:\n",
        "            # 1) Save ground truth visualization\n",
        "            renderer = MultiViewPointCloudRenderer(\n",
        "                image_size=256, base_dist=20, base_elev=10, device=device\n",
        "            )\n",
        "            save_ground_truth_results(\n",
        "                data_entry=shape_entry,\n",
        "                output_dir=shape_dir,\n",
        "                renderer=renderer,\n",
        "                device=device,\n",
        "                n_views=4\n",
        "            )\n",
        "\n",
        "            shape_coords = shape_entry[\"coords\"]\n",
        "            if not isinstance(shape_coords, torch.Tensor):\n",
        "                shape_coords = torch.tensor(shape_coords, device=device)\n",
        "\n",
        "            # 2) For each affordance, train a new network and compute IoU\n",
        "            shape_sum_iou = 0.0\n",
        "\n",
        "            for aff in affs:\n",
        "                aff_dir = os.path.join(shape_dir, f\"aff_{aff}\")\n",
        "                os.makedirs(aff_dir, exist_ok=True)\n",
        "\n",
        "                # (a) Fresh net\n",
        "                net = NeuralHighlighter(depth=5, width=256, out_dim=2, input_dim=3).to(device)\n",
        "\n",
        "                # (b) Prompt\n",
        "                prompt_str = generate_affordance_prompt(shape_class, aff, best_strategy)\n",
        "                text_feats = encode_text(clip_model, prompt_str, device=device)\n",
        "\n",
        "                # (c) Optimize\n",
        "                net = optimize_point_cloud(\n",
        "                    points=shape_coords,\n",
        "                    clip_model=clip_model,\n",
        "                    renderer=renderer,\n",
        "                    encoded_text=text_feats,\n",
        "                    log_dir=os.path.join(aff_dir, \"optimization_logs\"),\n",
        "                    num_iterations=num_iterations,\n",
        "                    device=device,\n",
        "                    n_views=4\n",
        "                )\n",
        "\n",
        "                # (d) Save predictions\n",
        "                os.makedirs(os.path.join(aff_dir, \"predictions\"), exist_ok=True)\n",
        "                save_results(\n",
        "                    net=net,\n",
        "                    points=shape_coords,\n",
        "                    prompt=prompt_str,\n",
        "                    output_dir=os.path.join(aff_dir, \"predictions\"),\n",
        "                    renderer=renderer,\n",
        "                    device=device,\n",
        "                    n_views=4\n",
        "                )\n",
        "\n",
        "                # (e) Compute IoU for this aff\n",
        "                with torch.no_grad():\n",
        "                    pred_class = net(shape_coords)\n",
        "                    highlight_scores = pred_class[:, 0]\n",
        "\n",
        "                gt_bin = (label_dict[aff] > 0.0).long()\n",
        "                bin_pred = (highlight_scores >= best_threshold).long()\n",
        "                iou_val = compute_mIoU(bin_pred, gt_bin)\n",
        "                shape_sum_iou += iou_val\n",
        "\n",
        "                # Save per-affordance metrics\n",
        "                with open(os.path.join(aff_dir, \"metrics.txt\"), 'w') as f:\n",
        "                    f.write(f\"Test shape ID: {shape_id}\\n\")\n",
        "                    f.write(f\"Affordance: {aff}\\n\")\n",
        "                    f.write(f\"Prompt strategy: {best_strategy}\\n\")\n",
        "                    f.write(f\"Threshold: {best_threshold}\\n\")\n",
        "                    f.write(f\"IoU: {iou_val:.3f}\\n\")\n",
        "\n",
        "            # 3) Average IoU across this shape’s affordances\n",
        "            shape_mean = shape_sum_iou / len(affs) if len(affs) > 0 else 0.0\n",
        "            sum_test_iou += shape_mean\n",
        "            count_shapes += 1\n",
        "\n",
        "            # Write shape-level summary\n",
        "            with open(os.path.join(shape_dir, \"metrics_summary.txt\"), 'w') as f:\n",
        "                f.write(f\"Shape ID: {shape_id}\\n\")\n",
        "                f.write(f\"Class: {shape_class}\\n\")\n",
        "                f.write(f\"Affordances: {affs}\\n\")\n",
        "                f.write(f\"Strategy: {best_strategy}\\n\")\n",
        "                f.write(f\"Threshold: {best_threshold}\\n\")\n",
        "                f.write(f\"Mean IoU (this shape): {shape_mean:.3f}\\n\")\n",
        "\n",
        "            print(f\"     shape mean IoU => {shape_mean:.3f}\")\n",
        "\n",
        "        except Exception as e:\n",
        "            print(f\"  [Warning] Skipped shape idx={idx} due to error: {e}\")\n",
        "            continue\n",
        "\n",
        "    # 4) Final average over all tested shapes\n",
        "    final_test_iou = sum_test_iou / count_shapes if count_shapes > 0 else 0.0\n",
        "    print(f\"[test_phase_evaluation] Final mIoU = {final_test_iou:.3f} (over {count_shapes} shapes)\")\n",
        "\n",
        "    # Save overall test results\n",
        "    with open(os.path.join(output_dir, \"test_summary.txt\"), 'w') as f:\n",
        "        f.write(\"Test Summary\\n\")\n",
        "        f.write(\"============\\n\")\n",
        "        f.write(f\"Number of shapes tested: {count_shapes}\\n\")\n",
        "        f.write(f\"Best strategy: {best_strategy}\\n\")\n",
        "        f.write(f\"Best threshold: {best_threshold}\\n\")\n",
        "        f.write(f\"Final mIoU: {final_test_iou:.3f}\\n\")\n",
        "\n",
        "    return final_test_iou\n",
        "\n",
        "\n",
        "def compute_mIoU(pred_labels, gt_labels):\n",
        "    intersection = ((pred_labels == 1) & (gt_labels == 1)).sum().float()\n",
        "    union = ((pred_labels == 1) | (gt_labels == 1)).sum().float()\n",
        "    if union == 0:\n",
        "        return 0.0\n",
        "    return (intersection / union).item()"
      ]
    },
    {
      "metadata": {
        "id": "IeqFmgmU2NHq"
      },
      "cell_type": "markdown",
      "source": [
        "## Here we pass different strategies and threshold values."
      ]
    },
    {
      "metadata": {
        "id": "rCVuykp52NHq",
        "outputId": "385ca181-e613-476e-9f77-3129961c7dee",
        "colab": {
          "base_uri": "https://localhost:8080/",
          "height": 1000
        }
      },
      "cell_type": "code",
      "outputs": [
        {
          "output_type": "stream",
          "name": "stdout",
          "text": [
            "Found 107 valid door objects with all affordances\n",
            "[Main] val_data size=10, test_data size=10\n",
            "[grid_search_validation] Starting shape-by-shape (per-affordance) training on validation...\n",
            "\n",
            "=== Trying strategy='basic', threshold=0.3 ===\n",
            "  -> [Shape 1/3] ID=f649133ee152f0c4535dab46efb28e27, Class=Door, Affs=['openable', 'pushable', 'pull']\n"
          ]
        },
        {
          "output_type": "stream",
          "name": "stderr",
          "text": [
            "  1%|          | 2/200 [00:00<00:38,  5.14it/s]"
          ]
        },
        {
          "output_type": "stream",
          "name": "stdout",
          "text": [
            "Iteration 0, Loss: -0.2426\n"
          ]
        },
        {
          "output_type": "stream",
          "name": "stderr",
          "text": [
            " 51%|█████     | 102/200 [00:17<00:16,  5.95it/s]"
          ]
        },
        {
          "output_type": "stream",
          "name": "stdout",
          "text": [
            "Iteration 100, Loss: -0.2141\n"
          ]
        },
        {
          "output_type": "stream",
          "name": "stderr",
          "text": [
            "100%|██████████| 200/200 [00:33<00:00,  5.98it/s]\n",
            "  1%|          | 2/200 [00:00<00:34,  5.70it/s]"
          ]
        },
        {
          "output_type": "stream",
          "name": "stdout",
          "text": [
            "Iteration 0, Loss: -0.2009\n"
          ]
        },
        {
          "output_type": "stream",
          "name": "stderr",
          "text": [
            " 51%|█████     | 102/200 [00:16<00:15,  6.25it/s]"
          ]
        },
        {
          "output_type": "stream",
          "name": "stdout",
          "text": [
            "Iteration 100, Loss: -0.2208\n"
          ]
        },
        {
          "output_type": "stream",
          "name": "stderr",
          "text": [
            "100%|██████████| 200/200 [00:32<00:00,  6.20it/s]\n",
            "  1%|          | 2/200 [00:00<00:31,  6.21it/s]"
          ]
        },
        {
          "output_type": "stream",
          "name": "stdout",
          "text": [
            "Iteration 0, Loss: -0.1996\n"
          ]
        },
        {
          "output_type": "stream",
          "name": "stderr",
          "text": [
            " 51%|█████     | 102/200 [00:16<00:15,  6.25it/s]"
          ]
        },
        {
          "output_type": "stream",
          "name": "stdout",
          "text": [
            "Iteration 100, Loss: -0.1903\n"
          ]
        },
        {
          "output_type": "stream",
          "name": "stderr",
          "text": [
            "100%|██████████| 200/200 [00:32<00:00,  6.15it/s]\n"
          ]
        },
        {
          "output_type": "stream",
          "name": "stdout",
          "text": [
            "     Shape mean IoU => 0.296\n",
            "  -> [Shape 2/3] ID=ca55384f8d7b2beaa0af12c1cf92de5f, Class=Door, Affs=['openable', 'pushable', 'pull']\n"
          ]
        },
        {
          "output_type": "stream",
          "name": "stderr",
          "text": [
            "  1%|          | 2/200 [00:00<00:36,  5.50it/s]"
          ]
        },
        {
          "output_type": "stream",
          "name": "stdout",
          "text": [
            "Iteration 0, Loss: -0.2203\n"
          ]
        },
        {
          "output_type": "stream",
          "name": "stderr",
          "text": [
            " 51%|█████     | 102/200 [00:16<00:15,  6.16it/s]"
          ]
        },
        {
          "output_type": "stream",
          "name": "stdout",
          "text": [
            "Iteration 100, Loss: -0.2445\n"
          ]
        },
        {
          "output_type": "stream",
          "name": "stderr",
          "text": [
            "100%|██████████| 200/200 [00:32<00:00,  6.12it/s]\n",
            "  1%|          | 2/200 [00:00<00:31,  6.21it/s]"
          ]
        },
        {
          "output_type": "stream",
          "name": "stdout",
          "text": [
            "Iteration 0, Loss: -0.1816\n"
          ]
        },
        {
          "output_type": "stream",
          "name": "stderr",
          "text": [
            " 51%|█████     | 102/200 [00:16<00:15,  6.20it/s]"
          ]
        },
        {
          "output_type": "stream",
          "name": "stdout",
          "text": [
            "Iteration 100, Loss: -0.2194\n"
          ]
        },
        {
          "output_type": "stream",
          "name": "stderr",
          "text": [
            "100%|██████████| 200/200 [00:32<00:00,  6.12it/s]\n",
            "  1%|          | 2/200 [00:00<00:31,  6.20it/s]"
          ]
        },
        {
          "output_type": "stream",
          "name": "stdout",
          "text": [
            "Iteration 0, Loss: -0.2098\n"
          ]
        },
        {
          "output_type": "stream",
          "name": "stderr",
          "text": [
            " 51%|█████     | 102/200 [00:16<00:15,  6.20it/s]"
          ]
        },
        {
          "output_type": "stream",
          "name": "stdout",
          "text": [
            "Iteration 100, Loss: -0.2161\n"
          ]
        },
        {
          "output_type": "stream",
          "name": "stderr",
          "text": [
            "100%|██████████| 200/200 [00:32<00:00,  6.14it/s]\n"
          ]
        },
        {
          "output_type": "stream",
          "name": "stdout",
          "text": [
            "     Shape mean IoU => 0.091\n",
            "  -> [Shape 3/3] ID=157d99a639b9b9aa5dd29c13c4b9a983, Class=Door, Affs=['openable', 'pushable', 'pull']\n"
          ]
        },
        {
          "output_type": "stream",
          "name": "stderr",
          "text": [
            "  1%|          | 2/200 [00:00<00:31,  6.20it/s]"
          ]
        },
        {
          "output_type": "stream",
          "name": "stdout",
          "text": [
            "Iteration 0, Loss: -0.2332\n"
          ]
        },
        {
          "output_type": "stream",
          "name": "stderr",
          "text": [
            " 51%|█████     | 102/200 [00:16<00:16,  5.93it/s]"
          ]
        },
        {
          "output_type": "stream",
          "name": "stdout",
          "text": [
            "Iteration 100, Loss: -0.2316\n"
          ]
        },
        {
          "output_type": "stream",
          "name": "stderr",
          "text": [
            "100%|██████████| 200/200 [00:32<00:00,  6.12it/s]\n",
            "  1%|          | 2/200 [00:00<00:33,  5.99it/s]"
          ]
        },
        {
          "output_type": "stream",
          "name": "stdout",
          "text": [
            "Iteration 0, Loss: -0.2076\n"
          ]
        },
        {
          "output_type": "stream",
          "name": "stderr",
          "text": [
            " 51%|█████     | 102/200 [00:16<00:15,  6.24it/s]"
          ]
        },
        {
          "output_type": "stream",
          "name": "stdout",
          "text": [
            "Iteration 100, Loss: -0.2268\n"
          ]
        },
        {
          "output_type": "stream",
          "name": "stderr",
          "text": [
            "100%|██████████| 200/200 [00:32<00:00,  6.15it/s]\n",
            "  1%|          | 2/200 [00:00<00:31,  6.24it/s]"
          ]
        },
        {
          "output_type": "stream",
          "name": "stdout",
          "text": [
            "Iteration 0, Loss: -0.1935\n"
          ]
        },
        {
          "output_type": "stream",
          "name": "stderr",
          "text": [
            " 51%|█████     | 102/200 [00:16<00:16,  5.80it/s]"
          ]
        },
        {
          "output_type": "stream",
          "name": "stdout",
          "text": [
            "Iteration 100, Loss: -0.2174\n"
          ]
        },
        {
          "output_type": "stream",
          "name": "stderr",
          "text": [
            "100%|██████████| 200/200 [00:32<00:00,  6.11it/s]\n"
          ]
        },
        {
          "output_type": "stream",
          "name": "stdout",
          "text": [
            "     Shape mean IoU => 0.093\n",
            "\n",
            ">>> Combo (strategy=basic, threshold=0.3) => Mean IoU=0.160 over 3 shapes\n",
            "\n",
            "=== Trying strategy='basic', threshold=0.5 ===\n",
            "  -> [Shape 1/3] ID=f649133ee152f0c4535dab46efb28e27, Class=Door, Affs=['openable', 'pushable', 'pull']\n"
          ]
        },
        {
          "output_type": "stream",
          "name": "stderr",
          "text": [
            "  1%|          | 2/200 [00:00<00:31,  6.25it/s]"
          ]
        },
        {
          "output_type": "stream",
          "name": "stdout",
          "text": [
            "Iteration 0, Loss: -0.2148\n"
          ]
        },
        {
          "output_type": "stream",
          "name": "stderr",
          "text": [
            " 51%|█████     | 102/200 [00:16<00:15,  6.22it/s]"
          ]
        },
        {
          "output_type": "stream",
          "name": "stdout",
          "text": [
            "Iteration 100, Loss: -0.2314\n"
          ]
        },
        {
          "output_type": "stream",
          "name": "stderr",
          "text": [
            "100%|██████████| 200/200 [00:32<00:00,  6.19it/s]\n",
            "  1%|          | 2/200 [00:00<00:32,  6.07it/s]"
          ]
        },
        {
          "output_type": "stream",
          "name": "stdout",
          "text": [
            "Iteration 0, Loss: -0.1954\n"
          ]
        },
        {
          "output_type": "stream",
          "name": "stderr",
          "text": [
            " 51%|█████     | 102/200 [00:16<00:17,  5.69it/s]"
          ]
        },
        {
          "output_type": "stream",
          "name": "stdout",
          "text": [
            "Iteration 100, Loss: -0.2195\n"
          ]
        },
        {
          "output_type": "stream",
          "name": "stderr",
          "text": [
            "100%|██████████| 200/200 [00:32<00:00,  6.12it/s]\n",
            "  1%|          | 2/200 [00:00<00:32,  6.15it/s]"
          ]
        },
        {
          "output_type": "stream",
          "name": "stdout",
          "text": [
            "Iteration 0, Loss: -0.2083\n"
          ]
        },
        {
          "output_type": "stream",
          "name": "stderr",
          "text": [
            " 51%|█████     | 102/200 [00:16<00:15,  6.14it/s]"
          ]
        },
        {
          "output_type": "stream",
          "name": "stdout",
          "text": [
            "Iteration 100, Loss: -0.1875\n"
          ]
        },
        {
          "output_type": "stream",
          "name": "stderr",
          "text": [
            "100%|██████████| 200/200 [00:32<00:00,  6.17it/s]\n"
          ]
        },
        {
          "output_type": "stream",
          "name": "stdout",
          "text": [
            "     Shape mean IoU => 0.156\n",
            "  -> [Shape 2/3] ID=ca55384f8d7b2beaa0af12c1cf92de5f, Class=Door, Affs=['openable', 'pushable', 'pull']\n"
          ]
        },
        {
          "output_type": "stream",
          "name": "stderr",
          "text": [
            "  1%|          | 2/200 [00:00<00:31,  6.28it/s]"
          ]
        },
        {
          "output_type": "stream",
          "name": "stdout",
          "text": [
            "Iteration 0, Loss: -0.2412\n"
          ]
        },
        {
          "output_type": "stream",
          "name": "stderr",
          "text": [
            " 51%|█████     | 102/200 [00:16<00:16,  5.84it/s]"
          ]
        },
        {
          "output_type": "stream",
          "name": "stdout",
          "text": [
            "Iteration 100, Loss: -0.2476\n"
          ]
        },
        {
          "output_type": "stream",
          "name": "stderr",
          "text": [
            "100%|██████████| 200/200 [00:32<00:00,  6.14it/s]\n",
            "  1%|          | 2/200 [00:00<00:31,  6.22it/s]"
          ]
        },
        {
          "output_type": "stream",
          "name": "stdout",
          "text": [
            "Iteration 0, Loss: -0.1775\n"
          ]
        },
        {
          "output_type": "stream",
          "name": "stderr",
          "text": [
            " 51%|█████     | 102/200 [00:16<00:15,  6.20it/s]"
          ]
        },
        {
          "output_type": "stream",
          "name": "stdout",
          "text": [
            "Iteration 100, Loss: -0.2209\n"
          ]
        },
        {
          "output_type": "stream",
          "name": "stderr",
          "text": [
            "100%|██████████| 200/200 [00:32<00:00,  6.17it/s]\n",
            "  1%|          | 2/200 [00:00<00:32,  6.01it/s]"
          ]
        },
        {
          "output_type": "stream",
          "name": "stdout",
          "text": [
            "Iteration 0, Loss: -0.1992\n"
          ]
        },
        {
          "output_type": "stream",
          "name": "stderr",
          "text": [
            " 51%|█████     | 102/200 [00:16<00:16,  6.12it/s]"
          ]
        },
        {
          "output_type": "stream",
          "name": "stdout",
          "text": [
            "Iteration 100, Loss: -0.2319\n"
          ]
        },
        {
          "output_type": "stream",
          "name": "stderr",
          "text": [
            "100%|██████████| 200/200 [00:32<00:00,  6.14it/s]\n"
          ]
        },
        {
          "output_type": "stream",
          "name": "stdout",
          "text": [
            "     Shape mean IoU => 0.018\n",
            "  -> [Shape 3/3] ID=157d99a639b9b9aa5dd29c13c4b9a983, Class=Door, Affs=['openable', 'pushable', 'pull']\n"
          ]
        },
        {
          "output_type": "stream",
          "name": "stderr",
          "text": [
            "  1%|          | 2/200 [00:00<00:31,  6.29it/s]"
          ]
        },
        {
          "output_type": "stream",
          "name": "stdout",
          "text": [
            "Iteration 0, Loss: -0.2327\n"
          ]
        },
        {
          "output_type": "stream",
          "name": "stderr",
          "text": [
            " 51%|█████     | 102/200 [00:16<00:15,  6.24it/s]"
          ]
        },
        {
          "output_type": "stream",
          "name": "stdout",
          "text": [
            "Iteration 100, Loss: -0.2477\n"
          ]
        },
        {
          "output_type": "stream",
          "name": "stderr",
          "text": [
            "100%|██████████| 200/200 [00:32<00:00,  6.17it/s]\n",
            "  1%|          | 2/200 [00:00<00:35,  5.55it/s]"
          ]
        },
        {
          "output_type": "stream",
          "name": "stdout",
          "text": [
            "Iteration 0, Loss: -0.2125\n"
          ]
        },
        {
          "output_type": "stream",
          "name": "stderr",
          "text": [
            " 51%|█████     | 102/200 [00:16<00:15,  6.27it/s]"
          ]
        },
        {
          "output_type": "stream",
          "name": "stdout",
          "text": [
            "Iteration 100, Loss: -0.1821\n"
          ]
        },
        {
          "output_type": "stream",
          "name": "stderr",
          "text": [
            "100%|██████████| 200/200 [00:32<00:00,  6.14it/s]\n",
            "  1%|          | 2/200 [00:00<00:31,  6.20it/s]"
          ]
        },
        {
          "output_type": "stream",
          "name": "stdout",
          "text": [
            "Iteration 0, Loss: -0.1884\n"
          ]
        },
        {
          "output_type": "stream",
          "name": "stderr",
          "text": [
            " 51%|█████     | 102/200 [00:16<00:15,  6.21it/s]"
          ]
        },
        {
          "output_type": "stream",
          "name": "stdout",
          "text": [
            "Iteration 100, Loss: -0.2203\n"
          ]
        },
        {
          "output_type": "stream",
          "name": "stderr",
          "text": [
            "100%|██████████| 200/200 [00:32<00:00,  6.14it/s]\n"
          ]
        },
        {
          "output_type": "stream",
          "name": "stdout",
          "text": [
            "     Shape mean IoU => 0.100\n",
            "\n",
            ">>> Combo (strategy=basic, threshold=0.5) => Mean IoU=0.092 over 3 shapes\n",
            "\n",
            "=== Trying strategy='affordance_specific', threshold=0.3 ===\n",
            "  -> [Shape 1/3] ID=f649133ee152f0c4535dab46efb28e27, Class=Door, Affs=['openable', 'pushable', 'pull']\n"
          ]
        },
        {
          "output_type": "stream",
          "name": "stderr",
          "text": [
            "  1%|          | 2/200 [00:00<00:32,  6.05it/s]"
          ]
        },
        {
          "output_type": "stream",
          "name": "stdout",
          "text": [
            "Iteration 0, Loss: -0.1857\n"
          ]
        },
        {
          "output_type": "stream",
          "name": "stderr",
          "text": [
            " 51%|█████     | 102/200 [00:16<00:15,  6.17it/s]"
          ]
        },
        {
          "output_type": "stream",
          "name": "stdout",
          "text": [
            "Iteration 100, Loss: -0.2103\n"
          ]
        },
        {
          "output_type": "stream",
          "name": "stderr",
          "text": [
            "100%|██████████| 200/200 [00:32<00:00,  6.18it/s]\n",
            "  1%|          | 2/200 [00:00<00:50,  3.92it/s]"
          ]
        },
        {
          "output_type": "stream",
          "name": "stdout",
          "text": [
            "Iteration 0, Loss: -0.2101\n"
          ]
        },
        {
          "output_type": "stream",
          "name": "stderr",
          "text": [
            " 51%|█████     | 102/200 [00:16<00:16,  5.86it/s]"
          ]
        },
        {
          "output_type": "stream",
          "name": "stdout",
          "text": [
            "Iteration 100, Loss: -0.2181\n"
          ]
        },
        {
          "output_type": "stream",
          "name": "stderr",
          "text": [
            "100%|██████████| 200/200 [00:32<00:00,  6.10it/s]\n",
            "  1%|          | 2/200 [00:00<00:32,  6.18it/s]"
          ]
        },
        {
          "output_type": "stream",
          "name": "stdout",
          "text": [
            "Iteration 0, Loss: -0.2603\n"
          ]
        },
        {
          "output_type": "stream",
          "name": "stderr",
          "text": [
            " 51%|█████     | 102/200 [00:16<00:15,  6.20it/s]"
          ]
        },
        {
          "output_type": "stream",
          "name": "stdout",
          "text": [
            "Iteration 100, Loss: -0.2446\n"
          ]
        },
        {
          "output_type": "stream",
          "name": "stderr",
          "text": [
            "100%|██████████| 200/200 [00:32<00:00,  6.19it/s]\n"
          ]
        },
        {
          "output_type": "stream",
          "name": "stdout",
          "text": [
            "     Shape mean IoU => 0.025\n",
            "  -> [Shape 2/3] ID=ca55384f8d7b2beaa0af12c1cf92de5f, Class=Door, Affs=['openable', 'pushable', 'pull']\n"
          ]
        },
        {
          "output_type": "stream",
          "name": "stderr",
          "text": [
            "  1%|          | 2/200 [00:00<00:32,  6.18it/s]"
          ]
        },
        {
          "output_type": "stream",
          "name": "stdout",
          "text": [
            "Iteration 0, Loss: -0.1910\n"
          ]
        },
        {
          "output_type": "stream",
          "name": "stderr",
          "text": [
            " 51%|█████     | 102/200 [00:16<00:16,  5.78it/s]"
          ]
        },
        {
          "output_type": "stream",
          "name": "stdout",
          "text": [
            "Iteration 100, Loss: -0.2201\n"
          ]
        },
        {
          "output_type": "stream",
          "name": "stderr",
          "text": [
            "100%|██████████| 200/200 [00:32<00:00,  6.13it/s]\n",
            "  1%|          | 2/200 [00:00<00:32,  6.17it/s]"
          ]
        },
        {
          "output_type": "stream",
          "name": "stdout",
          "text": [
            "Iteration 0, Loss: -0.2067\n"
          ]
        },
        {
          "output_type": "stream",
          "name": "stderr",
          "text": [
            " 51%|█████     | 102/200 [00:16<00:15,  6.26it/s]"
          ]
        },
        {
          "output_type": "stream",
          "name": "stdout",
          "text": [
            "Iteration 100, Loss: -0.2245\n"
          ]
        },
        {
          "output_type": "stream",
          "name": "stderr",
          "text": [
            "100%|██████████| 200/200 [00:32<00:00,  6.20it/s]\n",
            "  1%|          | 2/200 [00:00<00:31,  6.33it/s]"
          ]
        },
        {
          "output_type": "stream",
          "name": "stdout",
          "text": [
            "Iteration 0, Loss: -0.2081\n"
          ]
        },
        {
          "output_type": "stream",
          "name": "stderr",
          "text": [
            " 51%|█████     | 102/200 [00:16<00:15,  6.16it/s]"
          ]
        },
        {
          "output_type": "stream",
          "name": "stdout",
          "text": [
            "Iteration 100, Loss: -0.2549\n"
          ]
        },
        {
          "output_type": "stream",
          "name": "stderr",
          "text": [
            "100%|██████████| 200/200 [00:32<00:00,  6.14it/s]\n"
          ]
        },
        {
          "output_type": "stream",
          "name": "stdout",
          "text": [
            "     Shape mean IoU => 0.025\n",
            "  -> [Shape 3/3] ID=157d99a639b9b9aa5dd29c13c4b9a983, Class=Door, Affs=['openable', 'pushable', 'pull']\n"
          ]
        },
        {
          "output_type": "stream",
          "name": "stderr",
          "text": [
            "  1%|          | 2/200 [00:00<00:31,  6.25it/s]"
          ]
        },
        {
          "output_type": "stream",
          "name": "stdout",
          "text": [
            "Iteration 0, Loss: -0.2051\n"
          ]
        },
        {
          "output_type": "stream",
          "name": "stderr",
          "text": [
            " 51%|█████     | 102/200 [00:16<00:15,  6.14it/s]"
          ]
        },
        {
          "output_type": "stream",
          "name": "stdout",
          "text": [
            "Iteration 100, Loss: -0.2068\n"
          ]
        },
        {
          "output_type": "stream",
          "name": "stderr",
          "text": [
            "100%|██████████| 200/200 [00:32<00:00,  6.13it/s]\n",
            "  1%|          | 2/200 [00:00<00:33,  5.92it/s]"
          ]
        },
        {
          "output_type": "stream",
          "name": "stdout",
          "text": [
            "Iteration 0, Loss: -0.2081\n"
          ]
        },
        {
          "output_type": "stream",
          "name": "stderr",
          "text": [
            " 51%|█████     | 102/200 [00:16<00:15,  6.18it/s]"
          ]
        },
        {
          "output_type": "stream",
          "name": "stdout",
          "text": [
            "Iteration 100, Loss: -0.2167\n"
          ]
        },
        {
          "output_type": "stream",
          "name": "stderr",
          "text": [
            "100%|██████████| 200/200 [00:32<00:00,  6.11it/s]\n",
            "  1%|          | 2/200 [00:00<00:32,  6.10it/s]"
          ]
        },
        {
          "output_type": "stream",
          "name": "stdout",
          "text": [
            "Iteration 0, Loss: -0.2451\n"
          ]
        },
        {
          "output_type": "stream",
          "name": "stderr",
          "text": [
            " 51%|█████     | 102/200 [00:16<00:15,  6.21it/s]"
          ]
        },
        {
          "output_type": "stream",
          "name": "stdout",
          "text": [
            "Iteration 100, Loss: -0.2380\n"
          ]
        },
        {
          "output_type": "stream",
          "name": "stderr",
          "text": [
            "100%|██████████| 200/200 [00:32<00:00,  6.13it/s]\n"
          ]
        },
        {
          "output_type": "stream",
          "name": "stdout",
          "text": [
            "     Shape mean IoU => 0.084\n",
            "\n",
            ">>> Combo (strategy=affordance_specific, threshold=0.3) => Mean IoU=0.045 over 3 shapes\n",
            "\n",
            "=== Trying strategy='affordance_specific', threshold=0.5 ===\n",
            "  -> [Shape 1/3] ID=f649133ee152f0c4535dab46efb28e27, Class=Door, Affs=['openable', 'pushable', 'pull']\n"
          ]
        },
        {
          "output_type": "stream",
          "name": "stderr",
          "text": [
            "  1%|          | 2/200 [00:00<00:34,  5.68it/s]"
          ]
        },
        {
          "output_type": "stream",
          "name": "stdout",
          "text": [
            "Iteration 0, Loss: -0.2010\n"
          ]
        },
        {
          "output_type": "stream",
          "name": "stderr",
          "text": [
            " 51%|█████     | 102/200 [00:16<00:15,  6.17it/s]"
          ]
        },
        {
          "output_type": "stream",
          "name": "stdout",
          "text": [
            "Iteration 100, Loss: -0.1841\n"
          ]
        },
        {
          "output_type": "stream",
          "name": "stderr",
          "text": [
            "100%|██████████| 200/200 [00:32<00:00,  6.17it/s]\n",
            "  1%|          | 2/200 [00:00<00:32,  6.18it/s]"
          ]
        },
        {
          "output_type": "stream",
          "name": "stdout",
          "text": [
            "Iteration 0, Loss: -0.2186\n"
          ]
        },
        {
          "output_type": "stream",
          "name": "stderr",
          "text": [
            " 51%|█████     | 102/200 [00:16<00:15,  6.16it/s]"
          ]
        },
        {
          "output_type": "stream",
          "name": "stdout",
          "text": [
            "Iteration 100, Loss: -0.2219\n"
          ]
        },
        {
          "output_type": "stream",
          "name": "stderr",
          "text": [
            "100%|██████████| 200/200 [00:32<00:00,  6.08it/s]\n",
            "  1%|          | 2/200 [00:00<00:34,  5.71it/s]"
          ]
        },
        {
          "output_type": "stream",
          "name": "stdout",
          "text": [
            "Iteration 0, Loss: -0.2448\n"
          ]
        },
        {
          "output_type": "stream",
          "name": "stderr",
          "text": [
            " 51%|█████     | 102/200 [00:16<00:15,  6.14it/s]"
          ]
        },
        {
          "output_type": "stream",
          "name": "stdout",
          "text": [
            "Iteration 100, Loss: -0.2219\n"
          ]
        },
        {
          "output_type": "stream",
          "name": "stderr",
          "text": [
            "100%|██████████| 200/200 [00:32<00:00,  6.08it/s]\n"
          ]
        },
        {
          "output_type": "stream",
          "name": "stdout",
          "text": [
            "     Shape mean IoU => 0.096\n",
            "  -> [Shape 2/3] ID=ca55384f8d7b2beaa0af12c1cf92de5f, Class=Door, Affs=['openable', 'pushable', 'pull']\n"
          ]
        },
        {
          "output_type": "stream",
          "name": "stderr",
          "text": [
            "  1%|          | 2/200 [00:00<00:32,  6.12it/s]"
          ]
        },
        {
          "output_type": "stream",
          "name": "stdout",
          "text": [
            "Iteration 0, Loss: -0.1752\n"
          ]
        },
        {
          "output_type": "stream",
          "name": "stderr",
          "text": [
            " 51%|█████     | 102/200 [00:16<00:17,  5.74it/s]"
          ]
        },
        {
          "output_type": "stream",
          "name": "stdout",
          "text": [
            "Iteration 100, Loss: -0.1942\n"
          ]
        },
        {
          "output_type": "stream",
          "name": "stderr",
          "text": [
            "100%|██████████| 200/200 [00:33<00:00,  6.03it/s]\n",
            "  1%|          | 2/200 [00:00<00:32,  6.01it/s]"
          ]
        },
        {
          "output_type": "stream",
          "name": "stdout",
          "text": [
            "Iteration 0, Loss: -0.1770\n"
          ]
        },
        {
          "output_type": "stream",
          "name": "stderr",
          "text": [
            " 51%|█████     | 102/200 [00:16<00:16,  6.12it/s]"
          ]
        },
        {
          "output_type": "stream",
          "name": "stdout",
          "text": [
            "Iteration 100, Loss: -0.2032\n"
          ]
        },
        {
          "output_type": "stream",
          "name": "stderr",
          "text": [
            "100%|██████████| 200/200 [00:32<00:00,  6.10it/s]\n",
            "  1%|          | 2/200 [00:00<00:32,  6.13it/s]"
          ]
        },
        {
          "output_type": "stream",
          "name": "stdout",
          "text": [
            "Iteration 0, Loss: -0.2432\n"
          ]
        },
        {
          "output_type": "stream",
          "name": "stderr",
          "text": [
            " 51%|█████     | 102/200 [00:16<00:16,  5.91it/s]"
          ]
        },
        {
          "output_type": "stream",
          "name": "stdout",
          "text": [
            "Iteration 100, Loss: -0.2181\n"
          ]
        },
        {
          "output_type": "stream",
          "name": "stderr",
          "text": [
            "100%|██████████| 200/200 [00:32<00:00,  6.09it/s]\n"
          ]
        },
        {
          "output_type": "stream",
          "name": "stdout",
          "text": [
            "     Shape mean IoU => 0.020\n",
            "  -> [Shape 3/3] ID=157d99a639b9b9aa5dd29c13c4b9a983, Class=Door, Affs=['openable', 'pushable', 'pull']\n"
          ]
        },
        {
          "output_type": "stream",
          "name": "stderr",
          "text": [
            "  1%|          | 2/200 [00:00<00:31,  6.22it/s]"
          ]
        },
        {
          "output_type": "stream",
          "name": "stdout",
          "text": [
            "Iteration 0, Loss: -0.1787\n"
          ]
        },
        {
          "output_type": "stream",
          "name": "stderr",
          "text": [
            " 51%|█████     | 102/200 [00:16<00:15,  6.17it/s]"
          ]
        },
        {
          "output_type": "stream",
          "name": "stdout",
          "text": [
            "Iteration 100, Loss: -0.2104\n"
          ]
        },
        {
          "output_type": "stream",
          "name": "stderr",
          "text": [
            "100%|██████████| 200/200 [00:32<00:00,  6.11it/s]\n",
            "  1%|          | 2/200 [00:00<00:32,  6.14it/s]"
          ]
        },
        {
          "output_type": "stream",
          "name": "stdout",
          "text": [
            "Iteration 0, Loss: -0.1809\n"
          ]
        },
        {
          "output_type": "stream",
          "name": "stderr",
          "text": [
            " 51%|█████     | 102/200 [00:16<00:17,  5.65it/s]"
          ]
        },
        {
          "output_type": "stream",
          "name": "stdout",
          "text": [
            "Iteration 100, Loss: -0.2125\n"
          ]
        },
        {
          "output_type": "stream",
          "name": "stderr",
          "text": [
            "100%|██████████| 200/200 [00:32<00:00,  6.07it/s]\n",
            "  1%|          | 2/200 [00:00<00:32,  6.13it/s]"
          ]
        },
        {
          "output_type": "stream",
          "name": "stdout",
          "text": [
            "Iteration 0, Loss: -0.2440\n"
          ]
        },
        {
          "output_type": "stream",
          "name": "stderr",
          "text": [
            " 51%|█████     | 102/200 [00:16<00:15,  6.18it/s]"
          ]
        },
        {
          "output_type": "stream",
          "name": "stdout",
          "text": [
            "Iteration 100, Loss: -0.2449\n"
          ]
        },
        {
          "output_type": "stream",
          "name": "stderr",
          "text": [
            "100%|██████████| 200/200 [00:32<00:00,  6.11it/s]\n"
          ]
        },
        {
          "output_type": "stream",
          "name": "stdout",
          "text": [
            "     Shape mean IoU => 0.062\n",
            "\n",
            ">>> Combo (strategy=affordance_specific, threshold=0.5) => Mean IoU=0.059 over 3 shapes\n",
            "\n",
            "[grid_search_validation] Validation combos sorted by best IoU:\n",
            "    Strategy=basic, Threshold=0.3, IoU=0.160\n",
            "    Strategy=basic, Threshold=0.5, IoU=0.092\n",
            "    Strategy=affordance_specific, Threshold=0.5, IoU=0.059\n",
            "    Strategy=affordance_specific, Threshold=0.3, IoU=0.045\n",
            "\n",
            "[grid_search_validation] Best strategy=basic, threshold=0.3, average mIoU=0.160\n",
            "\n",
            "[Main] Validation done => best strategy=basic, threshold=0.3, valIoU=0.160\n",
            "[test_phase_evaluation] Using strategy=basic, threshold=0.3\n",
            "  -> [Test Shape] ID=3386065492b489dbc3f95a8dcb733670, Class=Door, Affs=['openable', 'pushable', 'pull']\n"
          ]
        },
        {
          "output_type": "stream",
          "name": "stderr",
          "text": [
            "  1%|          | 2/200 [00:00<00:32,  6.10it/s]"
          ]
        },
        {
          "output_type": "stream",
          "name": "stdout",
          "text": [
            "Iteration 0, Loss: -0.2299\n"
          ]
        },
        {
          "output_type": "stream",
          "name": "stderr",
          "text": [
            " 51%|█████     | 102/200 [00:17<00:16,  6.01it/s]"
          ]
        },
        {
          "output_type": "stream",
          "name": "stdout",
          "text": [
            "Iteration 100, Loss: -0.2524\n"
          ]
        },
        {
          "output_type": "stream",
          "name": "stderr",
          "text": [
            "100%|██████████| 200/200 [00:33<00:00,  5.95it/s]\n",
            "  1%|          | 2/200 [00:00<00:31,  6.23it/s]"
          ]
        },
        {
          "output_type": "stream",
          "name": "stdout",
          "text": [
            "Iteration 0, Loss: -0.1857\n"
          ]
        },
        {
          "output_type": "stream",
          "name": "stderr",
          "text": [
            " 51%|█████     | 102/200 [00:16<00:16,  6.11it/s]"
          ]
        },
        {
          "output_type": "stream",
          "name": "stdout",
          "text": [
            "Iteration 100, Loss: -0.2169\n"
          ]
        },
        {
          "output_type": "stream",
          "name": "stderr",
          "text": [
            "100%|██████████| 200/200 [00:32<00:00,  6.06it/s]\n",
            "  1%|          | 2/200 [00:00<00:33,  5.89it/s]"
          ]
        },
        {
          "output_type": "stream",
          "name": "stdout",
          "text": [
            "Iteration 0, Loss: -0.2015\n"
          ]
        },
        {
          "output_type": "stream",
          "name": "stderr",
          "text": [
            " 51%|█████     | 102/200 [00:16<00:16,  6.11it/s]"
          ]
        },
        {
          "output_type": "stream",
          "name": "stdout",
          "text": [
            "Iteration 100, Loss: -0.2236\n"
          ]
        },
        {
          "output_type": "stream",
          "name": "stderr",
          "text": [
            "100%|██████████| 200/200 [00:32<00:00,  6.09it/s]\n"
          ]
        },
        {
          "output_type": "stream",
          "name": "stdout",
          "text": [
            "     shape mean IoU => 0.126\n",
            "  -> [Test Shape] ID=c758790e2f6500fe62fa6f66ed6baca4, Class=Door, Affs=['openable', 'pushable', 'pull']\n"
          ]
        },
        {
          "output_type": "stream",
          "name": "stderr",
          "text": [
            "  1%|          | 2/200 [00:00<00:31,  6.23it/s]"
          ]
        },
        {
          "output_type": "stream",
          "name": "stdout",
          "text": [
            "Iteration 0, Loss: -0.2300\n"
          ]
        },
        {
          "output_type": "stream",
          "name": "stderr",
          "text": [
            " 51%|█████     | 102/200 [00:16<00:15,  6.13it/s]"
          ]
        },
        {
          "output_type": "stream",
          "name": "stdout",
          "text": [
            "Iteration 100, Loss: -0.2375\n"
          ]
        },
        {
          "output_type": "stream",
          "name": "stderr",
          "text": [
            "100%|██████████| 200/200 [00:32<00:00,  6.09it/s]\n",
            "  1%|          | 2/200 [00:00<00:35,  5.54it/s]"
          ]
        },
        {
          "output_type": "stream",
          "name": "stdout",
          "text": [
            "Iteration 0, Loss: -0.2185\n"
          ]
        },
        {
          "output_type": "stream",
          "name": "stderr",
          "text": [
            " 51%|█████     | 102/200 [00:16<00:16,  6.03it/s]"
          ]
        },
        {
          "output_type": "stream",
          "name": "stdout",
          "text": [
            "Iteration 100, Loss: -0.2275\n"
          ]
        },
        {
          "output_type": "stream",
          "name": "stderr",
          "text": [
            "100%|██████████| 200/200 [00:32<00:00,  6.11it/s]\n",
            "  1%|          | 2/200 [00:00<00:31,  6.20it/s]"
          ]
        },
        {
          "output_type": "stream",
          "name": "stdout",
          "text": [
            "Iteration 0, Loss: -0.1873\n"
          ]
        },
        {
          "output_type": "stream",
          "name": "stderr",
          "text": [
            " 51%|█████     | 102/200 [00:16<00:16,  6.07it/s]"
          ]
        },
        {
          "output_type": "stream",
          "name": "stdout",
          "text": [
            "Iteration 100, Loss: -0.1843\n"
          ]
        },
        {
          "output_type": "stream",
          "name": "stderr",
          "text": [
            "100%|██████████| 200/200 [00:32<00:00,  6.06it/s]\n"
          ]
        },
        {
          "output_type": "stream",
          "name": "stdout",
          "text": [
            "     shape mean IoU => 0.017\n",
            "  -> [Test Shape] ID=cc1c76cf23c9bb1e72bbceb78f74ca2a, Class=Door, Affs=['openable', 'pushable', 'pull']\n"
          ]
        },
        {
          "output_type": "stream",
          "name": "stderr",
          "text": [
            "  1%|          | 2/200 [00:00<00:32,  6.01it/s]"
          ]
        },
        {
          "output_type": "stream",
          "name": "stdout",
          "text": [
            "Iteration 0, Loss: -0.2472\n"
          ]
        },
        {
          "output_type": "stream",
          "name": "stderr",
          "text": [
            " 51%|█████     | 102/200 [00:16<00:16,  6.09it/s]"
          ]
        },
        {
          "output_type": "stream",
          "name": "stdout",
          "text": [
            "Iteration 100, Loss: -0.2465\n"
          ]
        },
        {
          "output_type": "stream",
          "name": "stderr",
          "text": [
            "100%|██████████| 200/200 [00:32<00:00,  6.11it/s]\n",
            "  1%|          | 2/200 [00:00<00:31,  6.19it/s]"
          ]
        },
        {
          "output_type": "stream",
          "name": "stdout",
          "text": [
            "Iteration 0, Loss: -0.2507\n"
          ]
        },
        {
          "output_type": "stream",
          "name": "stderr",
          "text": [
            " 51%|█████     | 102/200 [00:16<00:16,  5.77it/s]"
          ]
        },
        {
          "output_type": "stream",
          "name": "stdout",
          "text": [
            "Iteration 100, Loss: -0.2161\n"
          ]
        },
        {
          "output_type": "stream",
          "name": "stderr",
          "text": [
            "100%|██████████| 200/200 [00:32<00:00,  6.10it/s]\n",
            "  1%|          | 2/200 [00:00<00:32,  6.13it/s]"
          ]
        },
        {
          "output_type": "stream",
          "name": "stdout",
          "text": [
            "Iteration 0, Loss: -0.2133\n"
          ]
        },
        {
          "output_type": "stream",
          "name": "stderr",
          "text": [
            " 51%|█████     | 102/200 [00:16<00:15,  6.14it/s]"
          ]
        },
        {
          "output_type": "stream",
          "name": "stdout",
          "text": [
            "Iteration 100, Loss: -0.2159\n"
          ]
        },
        {
          "output_type": "stream",
          "name": "stderr",
          "text": [
            "100%|██████████| 200/200 [00:32<00:00,  6.11it/s]\n"
          ]
        },
        {
          "output_type": "stream",
          "name": "stdout",
          "text": [
            "     shape mean IoU => 0.000\n",
            "[test_phase_evaluation] Final mIoU = 0.048 (over 3 shapes)\n",
            "[Main] Final test IoU => 0.048\n",
            "\n",
            "[Main] Visualizing multi-view for the last test shape...\n"
          ]
        },
        {
          "output_type": "stream",
          "name": "stderr",
          "text": [
            "  1%|          | 2/200 [00:00<00:17, 11.52it/s]"
          ]
        },
        {
          "output_type": "stream",
          "name": "stdout",
          "text": [
            "Iteration 0, Loss: -0.2163\n"
          ]
        },
        {
          "output_type": "stream",
          "name": "stderr",
          "text": [
            " 51%|█████     | 102/200 [00:09<00:08, 11.35it/s]"
          ]
        },
        {
          "output_type": "stream",
          "name": "stdout",
          "text": [
            "Iteration 100, Loss: -0.2378\n"
          ]
        },
        {
          "output_type": "stream",
          "name": "stderr",
          "text": [
            "100%|██████████| 200/200 [00:18<00:00, 10.80it/s]\n",
            "  1%|          | 2/200 [00:00<00:18, 11.00it/s]"
          ]
        },
        {
          "output_type": "stream",
          "name": "stdout",
          "text": [
            "Iteration 0, Loss: -0.2274\n"
          ]
        },
        {
          "output_type": "stream",
          "name": "stderr",
          "text": [
            " 51%|█████     | 102/200 [00:08<00:09, 10.50it/s]"
          ]
        },
        {
          "output_type": "stream",
          "name": "stdout",
          "text": [
            "Iteration 100, Loss: -0.2458\n"
          ]
        },
        {
          "output_type": "stream",
          "name": "stderr",
          "text": [
            "100%|██████████| 200/200 [00:17<00:00, 11.14it/s]\n"
          ]
        },
        {
          "output_type": "display_data",
          "data": {
            "text/plain": [
              "<Figure size 1600x400 with 4 Axes>"
            ],
            "image/png": "[encoded data removed]"
          },
          "metadata": {}
        }
      ],
      "execution_count": 18,
      "source": [
        "import torch\n",
        "import matplotlib.pyplot as plt\n",
        "\n",
        "# 1) Imports from your code\n",
        "from src.data_loader_fullshape import create_dataset_splits, FullShapeDataset\n",
        "from src.prompt_strategies import generate_affordance_prompt\n",
        "from src.Clip.clip_model import get_clip_model\n",
        "from src.render.cloud_point_renderer import MultiViewPointCloudRenderer\n",
        "from src.neural_highlighter import NeuralHighlighter\n",
        "\n",
        "\n",
        "device = \"cuda\"\n",
        "\n",
        "dataset = FullShapeDataset(\"/content/Affordance3DHighlighter/data/full_shape_train_data.pkl\", device=device)\n",
        "train_data, val_data, test_data = create_dataset_splits(dataset, val_ratio=0.1, test_ratio=0.1)\n",
        "\n",
        "\n",
        "print(f\"[Main] val_data size={len(val_data)}, test_data size={len(test_data)}\")\n",
        "\n",
        "# 3) Load CLIP model\n",
        "clip_model, _, _ = get_clip_model(\"ViT-L/14\")\n",
        "\n",
        "# 4) Validation Phase: search best (strategy, threshold)\n",
        "strategies_list = [\"basic\", \"affordance_specific\"]\n",
        "thresholds_list = [0.3, 0.5]  # let's have 2 thresholds now\n",
        "num_val_objects = 3          # how many shapes we pick from val\n",
        "num_iterations_val = 200     # how many training steps\n",
        "\n",
        "best_strat, best_th, best_val_iou = grid_search_validation(\n",
        "    val_dataset=val_data,\n",
        "    clip_model=clip_model,\n",
        "    device=device,\n",
        "    strategies=strategies_list,\n",
        "    thresholds=thresholds_list,\n",
        "    num_val_objects=num_val_objects,\n",
        "    num_iterations=num_iterations_val,\n",
        "    output_dir=\"./val_gridsearch\"\n",
        ")\n",
        "\n",
        "print(f\"\\n[Main] Validation done => best strategy={best_strat}, threshold={best_th}, valIoU={best_val_iou:.3f}\")\n",
        "\n",
        "# 5) Test Phase\n",
        "num_test_shapes = 3\n",
        "test_iterations = 200\n",
        "final_test_iou = test_phase_evaluation(\n",
        "    test_dataset=test_data,\n",
        "    clip_model=clip_model,\n",
        "    best_strategy=best_strat,\n",
        "    best_threshold=best_th,\n",
        "    device=device,\n",
        "    num_test_shapes=num_test_shapes,\n",
        "    num_iterations=test_iterations,\n",
        "    output_dir=\"./test_results\"\n",
        ")\n",
        "print(f\"[Main] Final test IoU => {final_test_iou:.3f}\")\n",
        "\n",
        "\n"
      ]
    }
  ]
}