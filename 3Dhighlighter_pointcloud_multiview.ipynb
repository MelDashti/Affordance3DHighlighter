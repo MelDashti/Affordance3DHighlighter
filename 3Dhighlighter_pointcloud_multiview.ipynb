{
 "cells": [
  {
   "cell_type": "code",
   "execution_count": 1,
   "metadata": {
    "colab": {
     "base_uri": "https://localhost:8080/"
    },
    "execution": {
     "iopub.execute_input": "2024-12-31T00:35:37.244636Z",
     "iopub.status.busy": "2024-12-31T00:35:37.244365Z",
     "iopub.status.idle": "2024-12-31T00:35:38.504915Z",
     "shell.execute_reply": "2024-12-31T00:35:38.503877Z",
     "shell.execute_reply.started": "2024-12-31T00:35:37.244608Z"
    },
    "id": "2rqJobuCpQLi",
    "outputId": "281b69ef-7d5c-40e7-e9d1-c343706616ea",
    "trusted": true
   },
   "outputs": [
    {
     "name": "stdout",
     "output_type": "stream",
     "text": [
      "Cloning into 'Affordance3DHighlighter'...\n",
      "remote: Enumerating objects: 207, done.\u001b[K\n",
      "remote: Counting objects: 100% (207/207), done.\u001b[K\n",
      "remote: Compressing objects: 100% (144/144), done.\u001b[K\n",
      "remote: Total 207 (delta 118), reused 143 (delta 60), pack-reused 0 (from 0)\u001b[K\n",
      "Receiving objects: 100% (207/207), 2.31 MiB | 16.34 MiB/s, done.\n",
      "Resolving deltas: 100% (118/118), done.\n"
     ]
    }
   ],
   "source": []
  },
  {
   "cell_type": "code",
   "execution_count": 2,
   "metadata": {
    "execution": {
     "iopub.execute_input": "2024-12-31T00:35:53.272302Z",
     "iopub.status.busy": "2024-12-31T00:35:53.272010Z",
     "iopub.status.idle": "2024-12-31T00:35:53.276450Z",
     "shell.execute_reply": "2024-12-31T00:35:53.275386Z",
     "shell.execute_reply.started": "2024-12-31T00:35:53.272281Z"
    },
    "id": "fhLYzi952EEA",
    "trusted": true
   },
   "outputs": [],
   "source": [
    "import os\n",
    "\n",
    "os.chdir('/kaggle/working/Affordance3DHighlighter')"
   ]
  },
  {
   "cell_type": "code",
   "execution_count": 3,
   "metadata": {
    "execution": {
     "iopub.execute_input": "2024-12-31T00:36:38.247978Z",
     "iopub.status.busy": "2024-12-31T00:36:38.247657Z",
     "iopub.status.idle": "2024-12-31T00:37:15.378707Z",
     "shell.execute_reply": "2024-12-31T00:37:15.377853Z",
     "shell.execute_reply.started": "2024-12-31T00:36:38.247958Z"
    },
    "trusted": true
   },
   "outputs": [
    {
     "name": "stdout",
     "output_type": "stream",
     "text": [
      "Requirement already satisfied: gdown in /usr/local/lib/python3.10/dist-packages (5.2.0)\n",
      "Requirement already satisfied: beautifulsoup4 in /usr/local/lib/python3.10/dist-packages (from gdown) (4.12.3)\n",
      "Requirement already satisfied: filelock in /usr/local/lib/python3.10/dist-packages (from gdown) (3.16.1)\n",
      "Requirement already satisfied: requests[socks] in /usr/local/lib/python3.10/dist-packages (from gdown) (2.32.3)\n",
      "Requirement already satisfied: tqdm in /usr/local/lib/python3.10/dist-packages (from gdown) (4.66.5)\n",
      "Requirement already satisfied: soupsieve>1.2 in /usr/local/lib/python3.10/dist-packages (from beautifulsoup4->gdown) (2.6)\n",
      "Requirement already satisfied: charset-normalizer<4,>=2 in /usr/local/lib/python3.10/dist-packages (from requests[socks]->gdown) (3.3.2)\n",
      "Requirement already satisfied: idna<4,>=2.5 in /usr/local/lib/python3.10/dist-packages (from requests[socks]->gdown) (3.10)\n",
      "Requirement already satisfied: urllib3<3,>=1.21.1 in /usr/local/lib/python3.10/dist-packages (from requests[socks]->gdown) (2.2.3)\n",
      "Requirement already satisfied: certifi>=2017.4.17 in /usr/local/lib/python3.10/dist-packages (from requests[socks]->gdown) (2024.8.30)\n",
      "Requirement already satisfied: PySocks!=1.5.7,>=1.5.6 in /usr/local/lib/python3.10/dist-packages (from requests[socks]->gdown) (1.7.1)\n",
      "/usr/local/lib/python3.10/dist-packages/gdown/__main__.py:140: FutureWarning: Option `--id` was deprecated in version 4.3.1 and will be removed in 5.0. You don't need to pass it anymore to use a file ID.\n",
      "  warnings.warn(\n",
      "Downloading...\n",
      "From (original): https://drive.google.com/uc?id=1siZtGusB1LfQVapTvNOiYi8aeKKAgcDF\n",
      "From (redirected): https://drive.google.com/uc?id=1siZtGusB1LfQVapTvNOiYi8aeKKAgcDF&confirm=t&uuid=0eaea8ee-d65f-42ba-b11e-9dc7779f8962\n",
      "To: /kaggle/working/Affordance3DHighlighter/full-shape.zip\n",
      "100%|████████████████████████████████████████| 558M/558M [00:10<00:00, 51.5MB/s]\n",
      "Archive:  full-shape.zip\n",
      "  inflating: /kaggle/working/Affordance3DHighlighter/data/full_shape_train_data.pkl  \n",
      "  inflating: /kaggle/working/Affordance3DHighlighter/data/full_shape_val_data.pkl  \n"
     ]
    }
   ],
   "source": [
    "!pip install gdown\n",
    "!gdown --id 1siZtGusB1LfQVapTvNOiYi8aeKKAgcDF\n",
    "!unzip full-shape.zip -d /kaggle/working/Affordance3DHighlighter/data/"
   ]
  },
  {
   "cell_type": "code",
   "execution_count": 4,
   "metadata": {
    "execution": {
     "iopub.execute_input": "2024-12-31T00:37:15.380198Z",
     "iopub.status.busy": "2024-12-31T00:37:15.379956Z",
     "iopub.status.idle": "2024-12-31T00:37:19.828311Z",
     "shell.execute_reply": "2024-12-31T00:37:19.827376Z",
     "shell.execute_reply.started": "2024-12-31T00:37:15.380179Z"
    },
    "trusted": true
   },
   "outputs": [
    {
     "name": "stdout",
     "output_type": "stream",
     "text": [
      "Training Data Type: <class 'list'>\n",
      "Training Data Example: [{'shape_id': '63e0b01c60c1a0edfafd17eed9590afe', 'semantic class': 'Door', 'affordance': ['grasp', 'contain', 'lift', 'openable', 'layable', 'sittable', 'support', 'wrap_grasp', 'pourable', 'move', 'displaY', 'pushable', 'pull', 'listen', 'wear', 'press', 'cut', 'stab'], 'full_shape': {'coordinate': array([[ 0.15929998, -0.7428185 , -0.00485236],\n",
      "       [-0.22462437,  0.972573  ,  0.00416868],\n",
      "       [ 0.221295  ,  0.1727677 ,  0.00374921],\n",
      "       ...,\n",
      "       [-0.10196283,  0.636612  , -0.01006717],\n",
      "       [ 0.0958824 , -0.9201699 ,  0.00974288],\n",
      "       [-0.16395783,  0.60726637,  0.00812608]], dtype=float32), 'label': {'grasp': array([[0.],\n",
      "       [0.],\n",
      "       [0.],\n",
      "       ...,\n",
      "       [0.],\n",
      "       [0.],\n",
      "       [0.]], dtype=float32), 'contain': array([[0.],\n",
      "       [0.],\n",
      "       [0.],\n",
      "       ...,\n",
      "       [0.],\n",
      "       [0.],\n",
      "       [0.]], dtype=float32), 'lift': array([[0.],\n",
      "       [0.],\n",
      "       [0.],\n",
      "       ...,\n",
      "       [0.],\n",
      "       [0.],\n",
      "       [0.]], dtype=float32), 'openable': array([[0.],\n",
      "       [0.],\n",
      "       [0.],\n",
      "       ...,\n",
      "       [0.],\n",
      "       [0.],\n",
      "       [0.]], dtype=float32), 'layable': array([[0.],\n",
      "       [0.],\n",
      "       [0.],\n",
      "       ...,\n",
      "       [0.],\n",
      "       [0.],\n",
      "       [0.]], dtype=float32), 'sittable': array([[0.],\n",
      "       [0.],\n",
      "       [0.],\n",
      "       ...,\n",
      "       [0.],\n",
      "       [0.],\n",
      "       [0.]], dtype=float32), 'support': array([[0.],\n",
      "       [0.],\n",
      "       [0.],\n",
      "       ...,\n",
      "       [0.],\n",
      "       [0.],\n",
      "       [0.]], dtype=float32), 'wrap_grasp': array([[0.],\n",
      "       [0.],\n",
      "       [0.],\n",
      "       ...,\n",
      "       [0.],\n",
      "       [0.],\n",
      "       [0.]], dtype=float32), 'pourable': array([[0.],\n",
      "       [0.],\n",
      "       [0.],\n",
      "       ...,\n",
      "       [0.],\n",
      "       [0.],\n",
      "       [0.]], dtype=float32), 'move': array([[0.],\n",
      "       [0.],\n",
      "       [0.],\n",
      "       ...,\n",
      "       [0.],\n",
      "       [0.],\n",
      "       [0.]], dtype=float32), 'displaY': array([[0.],\n",
      "       [0.],\n",
      "       [0.],\n",
      "       ...,\n",
      "       [0.],\n",
      "       [0.],\n",
      "       [0.]], dtype=float32), 'pushable': array([[0.],\n",
      "       [0.],\n",
      "       [0.],\n",
      "       ...,\n",
      "       [0.],\n",
      "       [0.],\n",
      "       [0.]], dtype=float32), 'pull': array([[0.],\n",
      "       [0.],\n",
      "       [0.],\n",
      "       ...,\n",
      "       [0.],\n",
      "       [0.],\n",
      "       [0.]], dtype=float32), 'listen': array([[0.],\n",
      "       [0.],\n",
      "       [0.],\n",
      "       ...,\n",
      "       [0.],\n",
      "       [0.],\n",
      "       [0.]], dtype=float32), 'wear': array([[0.],\n",
      "       [0.],\n",
      "       [0.],\n",
      "       ...,\n",
      "       [0.],\n",
      "       [0.],\n",
      "       [0.]], dtype=float32), 'press': array([[0.],\n",
      "       [0.],\n",
      "       [0.],\n",
      "       ...,\n",
      "       [0.],\n",
      "       [0.],\n",
      "       [0.]], dtype=float32), 'cut': array([[0.],\n",
      "       [0.],\n",
      "       [0.],\n",
      "       ...,\n",
      "       [0.],\n",
      "       [0.],\n",
      "       [0.]], dtype=float32), 'stab': array([[0.],\n",
      "       [0.],\n",
      "       [0.],\n",
      "       ...,\n",
      "       [0.],\n",
      "       [0.],\n",
      "       [0.]], dtype=float32)}}}]\n"
     ]
    }
   ],
   "source": [
    "import pickle\n",
    "\n",
    "# Load training data\n",
    "with open('/kaggle/working/Affordance3DHighlighter/data/full_shape_train_data.pkl', 'rb') as train_file:\n",
    "    train_data = pickle.load(train_file)\n",
    "# Inspect the contents\n",
    "print(f\"Training Data Type: {type(train_data)}\")\n",
    "print(f\"Training Data Example: {train_data[:1]}\")"
   ]
  },
  {
   "cell_type": "code",
   "execution_count": 5,
   "metadata": {
    "colab": {
     "base_uri": "https://localhost:8080/"
    },
    "execution": {
     "iopub.execute_input": "2024-12-31T00:37:19.829615Z",
     "iopub.status.busy": "2024-12-31T00:37:19.829314Z",
     "iopub.status.idle": "2024-12-31T00:37:44.111762Z",
     "shell.execute_reply": "2024-12-31T00:37:44.110848Z",
     "shell.execute_reply.started": "2024-12-31T00:37:19.829592Z"
    },
    "id": "d8vCbctxbPP4",
    "outputId": "55a100ed-7b85-4630-9e3f-e3ce98c37fff",
    "trusted": true
   },
   "outputs": [
    {
     "name": "stdout",
     "output_type": "stream",
     "text": [
      "Collecting git+https://github.com/openai/CLIP.git\n",
      "  Cloning https://github.com/openai/CLIP.git to /tmp/pip-req-build-3ztithx_\n",
      "  Running command git clone --filter=blob:none --quiet https://github.com/openai/CLIP.git /tmp/pip-req-build-3ztithx_\n",
      "  Resolved https://github.com/openai/CLIP.git to commit dcba3cb2e2827b402d2701e7e1c7d9fed8a20ef1\n",
      "  Preparing metadata (setup.py) ... \u001b[?25l\u001b[?25hdone\n",
      "Collecting ftfy (from clip==1.0)\n",
      "  Downloading ftfy-6.3.1-py3-none-any.whl.metadata (7.3 kB)\n",
      "Requirement already satisfied: packaging in /usr/local/lib/python3.10/dist-packages (from clip==1.0) (24.1)\n",
      "Requirement already satisfied: regex in /usr/local/lib/python3.10/dist-packages (from clip==1.0) (2024.9.11)\n",
      "Requirement already satisfied: tqdm in /usr/local/lib/python3.10/dist-packages (from clip==1.0) (4.66.5)\n",
      "Requirement already satisfied: torch in /usr/local/lib/python3.10/dist-packages (from clip==1.0) (2.4.1+cu121)\n",
      "Requirement already satisfied: torchvision in /usr/local/lib/python3.10/dist-packages (from clip==1.0) (0.19.1+cu121)\n",
      "Requirement already satisfied: wcwidth in /usr/local/lib/python3.10/dist-packages (from ftfy->clip==1.0) (0.2.13)\n",
      "Requirement already satisfied: filelock in /usr/local/lib/python3.10/dist-packages (from torch->clip==1.0) (3.16.1)\n",
      "Requirement already satisfied: typing-extensions>=4.8.0 in /usr/local/lib/python3.10/dist-packages (from torch->clip==1.0) (4.12.2)\n",
      "Requirement already satisfied: sympy in /usr/local/lib/python3.10/dist-packages (from torch->clip==1.0) (1.13.3)\n",
      "Requirement already satisfied: networkx in /usr/local/lib/python3.10/dist-packages (from torch->clip==1.0) (3.3)\n",
      "Requirement already satisfied: jinja2 in /usr/local/lib/python3.10/dist-packages (from torch->clip==1.0) (3.1.4)\n",
      "Requirement already satisfied: fsspec in /usr/local/lib/python3.10/dist-packages (from torch->clip==1.0) (2024.6.1)\n",
      "Requirement already satisfied: numpy in /usr/local/lib/python3.10/dist-packages (from torchvision->clip==1.0) (1.26.4)\n",
      "Requirement already satisfied: pillow!=8.3.*,>=5.3.0 in /usr/local/lib/python3.10/dist-packages (from torchvision->clip==1.0) (10.4.0)\n",
      "Requirement already satisfied: MarkupSafe>=2.0 in /usr/local/lib/python3.10/dist-packages (from jinja2->torch->clip==1.0) (2.1.5)\n",
      "Requirement already satisfied: mpmath<1.4,>=1.1.0 in /usr/local/lib/python3.10/dist-packages (from sympy->torch->clip==1.0) (1.3.0)\n",
      "Downloading ftfy-6.3.1-py3-none-any.whl (44 kB)\n",
      "\u001b[2K   \u001b[90m━━━━━━━━━━━━━━━━━━━━━━━━━━━━━━━━━━━━━━━━\u001b[0m \u001b[32m44.8/44.8 kB\u001b[0m \u001b[31m2.2 MB/s\u001b[0m eta \u001b[36m0:00:00\u001b[0m\n",
      "\u001b[?25hBuilding wheels for collected packages: clip\n",
      "  Building wheel for clip (setup.py) ... \u001b[?25l\u001b[?25hdone\n",
      "  Created wheel for clip: filename=clip-1.0-py3-none-any.whl size=1369490 sha256=a93129ca81058309ceeb0769a8f68ba2c9952ac884cb772a57dd4ee1788b74f6\n",
      "  Stored in directory: /tmp/pip-ephem-wheel-cache-yknca327/wheels/da/2b/4c/d6691fa9597aac8bb85d2ac13b112deb897d5b50f5ad9a37e4\n",
      "Successfully built clip\n",
      "Installing collected packages: ftfy, clip\n",
      "Successfully installed clip-1.0 ftfy-6.3.1\n",
      "Looking in links: https://nvidia-kaolin.s3.us-east-2.amazonaws.com/torch-2.5.1_cu121.html\n",
      "Collecting kaolin==0.17.0\n",
      "  Downloading https://nvidia-kaolin.s3.us-east-2.amazonaws.com/torch-2.5.1_cu121/kaolin-0.17.0-cp310-cp310-linux_x86_64.whl (5.4 MB)\n",
      "\u001b[2K     \u001b[90m━━━━━━━━━━━━━━━━━━━━━━━━━━━━━━━━━━━━━━━━\u001b[0m \u001b[32m5.4/5.4 MB\u001b[0m \u001b[31m7.7 MB/s\u001b[0m eta \u001b[36m0:00:00\u001b[0m00:01\u001b[0m00:01\u001b[0m0m\n",
      "\u001b[?25hCollecting ipycanvas (from kaolin==0.17.0)\n",
      "  Downloading ipycanvas-0.13.3-py2.py3-none-any.whl.metadata (6.3 kB)\n",
      "Requirement already satisfied: ipyevents in /usr/local/lib/python3.10/dist-packages (from kaolin==0.17.0) (2.0.2)\n",
      "Collecting jupyter-client<8 (from kaolin==0.17.0)\n",
      "  Downloading jupyter_client-7.4.9-py3-none-any.whl.metadata (8.5 kB)\n",
      "Requirement already satisfied: flask in /usr/local/lib/python3.10/dist-packages (from kaolin==0.17.0) (2.2.5)\n",
      "Requirement already satisfied: tornado in /usr/local/lib/python3.10/dist-packages (from kaolin==0.17.0) (6.3.3)\n",
      "Requirement already satisfied: comm>=0.1.3 in /usr/local/lib/python3.10/dist-packages (from kaolin==0.17.0) (0.2.2)\n",
      "Collecting usd-core (from kaolin==0.17.0)\n",
      "  Downloading usd_core-24.11-cp310-none-manylinux_2_17_x86_64.manylinux2014_x86_64.whl.metadata (1.5 kB)\n",
      "Requirement already satisfied: numpy<2.0 in /usr/local/lib/python3.10/dist-packages (from kaolin==0.17.0) (1.26.4)\n",
      "Requirement already satisfied: pybind11 in /usr/local/lib/python3.10/dist-packages (from kaolin==0.17.0) (2.13.6)\n",
      "Requirement already satisfied: Pillow>=8.0.0 in /usr/local/lib/python3.10/dist-packages (from kaolin==0.17.0) (10.4.0)\n",
      "Requirement already satisfied: tqdm>=4.51.0 in /usr/local/lib/python3.10/dist-packages (from kaolin==0.17.0) (4.66.5)\n",
      "Requirement already satisfied: scipy in /usr/local/lib/python3.10/dist-packages (from kaolin==0.17.0) (1.13.1)\n",
      "Requirement already satisfied: pygltflib in /usr/local/lib/python3.10/dist-packages (from kaolin==0.17.0) (1.16.3)\n",
      "Collecting warp-lang (from kaolin==0.17.0)\n",
      "  Downloading warp_lang-1.5.0-py3-none-manylinux2014_x86_64.whl.metadata (25 kB)\n",
      "Requirement already satisfied: ipython in /usr/local/lib/python3.10/dist-packages (from kaolin==0.17.0) (7.34.0)\n",
      "Requirement already satisfied: traitlets>=4 in /usr/local/lib/python3.10/dist-packages (from comm>=0.1.3->kaolin==0.17.0) (5.7.1)\n",
      "Requirement already satisfied: entrypoints in /usr/local/lib/python3.10/dist-packages (from jupyter-client<8->kaolin==0.17.0) (0.4)\n",
      "Requirement already satisfied: jupyter-core>=4.9.2 in /usr/local/lib/python3.10/dist-packages (from jupyter-client<8->kaolin==0.17.0) (5.7.2)\n",
      "Requirement already satisfied: nest-asyncio>=1.5.4 in /usr/local/lib/python3.10/dist-packages (from jupyter-client<8->kaolin==0.17.0) (1.6.0)\n",
      "Requirement already satisfied: python-dateutil>=2.8.2 in /usr/local/lib/python3.10/dist-packages (from jupyter-client<8->kaolin==0.17.0) (2.8.2)\n",
      "Requirement already satisfied: pyzmq>=23.0 in /usr/local/lib/python3.10/dist-packages (from jupyter-client<8->kaolin==0.17.0) (24.0.1)\n",
      "Requirement already satisfied: Werkzeug>=2.2.2 in /usr/local/lib/python3.10/dist-packages (from flask->kaolin==0.17.0) (3.0.4)\n",
      "Requirement already satisfied: Jinja2>=3.0 in /usr/local/lib/python3.10/dist-packages (from flask->kaolin==0.17.0) (3.1.4)\n",
      "Requirement already satisfied: itsdangerous>=2.0 in /usr/local/lib/python3.10/dist-packages (from flask->kaolin==0.17.0) (2.2.0)\n",
      "Requirement already satisfied: click>=8.0 in /usr/local/lib/python3.10/dist-packages (from flask->kaolin==0.17.0) (8.1.7)\n",
      "Requirement already satisfied: ipywidgets<9,>=7.6.0 in /usr/local/lib/python3.10/dist-packages (from ipycanvas->kaolin==0.17.0) (8.1.5)\n",
      "Requirement already satisfied: setuptools>=18.5 in /usr/local/lib/python3.10/dist-packages (from ipython->kaolin==0.17.0) (71.0.4)\n",
      "Requirement already satisfied: jedi>=0.16 in /usr/local/lib/python3.10/dist-packages (from ipython->kaolin==0.17.0) (0.19.2)\n",
      "Requirement already satisfied: decorator in /usr/local/lib/python3.10/dist-packages (from ipython->kaolin==0.17.0) (4.4.2)\n",
      "Requirement already satisfied: pickleshare in /usr/local/lib/python3.10/dist-packages (from ipython->kaolin==0.17.0) (0.7.5)\n",
      "Requirement already satisfied: prompt-toolkit!=3.0.0,!=3.0.1,<3.1.0,>=2.0.0 in /usr/local/lib/python3.10/dist-packages (from ipython->kaolin==0.17.0) (3.0.47)\n",
      "Requirement already satisfied: pygments in /usr/local/lib/python3.10/dist-packages (from ipython->kaolin==0.17.0) (2.18.0)\n",
      "Requirement already satisfied: backcall in /usr/local/lib/python3.10/dist-packages (from ipython->kaolin==0.17.0) (0.2.0)\n",
      "Requirement already satisfied: matplotlib-inline in /usr/local/lib/python3.10/dist-packages (from ipython->kaolin==0.17.0) (0.1.7)\n",
      "Requirement already satisfied: pexpect>4.3 in /usr/local/lib/python3.10/dist-packages (from ipython->kaolin==0.17.0) (4.9.0)\n",
      "Requirement already satisfied: dataclasses-json>=0.0.25 in /usr/local/lib/python3.10/dist-packages (from pygltflib->kaolin==0.17.0) (0.6.7)\n",
      "Requirement already satisfied: deprecated in /usr/local/lib/python3.10/dist-packages (from pygltflib->kaolin==0.17.0) (1.2.15)\n",
      "Requirement already satisfied: marshmallow<4.0.0,>=3.18.0 in /usr/local/lib/python3.10/dist-packages (from dataclasses-json>=0.0.25->pygltflib->kaolin==0.17.0) (3.23.1)\n",
      "Requirement already satisfied: typing-inspect<1,>=0.4.0 in /usr/local/lib/python3.10/dist-packages (from dataclasses-json>=0.0.25->pygltflib->kaolin==0.17.0) (0.9.0)\n",
      "Requirement already satisfied: widgetsnbextension~=4.0.12 in /usr/local/lib/python3.10/dist-packages (from ipywidgets<9,>=7.6.0->ipycanvas->kaolin==0.17.0) (4.0.13)\n",
      "Requirement already satisfied: jupyterlab-widgets~=3.0.12 in /usr/local/lib/python3.10/dist-packages (from ipywidgets<9,>=7.6.0->ipycanvas->kaolin==0.17.0) (3.0.13)\n",
      "Requirement already satisfied: parso<0.9.0,>=0.8.4 in /usr/local/lib/python3.10/dist-packages (from jedi>=0.16->ipython->kaolin==0.17.0) (0.8.4)\n",
      "Requirement already satisfied: MarkupSafe>=2.0 in /usr/local/lib/python3.10/dist-packages (from Jinja2>=3.0->flask->kaolin==0.17.0) (2.1.5)\n",
      "Requirement already satisfied: platformdirs>=2.5 in /usr/local/lib/python3.10/dist-packages (from jupyter-core>=4.9.2->jupyter-client<8->kaolin==0.17.0) (4.3.6)\n",
      "Requirement already satisfied: ptyprocess>=0.5 in /usr/local/lib/python3.10/dist-packages (from pexpect>4.3->ipython->kaolin==0.17.0) (0.7.0)\n",
      "Requirement already satisfied: wcwidth in /usr/local/lib/python3.10/dist-packages (from prompt-toolkit!=3.0.0,!=3.0.1,<3.1.0,>=2.0.0->ipython->kaolin==0.17.0) (0.2.13)\n",
      "Requirement already satisfied: six>=1.5 in /usr/local/lib/python3.10/dist-packages (from python-dateutil>=2.8.2->jupyter-client<8->kaolin==0.17.0) (1.16.0)\n",
      "Requirement already satisfied: wrapt<2,>=1.10 in /usr/local/lib/python3.10/dist-packages (from deprecated->pygltflib->kaolin==0.17.0) (1.16.0)\n",
      "Requirement already satisfied: packaging>=17.0 in /usr/local/lib/python3.10/dist-packages (from marshmallow<4.0.0,>=3.18.0->dataclasses-json>=0.0.25->pygltflib->kaolin==0.17.0) (24.1)\n",
      "Requirement already satisfied: mypy-extensions>=0.3.0 in /usr/local/lib/python3.10/dist-packages (from typing-inspect<1,>=0.4.0->dataclasses-json>=0.0.25->pygltflib->kaolin==0.17.0) (1.0.0)\n",
      "Requirement already satisfied: typing-extensions>=3.7.4 in /usr/local/lib/python3.10/dist-packages (from typing-inspect<1,>=0.4.0->dataclasses-json>=0.0.25->pygltflib->kaolin==0.17.0) (4.12.2)\n",
      "Downloading jupyter_client-7.4.9-py3-none-any.whl (133 kB)\n",
      "\u001b[2K   \u001b[90m━━━━━━━━━━━━━━━━━━━━━━━━━━━━━━━━━━━━━━━━\u001b[0m \u001b[32m133.5/133.5 kB\u001b[0m \u001b[31m5.9 MB/s\u001b[0m eta \u001b[36m0:00:00\u001b[0m\n",
      "\u001b[?25hDownloading ipycanvas-0.13.3-py2.py3-none-any.whl (125 kB)\n",
      "\u001b[2K   \u001b[90m━━━━━━━━━━━━━━━━━━━━━━━━━━━━━━━━━━━━━━━━\u001b[0m \u001b[32m125.8/125.8 kB\u001b[0m \u001b[31m8.4 MB/s\u001b[0m eta \u001b[36m0:00:00\u001b[0m\n",
      "\u001b[?25hDownloading usd_core-24.11-cp310-none-manylinux_2_17_x86_64.manylinux2014_x86_64.whl (25.4 MB)\n",
      "\u001b[2K   \u001b[90m━━━━━━━━━━━━━━━━━━━━━━━━━━━━━━━━━━━━━━━━\u001b[0m \u001b[32m25.4/25.4 MB\u001b[0m \u001b[31m42.5 MB/s\u001b[0m eta \u001b[36m0:00:00\u001b[0m00:01\u001b[0m00:01\u001b[0m\n",
      "\u001b[?25hDownloading warp_lang-1.5.0-py3-none-manylinux2014_x86_64.whl (84.6 MB)\n",
      "\u001b[2K   \u001b[90m━━━━━━━━━━━━━━━━━━━━━━━━━━━━━━━━━━━━━━━━\u001b[0m \u001b[32m84.6/84.6 MB\u001b[0m \u001b[31m18.0 MB/s\u001b[0m eta \u001b[36m0:00:00\u001b[0m00:01\u001b[0m00:01\u001b[0mm\n",
      "\u001b[?25hInstalling collected packages: warp-lang, usd-core, jupyter-client, ipycanvas, kaolin\n",
      "  Attempting uninstall: jupyter-client\n",
      "    Found existing installation: jupyter_client 8.6.3\n",
      "    Uninstalling jupyter_client-8.6.3:\n",
      "      Successfully uninstalled jupyter_client-8.6.3\n",
      "Successfully installed ipycanvas-0.13.3 jupyter-client-7.4.9 kaolin-0.17.0 usd-core-24.11 warp-lang-1.5.0\n"
     ]
    }
   ],
   "source": [
    "!pip install git+https://github.com/openai/CLIP.git\n",
    "!pip install kaolin==0.17.0 -f https://nvidia-kaolin.s3.us-east-2.amazonaws.com/torch-2.5.1_cu121.html"
   ]
  },
  {
   "cell_type": "code",
   "execution_count": 6,
   "metadata": {
    "ExecuteTime": {
     "end_time": "2024-12-26T14:58:53.585274Z",
     "start_time": "2024-12-26T14:58:48.836644Z"
    },
    "colab": {
     "base_uri": "https://localhost:8080/"
    },
    "execution": {
     "iopub.execute_input": "2024-12-31T00:37:44.113277Z",
     "iopub.status.busy": "2024-12-31T00:37:44.112984Z",
     "iopub.status.idle": "2024-12-31T00:37:58.508045Z",
     "shell.execute_reply": "2024-12-31T00:37:58.506763Z",
     "shell.execute_reply.started": "2024-12-31T00:37:44.113256Z"
    },
    "id": "sRNWfRMnIzuJ",
    "outputId": "39ed1f77-3f8e-499d-eb2b-8aecadf7c335",
    "trusted": true
   },
   "outputs": [
    {
     "name": "stdout",
     "output_type": "stream",
     "text": [
      "Collecting iopath\n",
      "  Downloading iopath-0.1.10.tar.gz (42 kB)\n",
      "\u001b[2K     \u001b[90m━━━━━━━━━━━━━━━━━━━━━━━━━━━━━━━━━━━━━━━━\u001b[0m \u001b[32m42.2/42.2 kB\u001b[0m \u001b[31m2.6 MB/s\u001b[0m eta \u001b[36m0:00:00\u001b[0m\n",
      "\u001b[?25h  Preparing metadata (setup.py) ... \u001b[?25l\u001b[?25hdone\n",
      "Requirement already satisfied: tqdm in /usr/local/lib/python3.10/dist-packages (from iopath) (4.66.5)\n",
      "Requirement already satisfied: typing_extensions in /usr/local/lib/python3.10/dist-packages (from iopath) (4.12.2)\n",
      "Collecting portalocker (from iopath)\n",
      "  Downloading portalocker-3.0.0-py3-none-any.whl.metadata (8.5 kB)\n",
      "Downloading portalocker-3.0.0-py3-none-any.whl (19 kB)\n",
      "Building wheels for collected packages: iopath\n",
      "  Building wheel for iopath (setup.py) ... \u001b[?25l\u001b[?25hdone\n",
      "  Created wheel for iopath: filename=iopath-0.1.10-py3-none-any.whl size=31529 sha256=3bb99e2c92639c1539f0e605b199880529be65a2ab929c9c398c7294ee59f822\n",
      "  Stored in directory: /root/.cache/pip/wheels/9a/a3/b6/ac0fcd1b4ed5cfeb3db92e6a0e476cfd48ed0df92b91080c1d\n",
      "Successfully built iopath\n",
      "Installing collected packages: portalocker, iopath\n",
      "Successfully installed iopath-0.1.10 portalocker-3.0.0\n",
      "Trying to install wheel for PyTorch3D\n",
      "Looking in links: https://dl.fbaipublicfiles.com/pytorch3d/packaging/wheels/py310_cu121_pyt241/download.html\n",
      "Collecting pytorch3d\n",
      "  Downloading https://dl.fbaipublicfiles.com/pytorch3d/packaging/wheels/py310_cu121_pyt241/pytorch3d-0.7.8-cp310-cp310-linux_x86_64.whl (20.5 MB)\n",
      "\u001b[2K     \u001b[90m━━━━━━━━━━━━━━━━━━━━━━━━━━━━━━━━━━━━━━━━\u001b[0m \u001b[32m20.5/20.5 MB\u001b[0m \u001b[31m169.6 MB/s\u001b[0m eta \u001b[36m0:00:00\u001b[0ma \u001b[36m0:00:01\u001b[0m\n",
      "\u001b[?25hRequirement already satisfied: iopath in /usr/local/lib/python3.10/dist-packages (from pytorch3d) (0.1.10)\n",
      "Requirement already satisfied: tqdm in /usr/local/lib/python3.10/dist-packages (from iopath->pytorch3d) (4.66.5)\n",
      "Requirement already satisfied: typing-extensions in /usr/local/lib/python3.10/dist-packages (from iopath->pytorch3d) (4.12.2)\n",
      "Requirement already satisfied: portalocker in /usr/local/lib/python3.10/dist-packages (from iopath->pytorch3d) (3.0.0)\n",
      "Installing collected packages: pytorch3d\n",
      "Successfully installed pytorch3d-0.7.8\n"
     ]
    }
   ],
   "source": [
    "\n",
    "import sys\n",
    "import torch\n",
    "\n",
    "need_pytorch3d = False\n",
    "try:\n",
    "    import pytorch3d\n",
    "except ModuleNotFoundError:\n",
    "    need_pytorch3d = True\n",
    "if need_pytorch3d:\n",
    "    pyt_version_str = torch.__version__.split(\"+\")[0].replace(\".\", \"\")\n",
    "    version_str = \"\".join([\n",
    "        f\"py3{sys.version_info.minor}_cu\",\n",
    "        torch.version.cuda.replace(\".\", \"\"),\n",
    "        f\"_pyt{pyt_version_str}\"\n",
    "    ])\n",
    "    !pip install iopath\n",
    "    if sys.platform.startswith(\"linux\"):\n",
    "        print(\"Trying to install wheel for PyTorch3D\")\n",
    "        !pip install --no-index --no-cache-dir pytorch3d -f https://dl.fbaipublicfiles.com/pytorch3d/packaging/wheels/{version_str}/download.html\n",
    "        pip_list = !pip freeze\n",
    "        need_pytorch3d = not any(i.startswith(\"pytorch3d==\") for i in pip_list)\n",
    "    if need_pytorch3d:\n",
    "        print(f\"failed to find/install wheel for {version_str}\")\n",
    "if need_pytorch3d:\n",
    "    print(\"Installing PyTorch3D from source\")\n",
    "    !pip install ninja\n",
    "    !pip install 'git+https://github.com/facebookresearch/pytorch3d.git@stable'"
   ]
  },
  {
   "cell_type": "code",
   "execution_count": 7,
   "metadata": {
    "colab": {
     "base_uri": "https://localhost:8080/"
    },
    "execution": {
     "iopub.execute_input": "2024-12-31T00:37:58.510341Z",
     "iopub.status.busy": "2024-12-31T00:37:58.509833Z",
     "iopub.status.idle": "2024-12-31T00:38:18.973069Z",
     "shell.execute_reply": "2024-12-31T00:38:18.972150Z",
     "shell.execute_reply.started": "2024-12-31T00:37:58.510317Z"
    },
    "id": "zT9LfpcRXDHy",
    "outputId": "527d847c-60da-4e72-c096-81cbf9671f92",
    "trusted": true
   },
   "outputs": [
    {
     "name": "stdout",
     "output_type": "stream",
     "text": [
      "Collecting open3d\n",
      "  Downloading open3d-0.18.0-cp310-cp310-manylinux_2_27_x86_64.whl.metadata (4.2 kB)\n",
      "Requirement already satisfied: numpy>=1.18.0 in /usr/local/lib/python3.10/dist-packages (from open3d) (1.26.4)\n",
      "Collecting dash>=2.6.0 (from open3d)\n",
      "  Downloading dash-2.18.2-py3-none-any.whl.metadata (10 kB)\n",
      "Requirement already satisfied: werkzeug>=2.2.3 in /usr/local/lib/python3.10/dist-packages (from open3d) (3.0.4)\n",
      "Requirement already satisfied: nbformat>=5.7.0 in /usr/local/lib/python3.10/dist-packages (from open3d) (5.10.4)\n",
      "Collecting configargparse (from open3d)\n",
      "  Downloading ConfigArgParse-1.7-py3-none-any.whl.metadata (23 kB)\n",
      "Requirement already satisfied: ipywidgets>=8.0.4 in /usr/local/lib/python3.10/dist-packages (from open3d) (8.1.5)\n",
      "Collecting addict (from open3d)\n",
      "  Downloading addict-2.4.0-py3-none-any.whl.metadata (1.0 kB)\n",
      "Requirement already satisfied: pillow>=9.3.0 in /usr/local/lib/python3.10/dist-packages (from open3d) (10.4.0)\n",
      "Requirement already satisfied: matplotlib>=3 in /usr/local/lib/python3.10/dist-packages (from open3d) (3.7.1)\n",
      "Requirement already satisfied: pandas>=1.0 in /usr/local/lib/python3.10/dist-packages (from open3d) (2.1.4)\n",
      "Requirement already satisfied: pyyaml>=5.4.1 in /usr/local/lib/python3.10/dist-packages (from open3d) (6.0.2)\n",
      "Requirement already satisfied: scikit-learn>=0.21 in /usr/local/lib/python3.10/dist-packages (from open3d) (1.2.2)\n",
      "Requirement already satisfied: tqdm in /usr/local/lib/python3.10/dist-packages (from open3d) (4.66.5)\n",
      "Collecting pyquaternion (from open3d)\n",
      "  Downloading pyquaternion-0.9.9-py3-none-any.whl.metadata (1.4 kB)\n",
      "Requirement already satisfied: Flask<3.1,>=1.0.4 in /usr/local/lib/python3.10/dist-packages (from dash>=2.6.0->open3d) (2.2.5)\n",
      "Requirement already satisfied: plotly>=5.0.0 in /usr/local/lib/python3.10/dist-packages (from dash>=2.6.0->open3d) (5.24.1)\n",
      "Collecting dash-html-components==2.0.0 (from dash>=2.6.0->open3d)\n",
      "  Downloading dash_html_components-2.0.0-py3-none-any.whl.metadata (3.8 kB)\n",
      "Collecting dash-core-components==2.0.0 (from dash>=2.6.0->open3d)\n",
      "  Downloading dash_core_components-2.0.0-py3-none-any.whl.metadata (2.9 kB)\n",
      "Collecting dash-table==5.0.0 (from dash>=2.6.0->open3d)\n",
      "  Downloading dash_table-5.0.0-py3-none-any.whl.metadata (2.4 kB)\n",
      "Requirement already satisfied: importlib-metadata in /usr/local/lib/python3.10/dist-packages (from dash>=2.6.0->open3d) (8.5.0)\n",
      "Requirement already satisfied: typing-extensions>=4.1.1 in /usr/local/lib/python3.10/dist-packages (from dash>=2.6.0->open3d) (4.12.2)\n",
      "Requirement already satisfied: requests in /usr/local/lib/python3.10/dist-packages (from dash>=2.6.0->open3d) (2.32.3)\n",
      "Collecting retrying (from dash>=2.6.0->open3d)\n",
      "  Downloading retrying-1.3.4-py3-none-any.whl.metadata (6.9 kB)\n",
      "Requirement already satisfied: nest-asyncio in /usr/local/lib/python3.10/dist-packages (from dash>=2.6.0->open3d) (1.6.0)\n",
      "Requirement already satisfied: setuptools in /usr/local/lib/python3.10/dist-packages (from dash>=2.6.0->open3d) (71.0.4)\n",
      "Requirement already satisfied: comm>=0.1.3 in /usr/local/lib/python3.10/dist-packages (from ipywidgets>=8.0.4->open3d) (0.2.2)\n",
      "Requirement already satisfied: ipython>=6.1.0 in /usr/local/lib/python3.10/dist-packages (from ipywidgets>=8.0.4->open3d) (7.34.0)\n",
      "Requirement already satisfied: traitlets>=4.3.1 in /usr/local/lib/python3.10/dist-packages (from ipywidgets>=8.0.4->open3d) (5.7.1)\n",
      "Requirement already satisfied: widgetsnbextension~=4.0.12 in /usr/local/lib/python3.10/dist-packages (from ipywidgets>=8.0.4->open3d) (4.0.13)\n",
      "Requirement already satisfied: jupyterlab-widgets~=3.0.12 in /usr/local/lib/python3.10/dist-packages (from ipywidgets>=8.0.4->open3d) (3.0.13)\n",
      "Requirement already satisfied: contourpy>=1.0.1 in /usr/local/lib/python3.10/dist-packages (from matplotlib>=3->open3d) (1.3.0)\n",
      "Requirement already satisfied: cycler>=0.10 in /usr/local/lib/python3.10/dist-packages (from matplotlib>=3->open3d) (0.12.1)\n",
      "Requirement already satisfied: fonttools>=4.22.0 in /usr/local/lib/python3.10/dist-packages (from matplotlib>=3->open3d) (4.53.1)\n",
      "Requirement already satisfied: kiwisolver>=1.0.1 in /usr/local/lib/python3.10/dist-packages (from matplotlib>=3->open3d) (1.4.7)\n",
      "Requirement already satisfied: packaging>=20.0 in /usr/local/lib/python3.10/dist-packages (from matplotlib>=3->open3d) (24.1)\n",
      "Requirement already satisfied: pyparsing>=2.3.1 in /usr/local/lib/python3.10/dist-packages (from matplotlib>=3->open3d) (3.1.4)\n",
      "Requirement already satisfied: python-dateutil>=2.7 in /usr/local/lib/python3.10/dist-packages (from matplotlib>=3->open3d) (2.8.2)\n",
      "Requirement already satisfied: fastjsonschema>=2.15 in /usr/local/lib/python3.10/dist-packages (from nbformat>=5.7.0->open3d) (2.20.0)\n",
      "Requirement already satisfied: jsonschema>=2.6 in /usr/local/lib/python3.10/dist-packages (from nbformat>=5.7.0->open3d) (4.23.0)\n",
      "Requirement already satisfied: jupyter-core!=5.0.*,>=4.12 in /usr/local/lib/python3.10/dist-packages (from nbformat>=5.7.0->open3d) (5.7.2)\n",
      "Requirement already satisfied: pytz>=2020.1 in /usr/local/lib/python3.10/dist-packages (from pandas>=1.0->open3d) (2024.2)\n",
      "Requirement already satisfied: tzdata>=2022.1 in /usr/local/lib/python3.10/dist-packages (from pandas>=1.0->open3d) (2024.1)\n",
      "Requirement already satisfied: scipy>=1.3.2 in /usr/local/lib/python3.10/dist-packages (from scikit-learn>=0.21->open3d) (1.13.1)\n",
      "Requirement already satisfied: joblib>=1.1.1 in /usr/local/lib/python3.10/dist-packages (from scikit-learn>=0.21->open3d) (1.4.2)\n",
      "Requirement already satisfied: threadpoolctl>=2.0.0 in /usr/local/lib/python3.10/dist-packages (from scikit-learn>=0.21->open3d) (3.5.0)\n",
      "Requirement already satisfied: MarkupSafe>=2.1.1 in /usr/local/lib/python3.10/dist-packages (from werkzeug>=2.2.3->open3d) (2.1.5)\n",
      "Requirement already satisfied: Jinja2>=3.0 in /usr/local/lib/python3.10/dist-packages (from Flask<3.1,>=1.0.4->dash>=2.6.0->open3d) (3.1.4)\n",
      "Requirement already satisfied: itsdangerous>=2.0 in /usr/local/lib/python3.10/dist-packages (from Flask<3.1,>=1.0.4->dash>=2.6.0->open3d) (2.2.0)\n",
      "Requirement already satisfied: click>=8.0 in /usr/local/lib/python3.10/dist-packages (from Flask<3.1,>=1.0.4->dash>=2.6.0->open3d) (8.1.7)\n",
      "Requirement already satisfied: jedi>=0.16 in /usr/local/lib/python3.10/dist-packages (from ipython>=6.1.0->ipywidgets>=8.0.4->open3d) (0.19.2)\n",
      "Requirement already satisfied: decorator in /usr/local/lib/python3.10/dist-packages (from ipython>=6.1.0->ipywidgets>=8.0.4->open3d) (4.4.2)\n",
      "Requirement already satisfied: pickleshare in /usr/local/lib/python3.10/dist-packages (from ipython>=6.1.0->ipywidgets>=8.0.4->open3d) (0.7.5)\n",
      "Requirement already satisfied: prompt-toolkit!=3.0.0,!=3.0.1,<3.1.0,>=2.0.0 in /usr/local/lib/python3.10/dist-packages (from ipython>=6.1.0->ipywidgets>=8.0.4->open3d) (3.0.47)\n",
      "Requirement already satisfied: pygments in /usr/local/lib/python3.10/dist-packages (from ipython>=6.1.0->ipywidgets>=8.0.4->open3d) (2.18.0)\n",
      "Requirement already satisfied: backcall in /usr/local/lib/python3.10/dist-packages (from ipython>=6.1.0->ipywidgets>=8.0.4->open3d) (0.2.0)\n",
      "Requirement already satisfied: matplotlib-inline in /usr/local/lib/python3.10/dist-packages (from ipython>=6.1.0->ipywidgets>=8.0.4->open3d) (0.1.7)\n",
      "Requirement already satisfied: pexpect>4.3 in /usr/local/lib/python3.10/dist-packages (from ipython>=6.1.0->ipywidgets>=8.0.4->open3d) (4.9.0)\n",
      "Requirement already satisfied: attrs>=22.2.0 in /usr/local/lib/python3.10/dist-packages (from jsonschema>=2.6->nbformat>=5.7.0->open3d) (24.2.0)\n",
      "Requirement already satisfied: jsonschema-specifications>=2023.03.6 in /usr/local/lib/python3.10/dist-packages (from jsonschema>=2.6->nbformat>=5.7.0->open3d) (2023.12.1)\n",
      "Requirement already satisfied: referencing>=0.28.4 in /usr/local/lib/python3.10/dist-packages (from jsonschema>=2.6->nbformat>=5.7.0->open3d) (0.35.1)\n",
      "Requirement already satisfied: rpds-py>=0.7.1 in /usr/local/lib/python3.10/dist-packages (from jsonschema>=2.6->nbformat>=5.7.0->open3d) (0.20.0)\n",
      "Requirement already satisfied: platformdirs>=2.5 in /usr/local/lib/python3.10/dist-packages (from jupyter-core!=5.0.*,>=4.12->nbformat>=5.7.0->open3d) (4.3.6)\n",
      "Requirement already satisfied: tenacity>=6.2.0 in /usr/local/lib/python3.10/dist-packages (from plotly>=5.0.0->dash>=2.6.0->open3d) (9.0.0)\n",
      "Requirement already satisfied: six>=1.5 in /usr/local/lib/python3.10/dist-packages (from python-dateutil>=2.7->matplotlib>=3->open3d) (1.16.0)\n",
      "Requirement already satisfied: zipp>=3.20 in /usr/local/lib/python3.10/dist-packages (from importlib-metadata->dash>=2.6.0->open3d) (3.20.2)\n",
      "Requirement already satisfied: charset-normalizer<4,>=2 in /usr/local/lib/python3.10/dist-packages (from requests->dash>=2.6.0->open3d) (3.3.2)\n",
      "Requirement already satisfied: idna<4,>=2.5 in /usr/local/lib/python3.10/dist-packages (from requests->dash>=2.6.0->open3d) (3.10)\n",
      "Requirement already satisfied: urllib3<3,>=1.21.1 in /usr/local/lib/python3.10/dist-packages (from requests->dash>=2.6.0->open3d) (2.2.3)\n",
      "Requirement already satisfied: certifi>=2017.4.17 in /usr/local/lib/python3.10/dist-packages (from requests->dash>=2.6.0->open3d) (2024.8.30)\n",
      "Requirement already satisfied: parso<0.9.0,>=0.8.4 in /usr/local/lib/python3.10/dist-packages (from jedi>=0.16->ipython>=6.1.0->ipywidgets>=8.0.4->open3d) (0.8.4)\n",
      "Requirement already satisfied: ptyprocess>=0.5 in /usr/local/lib/python3.10/dist-packages (from pexpect>4.3->ipython>=6.1.0->ipywidgets>=8.0.4->open3d) (0.7.0)\n",
      "Requirement already satisfied: wcwidth in /usr/local/lib/python3.10/dist-packages (from prompt-toolkit!=3.0.0,!=3.0.1,<3.1.0,>=2.0.0->ipython>=6.1.0->ipywidgets>=8.0.4->open3d) (0.2.13)\n",
      "Downloading open3d-0.18.0-cp310-cp310-manylinux_2_27_x86_64.whl (399.7 MB)\n",
      "\u001b[2K   \u001b[90m━━━━━━━━━━━━━━━━━━━━━━━━━━━━━━━━━━━━━━━━\u001b[0m \u001b[32m399.7/399.7 MB\u001b[0m \u001b[31m4.3 MB/s\u001b[0m eta \u001b[36m0:00:00\u001b[0m0:00:01\u001b[0m00:01\u001b[0m\n",
      "\u001b[?25hDownloading dash-2.18.2-py3-none-any.whl (7.8 MB)\n",
      "\u001b[2K   \u001b[90m━━━━━━━━━━━━━━━━━━━━━━━━━━━━━━━━━━━━━━━━\u001b[0m \u001b[32m7.8/7.8 MB\u001b[0m \u001b[31m110.5 MB/s\u001b[0m eta \u001b[36m0:00:00\u001b[0m00:01\u001b[0m\n",
      "\u001b[?25hDownloading dash_core_components-2.0.0-py3-none-any.whl (3.8 kB)\n",
      "Downloading dash_html_components-2.0.0-py3-none-any.whl (4.1 kB)\n",
      "Downloading dash_table-5.0.0-py3-none-any.whl (3.9 kB)\n",
      "Downloading addict-2.4.0-py3-none-any.whl (3.8 kB)\n",
      "Downloading ConfigArgParse-1.7-py3-none-any.whl (25 kB)\n",
      "Downloading pyquaternion-0.9.9-py3-none-any.whl (14 kB)\n",
      "Downloading retrying-1.3.4-py3-none-any.whl (11 kB)\n",
      "Installing collected packages: dash-table, dash-html-components, dash-core-components, addict, retrying, pyquaternion, configargparse, dash, open3d\n",
      "Successfully installed addict-2.4.0 configargparse-1.7 dash-2.18.2 dash-core-components-2.0.0 dash-html-components-2.0.0 dash-table-5.0.0 open3d-0.18.0 pyquaternion-0.9.9 retrying-1.3.4\n"
     ]
    }
   ],
   "source": [
    "!pip install open3d"
   ]
  },
  {
   "cell_type": "code",
   "execution_count": 9,
   "metadata": {
    "colab": {
     "base_uri": "https://localhost:8080/"
    },
    "execution": {
     "iopub.execute_input": "2024-12-30T21:49:30.907987Z",
     "iopub.status.busy": "2024-12-30T21:49:30.907664Z",
     "iopub.status.idle": "2024-12-30T21:49:31.604721Z",
     "shell.execute_reply": "2024-12-30T21:49:31.603879Z",
     "shell.execute_reply.started": "2024-12-30T21:49:30.907957Z"
    },
    "id": "FTk44DGYYIBS",
    "outputId": "864b8bfd-a638-4f09-f520-d3f0fb75389c",
    "trusted": true
   },
   "outputs": [
    {
     "name": "stdout",
     "output_type": "stream",
     "text": [
      "--2024-12-30 21:49:31--  https://dl.fbaipublicfiles.com/pytorch3d/data/PittsburghBridge/pointcloud.npz\n",
      "Resolving dl.fbaipublicfiles.com (dl.fbaipublicfiles.com)... 18.244.202.103, 18.244.202.73, 18.244.202.25, ...\n",
      "Connecting to dl.fbaipublicfiles.com (dl.fbaipublicfiles.com)|18.244.202.103|:443... connected.\n",
      "HTTP request sent, awaiting response... 200 OK\n",
      "Length: 5701352 (5.4M) [application/zip]\n",
      "Saving to: ‘data/PittsburghBridge/pointcloud.npz’\n",
      "\n",
      "pointcloud.npz      100%[===================>]   5.44M  26.5MB/s    in 0.2s    \n",
      "\n",
      "2024-12-30 21:49:31 (26.5 MB/s) - ‘data/PittsburghBridge/pointcloud.npz’ saved [5701352/5701352]\n",
      "\n"
     ]
    }
   ],
   "source": [
    "!mkdir -p data/PittsburghBridge\n",
    "!wget -P data/PittsburghBridge https://dl.fbaipublicfiles.com/pytorch3d/data/PittsburghBridge/pointcloud.npz"
   ]
  },
  {
   "cell_type": "code",
   "execution_count": 8,
   "metadata": {
    "execution": {
     "iopub.execute_input": "2024-12-31T00:38:18.974687Z",
     "iopub.status.busy": "2024-12-31T00:38:18.974440Z",
     "iopub.status.idle": "2024-12-31T00:38:21.462495Z",
     "shell.execute_reply": "2024-12-31T00:38:21.461666Z",
     "shell.execute_reply.started": "2024-12-31T00:38:18.974667Z"
    },
    "trusted": true
   },
   "outputs": [
    {
     "name": "stdout",
     "output_type": "stream",
     "text": [
      "Warp 1.5.0 initialized:\n",
      "   CUDA Toolkit 12.6, Driver 12.6\n",
      "   Devices:\n",
      "     \"cpu\"      : \"x86_64\"\n",
      "     \"cuda:0\"   : \"Tesla P100-PCIE-16GB\" (16 GiB, sm_60, mempool enabled)\n",
      "   Kernel cache:\n",
      "     /root/.cache/warp/1.5.0\n"
     ]
    }
   ],
   "source": [
    "\n",
    "from src.mesh import Mesh\n",
    "from pytorch3d.structures import Pointclouds\n",
    "\n",
    "from src.convertor import obj_to_pointcloud\n",
    "\n",
    "\n",
    "def bounding_sphere_normalize(points: torch.Tensor) -> torch.Tensor:\n",
    "    \"\"\"\n",
    "    points: (N,3) tensor of point coords\n",
    "    Return normalized points in a unit sphere centered at origin.\n",
    "    \"\"\"\n",
    "    center = points.mean(dim=0, keepdim=True)\n",
    "    max_dist = (points - center).norm(p=2, dim=1).max()\n",
    "    points_normed = (points - center) / max_dist\n",
    "    return points_normed\n",
    "\n",
    "\n",
    "def load_3d_data(file_path, num_points=10000, device=\"cuda\", do_normalize=True):\n",
    "    \"\"\"\n",
    "    Loads 3D data as PyTorch3D Pointclouds from either NPZ point cloud or OBJ mesh.\n",
    "\n",
    "    Args:\n",
    "        file_path: Path to either .npz point cloud or .obj mesh file\n",
    "        num_points: Number of points to sample if loading from mesh\n",
    "        device: Device to load data on\n",
    "\n",
    "    Returns:\n",
    "        Pointclouds object containing points and features\n",
    "    \"\"\"\n",
    "    file_ext = file_path.split('.')[-1].lower()\n",
    "\n",
    "    if file_ext == 'npz':\n",
    "        # Load NPZ point cloud directly like in the example\n",
    "        pointcloud = np.load(file_path)\n",
    "        verts = torch.Tensor(pointcloud['verts']).to(device)\n",
    "        rgb = torch.Tensor(pointcloud['rgb']).to(device)\n",
    "\n",
    "        print(\"lenght of the data\")\n",
    "        print(len(verts))\n",
    "\n",
    "        # Subsample if needed\n",
    "        if len(verts) > num_points:\n",
    "            idx = torch.randperm(len(verts))[:num_points]\n",
    "            verts = verts[idx]\n",
    "            rgb = rgb[idx]\n",
    "\n",
    "        if do_normalize:\n",
    "            verts = bounding_sphere_normalize(verts)\n",
    "\n",
    "        # Return both the points tensor and the Pointclouds object\n",
    "        point_cloud = Pointclouds(points=[verts], features=[rgb])\n",
    "        return verts, point_cloud  # Return both\n",
    "\n",
    "    elif file_ext == 'obj':\n",
    "        # Load and convert your OBJ file\n",
    "        points, point_cloud = obj_to_pointcloud(\n",
    "            file_path,\n",
    "            num_points=num_points,  # Adjust this number as needed\n",
    "            device=\"cuda\"  # Use \"cpu\" if you don't have a GPU\n",
    "        )\n",
    "        if do_normalize:\n",
    "            points = bounding_sphere_normalize(points)\n",
    "            # here we update the point cloud too\n",
    "            rgb = point_cloud.features_packed() # shape [N,3]\n",
    "            point_cloud = Pointclouds(points = [points], features = [rgb])\n",
    "        return points, point_cloud\n",
    "        # # Load mesh and sample points\n",
    "        # mesh = Mesh(file_path)\n",
    "        # vertices = mesh.vertices\n",
    "\n",
    "        # # Sample random points\n",
    "        # idx = torch.randperm(vertices.shape[0])[:num_points]\n",
    "        # points = vertices[idx].to(device)\n",
    "\n",
    "        # # Initialize with gray color\n",
    "        # colors = torch.ones_like(points) * 0.7\n",
    "\n",
    "        # return Pointclouds(points=[points], features=[colors])\n",
    "\n",
    "    else:\n",
    "        raise ValueError(f\"Unsupported file format: {file_ext}. Only .npz and .obj are supported.\")\n",
    "\n"
   ]
  },
  {
   "cell_type": "code",
   "execution_count": 29,
   "metadata": {
    "execution": {
     "iopub.execute_input": "2024-12-29T14:25:41.677365Z",
     "iopub.status.busy": "2024-12-29T14:25:41.677027Z",
     "iopub.status.idle": "2024-12-29T14:25:41.682294Z",
     "shell.execute_reply": "2024-12-29T14:25:41.681359Z",
     "shell.execute_reply.started": "2024-12-29T14:25:41.677336Z"
    },
    "trusted": true
   },
   "outputs": [],
   "source": [
    "def print_grad_fn(tensor, depth=0):\n",
    "    \"\"\"Recursively print the gradient function graph\"\"\"\n",
    "    if tensor.grad_fn is None:\n",
    "        print(\"  \" * depth + \"None (leaf tensor)\")\n",
    "        return\n",
    "\n",
    "    print(\"  \" * depth + str(tensor.grad_fn))\n",
    "    for fn in tensor.grad_fn.next_functions:\n",
    "        if fn[0] is not None:\n",
    "            print(\"  \" * (depth + 1) + str(fn[0]))"
   ]
  },
  {
   "cell_type": "code",
   "execution_count": 9,
   "metadata": {
    "execution": {
     "iopub.execute_input": "2024-12-31T00:38:21.463554Z",
     "iopub.status.busy": "2024-12-31T00:38:21.463252Z",
     "iopub.status.idle": "2024-12-31T00:38:23.754094Z",
     "shell.execute_reply": "2024-12-31T00:38:23.753420Z",
     "shell.execute_reply.started": "2024-12-31T00:38:21.463535Z"
    },
    "id": "E0SBrmlBkwib",
    "trusted": true
   },
   "outputs": [
    {
     "name": "stdout",
     "output_type": "stream",
     "text": [
      "Jupyter environment detected. Enabling Open3D WebVisualizer.\n",
      "[Open3D INFO] WebRTC GUI backend enabled.\n",
      "[Open3D INFO] WebRTCWindowSystem: HTTP handshake server disabled.\n"
     ]
    }
   ],
   "source": [
    "\n",
    "from src.render.cloud_point_renderer import MultiViewPointCloudRenderer\n",
    "from src.save_results import save_renders, save_results\n",
    "from src.neural_highlighter import NeuralHighlighter\n",
    "from src.Clip.loss_function import clip_loss\n",
    "from src.Clip.clip_model import get_clip_model, encode_text, setup_clip_transforms\n",
    "\n",
    "import torch\n",
    "import numpy as np\n",
    "import random\n",
    "from tqdm import tqdm\n",
    "\n",
    "# Constrain most sources of randomness\n",
    "# (some torch backwards functions within CLIP are non-determinstic)\n",
    "# Set a consistent seed for reproducibility\n",
    "seed = 0  # You can use any integer value\n",
    "torch.manual_seed(seed)\n",
    "torch.cuda.manual_seed(seed)\n",
    "torch.cuda.manual_seed_all(seed)\n",
    "random.seed(seed)\n",
    "np.random.seed(seed)\n",
    "torch.backends.cudnn.benchmark = False\n",
    "torch.backends.cudnn.deterministic = True\n",
    "\n",
    "\n",
    "def optimize_point_cloud(points, clip_model, renderer, encoded_text, log_dir: str, **kwargs):\n",
    "    num_iterations = kwargs.get('num_iterations', 1000)\n",
    "    learning_rate = kwargs.get('learning_rate', 1e-4)\n",
    "    depth = kwargs.get('depth', 5)\n",
    "    width = kwargs.get('network_width', 256)\n",
    "    n_views = kwargs.get(\"n_views\", 4)\n",
    "    n_augs = kwargs.get('n_augs', 1)\n",
    "    clipavg = kwargs.get('clipavg', 'view')\n",
    "    device = kwargs.get('device', 'cuda')\n",
    "\n",
    "    # Initialize network and optimizer\n",
    "    net = NeuralHighlighter(\n",
    "        depth=depth,  # Number of hidden layers\n",
    "        width=width,  # Width of each layer\n",
    "        out_dim=2,  # Binary classification (highlight/no-highlight)\n",
    "        input_dim=3,  # 3D coordinates (x,y,z)\n",
    "        positional_encoding=False  # As recommended in the paper\n",
    "    ).to(device)\n",
    "    optimizer = torch.optim.Adam(net.parameters(), lr=learning_rate)\n",
    "\n",
    "    # Set up the transforms\n",
    "    clip_transform, augment_transform = setup_clip_transforms()\n",
    "\n",
    "    # Training loop\n",
    "    for i in tqdm(range(num_iterations)):\n",
    "        optimizer.zero_grad()\n",
    "\n",
    "        # Predict highlight probabilities\n",
    "        pred_class = net(points)\n",
    "\n",
    "        # Create colors based on predictions\n",
    "        highlight_color = torch.tensor([204 / 255, 1.0, 0.0]).to(device)\n",
    "        base_color = torch.tensor([180 / 255, 180 / 255, 180 / 255]).to(device)\n",
    "\n",
    "        colors = pred_class[:, 0:1] * highlight_color + pred_class[:, 1:2] * base_color\n",
    "\n",
    "        # Create and render point cloud\n",
    "        point_cloud = renderer.create_point_cloud(points, colors)\n",
    "        rendered_images = renderer.render_all_views(point_cloud=point_cloud, n_views=n_views)\n",
    "        # Convert dictionary of images to tensor\n",
    "        rendered_tensor = []\n",
    "        for name, img in rendered_images.items():\n",
    "            rendered_tensor.append(img.to(device))\n",
    "        rendered_tensor = torch.stack(rendered_tensor)\n",
    "\n",
    "        #Convert rendered images to CLIP format\n",
    "        rendered_images = rendered_tensor.permute(0, 3, 1, 2)  # [B, H, W, C] -> [B, C, H, W]\n",
    "        #print(rendered_images.shape)\n",
    "\n",
    "        # Calculate CLIP loss\n",
    "        loss = clip_loss(\n",
    "            rendered_images=rendered_images,\n",
    "            encoded_text=encoded_text,\n",
    "            clip_transform=clip_transform,\n",
    "            augment_transform=augment_transform,\n",
    "            clip_model=clip_model,\n",
    "            n_augs=n_augs,\n",
    "            clipavg=clipavg\n",
    "        )\n",
    "        #print(\"Loss computation graph:\")\n",
    "        #print_grad_fn(loss)\n",
    "        loss.backward()\n",
    "        optimizer.step()\n",
    "\n",
    "        if i % 100 == 0:\n",
    "            print(f\"Iteration {i}, Loss: {loss.item():.4f}\")\n",
    "            save_renders(log_dir, i, rendered_images)\n",
    "\n",
    "    return net\n",
    "\n",
    "\n",
    "def main(input_path, object_name, highlight_region, **kwargs):\n",
    "    \"\"\"\n",
    "    Main function for 3D highlighting with configurable parameters.\n",
    "    \n",
    "    Args:\n",
    "        input_path: Path to input 3D file (mesh or point cloud)\n",
    "        object_name: Name of the object for the prompt\n",
    "        highlight_region: Region to highlight\n",
    "        **kwargs: Optional parameters with defaults:\n",
    "            n_views: Number of views to render (default: 5)\n",
    "            n_aug: Number of augmentations (default: 5) \n",
    "            clipavg: Method for CLIP averaging (default: \"view\")\n",
    "            network_depth: Depth of neural network (default: 5)\n",
    "            network_width: Width of neural layers (default: 256)\n",
    "            learning_rate: Learning rate for optimization (default: 1e-4)\n",
    "            num_iterations: Number of training iterations (default: 500)\n",
    "            num_points: Number of points to sample (default: 10000)\n",
    "            device: Device to run on (default: \"cuda\")\n",
    "            output_dir: Directory for outputs (default: \"./output\")\n",
    "    \"\"\"\n",
    "    # Extract parameters from kwargs with defaults\n",
    "    n_views = kwargs.get(\"n_views\", 4)\n",
    "    num_points = kwargs.get(\"num_points\", 10000)\n",
    "    device = kwargs.get(\"device\", \"cuda\")\n",
    "    output_dir = kwargs.get(\"output_dir\", \"./output\")\n",
    "    do_normalize = kwargs.get(\"do_normalize\", True) \n",
    "    \n",
    "    try:\n",
    "        # Create output directory if it doesn't exist\n",
    "        os.makedirs(output_dir, exist_ok=True)\n",
    "\n",
    "        # Load 3D data (either mesh or point cloud)\n",
    "        print(f\"Loading 3D data from {input_path}...\")\n",
    "        points, point_cloud = load_3d_data(input_path, num_points=num_points, device=device)\n",
    "        print(f\"Loaded {len(points)} points\")\n",
    "\n",
    "        # Setup CLIP model\n",
    "        print(\"Setting up CLIP model...\")\n",
    "        clip_model, preprocess, resolution = get_clip_model()\n",
    "\n",
    "        # Create and encode prompt\n",
    "        prompt = f\"A 3D render of a gray {object_name} with highlighted {highlight_region}\"\n",
    "        print(f\"Using prompt: {prompt}\")\n",
    "        text_features = encode_text(clip_model, prompt, device)\n",
    "\n",
    "        # Initialize renderer\n",
    "        print(\"Setting up renderer...\")\n",
    "        renderer = MultiViewPointCloudRenderer(\n",
    "            image_size=512,\n",
    "            base_dist=30,  # Your default view distance\n",
    "            base_elev=10,  # Your default elevation\n",
    "            base_azim=0,  # Your default azimuth\n",
    "            device=device\n",
    "        )\n",
    "\n",
    "        # Optimize point cloud highlighting\n",
    "        print(\"Starting optimization...\")\n",
    "        net = optimize_point_cloud(\n",
    "            points=points,\n",
    "            renderer=renderer,\n",
    "            clip_model=clip_model,\n",
    "            encoded_text=text_features,\n",
    "            log_dir=output_dir,\n",
    "            **kwargs\n",
    "        )\n",
    "\n",
    "        # Save results\n",
    "        print(\"Saving results...\")\n",
    "        save_results(\n",
    "            net=net,\n",
    "            points=points,\n",
    "            n_views=n_views,\n",
    "            prompt=prompt,\n",
    "            output_dir=output_dir,\n",
    "            renderer=renderer,\n",
    "            device=device\n",
    "        )\n",
    "\n",
    "        print(\"Processing complete!\")\n",
    "        return net, points\n",
    "\n",
    "    except Exception as e:\n",
    "        print(f\"Error in processing: {str(e)}\")\n",
    "        raise\n",
    "\n"
   ]
  },
  {
   "cell_type": "code",
   "execution_count": null,
   "metadata": {
    "colab": {
     "base_uri": "https://localhost:8080/"
    },
    "execution": {
     "iopub.execute_input": "2024-12-29T14:51:45.103620Z",
     "iopub.status.busy": "2024-12-29T14:51:45.103314Z",
     "iopub.status.idle": "2024-12-29T14:55:01.180282Z",
     "shell.execute_reply": "2024-12-29T14:55:01.179493Z",
     "shell.execute_reply.started": "2024-12-29T14:51:45.103597Z"
    },
    "id": "uD_gYzdOpy-t",
    "outputId": "d0563f73-0957-4301-d62e-4937f39216e6",
    "trusted": true
   },
   "outputs": [],
   "source": [
    "main(\n",
    "    input_path=\"/kaggle/working/Affordance3DHighlighter/data/candle.obj\",\n",
    "    object_name=\"candle\",\n",
    "    highlight_region=\"head\",\n",
    "    n_views=4,\n",
    "    n_augs=1,\n",
    "    clipavg=\"view\",\n",
    "    network_depth=5,\n",
    "    network_width=256,\n",
    "    learning_rate=1e-4,\n",
    "    num_iterations=500,\n",
    "    num_points=100000,\n",
    "    device=\"cuda\",\n",
    "    output_dir=\"./output\"\n",
    ")"
   ]
  },
  {
   "cell_type": "markdown",
   "metadata": {},
   "source": [
    "### Evaluation for part 3 "
   ]
  },
  {
   "cell_type": "markdown",
   "metadata": {},
   "source": [
    "The below code block with evaluation_fullshapev2 is just for testing purposes. "
   ]
  },
  {
   "cell_type": "code",
   "execution_count": 10,
   "metadata": {
    "execution": {
     "iopub.execute_input": "2024-12-31T00:38:23.755400Z",
     "iopub.status.busy": "2024-12-31T00:38:23.755011Z",
     "iopub.status.idle": "2024-12-31T00:42:02.604594Z",
     "shell.execute_reply": "2024-12-31T00:42:02.603903Z",
     "shell.execute_reply.started": "2024-12-31T00:38:23.755378Z"
    },
    "trusted": true
   },
   "outputs": [
    {
     "name": "stderr",
     "output_type": "stream",
     "text": [
      "100%|███████████████████████████████████████| 890M/890M [00:23<00:00, 39.7MiB/s]\n"
     ]
    },
    {
     "name": "stdout",
     "output_type": "stream",
     "text": [
      "ModuleList(\n",
      "  (0): Linear(in_features=3, out_features=256, bias=True)\n",
      "  (1): ReLU()\n",
      "  (2): LayerNorm((256,), eps=1e-05, elementwise_affine=True)\n",
      "  (3): Linear(in_features=256, out_features=256, bias=True)\n",
      "  (4): ReLU()\n",
      "  (5): LayerNorm((256,), eps=1e-05, elementwise_affine=True)\n",
      "  (6): Linear(in_features=256, out_features=256, bias=True)\n",
      "  (7): ReLU()\n",
      "  (8): LayerNorm((256,), eps=1e-05, elementwise_affine=True)\n",
      "  (9): Linear(in_features=256, out_features=256, bias=True)\n",
      "  (10): ReLU()\n",
      "  (11): LayerNorm((256,), eps=1e-05, elementwise_affine=True)\n",
      "  (12): Linear(in_features=256, out_features=256, bias=True)\n",
      "  (13): ReLU()\n",
      "  (14): LayerNorm((256,), eps=1e-05, elementwise_affine=True)\n",
      "  (15): Linear(in_features=256, out_features=256, bias=True)\n",
      "  (16): ReLU()\n",
      "  (17): LayerNorm((256,), eps=1e-05, elementwise_affine=True)\n",
      "  (18): Linear(in_features=256, out_features=2, bias=True)\n",
      "  (19): Softmax(dim=1)\n",
      ")\n",
      "Using prompt: A 3D render of a gray Door with highlighted openable\n",
      "Starting optimization...\n",
      "ModuleList(\n",
      "  (0): Linear(in_features=3, out_features=256, bias=True)\n",
      "  (1): ReLU()\n",
      "  (2): LayerNorm((256,), eps=1e-05, elementwise_affine=True)\n",
      "  (3): Linear(in_features=256, out_features=256, bias=True)\n",
      "  (4): ReLU()\n",
      "  (5): LayerNorm((256,), eps=1e-05, elementwise_affine=True)\n",
      "  (6): Linear(in_features=256, out_features=256, bias=True)\n",
      "  (7): ReLU()\n",
      "  (8): LayerNorm((256,), eps=1e-05, elementwise_affine=True)\n",
      "  (9): Linear(in_features=256, out_features=256, bias=True)\n",
      "  (10): ReLU()\n",
      "  (11): LayerNorm((256,), eps=1e-05, elementwise_affine=True)\n",
      "  (12): Linear(in_features=256, out_features=256, bias=True)\n",
      "  (13): ReLU()\n",
      "  (14): LayerNorm((256,), eps=1e-05, elementwise_affine=True)\n",
      "  (15): Linear(in_features=256, out_features=256, bias=True)\n",
      "  (16): ReLU()\n",
      "  (17): LayerNorm((256,), eps=1e-05, elementwise_affine=True)\n",
      "  (18): Linear(in_features=256, out_features=2, bias=True)\n",
      "  (19): Softmax(dim=1)\n",
      ")\n"
     ]
    },
    {
     "name": "stderr",
     "output_type": "stream",
     "text": [
      "  0%|          | 1/500 [00:01<09:33,  1.15s/it]"
     ]
    },
    {
     "name": "stdout",
     "output_type": "stream",
     "text": [
      "Iteration 0, Loss: -0.2380\n"
     ]
    },
    {
     "name": "stderr",
     "output_type": "stream",
     "text": [
      " 20%|██        | 101/500 [00:36<02:23,  2.77it/s]"
     ]
    },
    {
     "name": "stdout",
     "output_type": "stream",
     "text": [
      "Iteration 100, Loss: -0.2114\n"
     ]
    },
    {
     "name": "stderr",
     "output_type": "stream",
     "text": [
      " 40%|████      | 201/500 [01:11<01:47,  2.77it/s]"
     ]
    },
    {
     "name": "stdout",
     "output_type": "stream",
     "text": [
      "Iteration 200, Loss: -0.2732\n"
     ]
    },
    {
     "name": "stderr",
     "output_type": "stream",
     "text": [
      " 60%|██████    | 301/500 [01:46<01:11,  2.78it/s]"
     ]
    },
    {
     "name": "stdout",
     "output_type": "stream",
     "text": [
      "Iteration 300, Loss: -0.2242\n"
     ]
    },
    {
     "name": "stderr",
     "output_type": "stream",
     "text": [
      " 80%|████████  | 401/500 [02:22<00:35,  2.78it/s]"
     ]
    },
    {
     "name": "stdout",
     "output_type": "stream",
     "text": [
      "Iteration 400, Loss: -0.2411\n"
     ]
    },
    {
     "name": "stderr",
     "output_type": "stream",
     "text": [
      "100%|██████████| 500/500 [02:56<00:00,  2.83it/s]\n"
     ]
    },
    {
     "name": "stdout",
     "output_type": "stream",
     "text": [
      "Saving results...\n",
      "Processing complete for shape_id: 5b04e0f9bfb4e98aa965a3d6737ac4\n",
      "Evaluation Results: [{'shape_id': '5b04e0f9bfb4e98aa965a3d6737ac4', 'shape_class': 'Door', 'affordance': 'openable', 'IoU': 0.018284106627106667, 'prompt': 'A 3D render of a gray Door with highlighted openable regions'}, {'shape_id': '5b04e0f9bfb4e98aa965a3d6737ac4', 'shape_class': 'Door', 'affordance': 'pushable', 'IoU': 0.01825842633843422, 'prompt': 'A 3D render of a gray Door with highlighted pushable regions'}, {'shape_id': '5b04e0f9bfb4e98aa965a3d6737ac4', 'shape_class': 'Door', 'affordance': 'pull', 'IoU': 0.018284106627106667, 'prompt': 'A 3D render of a gray Door with highlighted pull regions'}]\n"
     ]
    }
   ],
   "source": [
    "from src.evaluation_fullshapev2 import evaluate_single_object, visualize_single_object\n",
    "from src.data_loader_fullshape import FullShapeDataset, create_dataset_splits\n",
    "from src.render.cloud_point_renderer import MultiViewPointCloudRenderer\n",
    "from src.neural_highlighter import NeuralHighlighter\n",
    "from src.Clip.clip_model import get_clip_model, encode_text\n",
    "\n",
    "def main(data_entry, net, clip_model, renderer, device=\"cuda\", **kwargs):\n",
    "    \"\"\"\n",
    "    Main function to process a single dataset entry.\n",
    "    Args:\n",
    "        data_entry (dict): Single object data from the dataset.\n",
    "        net: Neural highlighting model.\n",
    "        clip_model: CLIP model.\n",
    "        renderer: Renderer for visualization.\n",
    "        device (str): Device for computation.\n",
    "        **kwargs: Additional parameters for optimization.\n",
    "    \"\"\"\n",
    "    try:\n",
    "        # Extract information from the dataset entry\n",
    "        points = data_entry[\"coords\"]  # Nx3 point cloud\n",
    "        shape_id = data_entry[\"shape_id\"]\n",
    "        shape_class = data_entry[\"shape_class\"]\n",
    "        highlight_region = data_entry[\"affordances\"][0]  # Use the first affordance for testing\n",
    "        \n",
    "        # Generate prompt\n",
    "        prompt = f\"A 3D render of a gray {shape_class} with highlighted {highlight_region}\"\n",
    "        print(f\"Using prompt: {prompt}\")\n",
    "        text_features = encode_text(clip_model, prompt, device)\n",
    "\n",
    "        # Optimize point cloud highlighting\n",
    "        print(\"Starting optimization...\")\n",
    "        net = optimize_point_cloud(\n",
    "            points=points,\n",
    "            renderer=renderer,\n",
    "            clip_model=clip_model,\n",
    "            encoded_text=text_features,\n",
    "            log_dir=kwargs.get(\"output_dir\", \"./output\"),\n",
    "            **kwargs\n",
    "        )\n",
    "\n",
    "        # Save results\n",
    "        print(\"Saving results...\")\n",
    "        save_results(\n",
    "            net=net,\n",
    "            points=points,\n",
    "            n_views=kwargs.get(\"n_views\", 4),\n",
    "            prompt=prompt,\n",
    "            output_dir=kwargs.get(\"output_dir\", \"./output\"),\n",
    "            renderer=renderer,\n",
    "            device=device\n",
    "        )\n",
    "\n",
    "        print(f\"Processing complete for shape_id: {shape_id}\")\n",
    "        \n",
    "        # Optional visualization\n",
    "        if kwargs.get(\"visualize\", True):\n",
    "            visualize_single_object(data_entry, net, clip_model, device=device, out_dir=kwargs.get(\"output_dir\", \"./output\"))\n",
    "\n",
    "        return net, points\n",
    "\n",
    "    except Exception as e:\n",
    "        print(f\"Error in processing shape_id {data_entry['shape_id']}: {str(e)}\")\n",
    "        raise\n",
    "\n",
    "# Loading the dataset\n",
    "# We only use the val_data and test_data for part 3. 10 percent of train set is validation set \n",
    "# and 5 percent of train set is test set.\n",
    "# also when loading the dataset (better seen in Dataset Loader), specific classes and affordance labels \n",
    "# have been filtered as per the req in part 3. \n",
    "dataset = FullShapeDataset(\"/kaggle/working/Affordance3DHighlighter/data/full_shape_train_data.pkl\", device=\"cuda\")\n",
    "train_data, val_data, test_data = create_dataset_splits(dataset, val_ratio=0.1, test_ratio=0.05)\n",
    "\n",
    "# Ensure test set is not empty\n",
    "if len(test_data) == 0:\n",
    "    raise ValueError(\"Test dataset is empty. Check your dataset and split ratios.\")\n",
    "\n",
    "# Select a single object from the test set\n",
    "data_index = 0  # You can adjust this to test different objects\n",
    "data_entry = test_data[data_index]\n",
    "\n",
    "# Setup CLIP and Renderer\n",
    "clip_model, preprocess, resolution = get_clip_model()\n",
    "renderer = MultiViewPointCloudRenderer(image_size=512, base_dist=30, base_elev=10, device=\"cuda\")\n",
    "\n",
    "# Setup Neural Highlighter\n",
    "net = NeuralHighlighter(depth=5, width=256, out_dim=2, input_dim=3).to(\"cuda\")\n",
    "\n",
    "# Run the main function for a single object\n",
    "main(\n",
    "    data_entry=data_entry,\n",
    "    net=net,\n",
    "    clip_model=clip_model,\n",
    "    renderer=renderer,\n",
    "    device=\"cuda\",\n",
    "    num_iterations=500,\n",
    "    learning_rate=1e-4,\n",
    "    output_dir=\"./results\",\n",
    "    visualize=True\n",
    ")\n",
    "\n",
    "# Evaluate affordances for the object\n",
    "results = evaluate_single_object(data_entry, net, clip_model, device=\"cuda\")\n",
    "print(\"Evaluation Results:\", results)\n",
    "\n",
    "# Visualize predictions\n",
    "visualize_single_object(data_entry, net, clip_model, device=\"cuda\", out_dir=\"./results\")\n"
   ]
  },
  {
   "cell_type": "markdown",
   "metadata": {},
   "source": [
    "### New strategy for evaluation\n",
    "Hyperparam + Strategy Tuning, Then Test Evaluation\n",
    "Teammates focus on the below code block for the reporting part of part 3."
   ]
  },
  {
   "cell_type": "code",
   "execution_count": 11,
   "metadata": {
    "execution": {
     "iopub.execute_input": "2024-12-31T00:42:02.605659Z",
     "iopub.status.busy": "2024-12-31T00:42:02.605448Z",
     "iopub.status.idle": "2024-12-31T00:47:45.453865Z",
     "shell.execute_reply": "2024-12-31T00:47:45.452951Z",
     "shell.execute_reply.started": "2024-12-31T00:42:02.605640Z"
    },
    "trusted": true
   },
   "outputs": [
    {
     "name": "stdout",
     "output_type": "stream",
     "text": [
      "Starting Validation Phase...\n",
      "\n",
      "Starting new training run:\n",
      "Strategy: basic, Threshold: 0.3\n",
      "\tTraining on validation object 1/3\n",
      "ModuleList(\n",
      "  (0): Linear(in_features=3, out_features=256, bias=True)\n",
      "  (1): ReLU()\n",
      "  (2): LayerNorm((256,), eps=1e-05, elementwise_affine=True)\n",
      "  (3): Linear(in_features=256, out_features=256, bias=True)\n",
      "  (4): ReLU()\n",
      "  (5): LayerNorm((256,), eps=1e-05, elementwise_affine=True)\n",
      "  (6): Linear(in_features=256, out_features=256, bias=True)\n",
      "  (7): ReLU()\n",
      "  (8): LayerNorm((256,), eps=1e-05, elementwise_affine=True)\n",
      "  (9): Linear(in_features=256, out_features=256, bias=True)\n",
      "  (10): ReLU()\n",
      "  (11): LayerNorm((256,), eps=1e-05, elementwise_affine=True)\n",
      "  (12): Linear(in_features=256, out_features=256, bias=True)\n",
      "  (13): ReLU()\n",
      "  (14): LayerNorm((256,), eps=1e-05, elementwise_affine=True)\n",
      "  (15): Linear(in_features=256, out_features=256, bias=True)\n",
      "  (16): ReLU()\n",
      "  (17): LayerNorm((256,), eps=1e-05, elementwise_affine=True)\n",
      "  (18): Linear(in_features=256, out_features=2, bias=True)\n",
      "  (19): Softmax(dim=1)\n",
      ")\n",
      "\tShape class: Door\n",
      "\tFirst affordance: openable\n",
      "\tStarting 200 iterations of training...\n",
      "ModuleList(\n",
      "  (0): Linear(in_features=3, out_features=256, bias=True)\n",
      "  (1): ReLU()\n",
      "  (2): LayerNorm((256,), eps=1e-05, elementwise_affine=True)\n",
      "  (3): Linear(in_features=256, out_features=256, bias=True)\n",
      "  (4): ReLU()\n",
      "  (5): LayerNorm((256,), eps=1e-05, elementwise_affine=True)\n",
      "  (6): Linear(in_features=256, out_features=256, bias=True)\n",
      "  (7): ReLU()\n",
      "  (8): LayerNorm((256,), eps=1e-05, elementwise_affine=True)\n",
      "  (9): Linear(in_features=256, out_features=256, bias=True)\n",
      "  (10): ReLU()\n",
      "  (11): LayerNorm((256,), eps=1e-05, elementwise_affine=True)\n",
      "  (12): Linear(in_features=256, out_features=256, bias=True)\n",
      "  (13): ReLU()\n",
      "  (14): LayerNorm((256,), eps=1e-05, elementwise_affine=True)\n",
      "  (15): Linear(in_features=256, out_features=256, bias=True)\n",
      "  (16): ReLU()\n",
      "  (17): LayerNorm((256,), eps=1e-05, elementwise_affine=True)\n",
      "  (18): Linear(in_features=256, out_features=2, bias=True)\n",
      "  (19): Softmax(dim=1)\n",
      ")\n"
     ]
    },
    {
     "name": "stderr",
     "output_type": "stream",
     "text": [
      "  1%|          | 2/200 [00:00<00:37,  5.21it/s]"
     ]
    },
    {
     "name": "stdout",
     "output_type": "stream",
     "text": [
      "Iteration 0, Loss: -0.2301\n"
     ]
    },
    {
     "name": "stderr",
     "output_type": "stream",
     "text": [
      " 51%|█████     | 102/200 [00:18<00:18,  5.42it/s]"
     ]
    },
    {
     "name": "stdout",
     "output_type": "stream",
     "text": [
      "Iteration 100, Loss: -0.2369\n"
     ]
    },
    {
     "name": "stderr",
     "output_type": "stream",
     "text": [
      "100%|██████████| 200/200 [00:36<00:00,  5.43it/s]\n"
     ]
    },
    {
     "name": "stdout",
     "output_type": "stream",
     "text": [
      "\tTraining complete for object 1\n",
      "\tTraining on validation object 2/3\n",
      "ModuleList(\n",
      "  (0): Linear(in_features=3, out_features=256, bias=True)\n",
      "  (1): ReLU()\n",
      "  (2): LayerNorm((256,), eps=1e-05, elementwise_affine=True)\n",
      "  (3): Linear(in_features=256, out_features=256, bias=True)\n",
      "  (4): ReLU()\n",
      "  (5): LayerNorm((256,), eps=1e-05, elementwise_affine=True)\n",
      "  (6): Linear(in_features=256, out_features=256, bias=True)\n",
      "  (7): ReLU()\n",
      "  (8): LayerNorm((256,), eps=1e-05, elementwise_affine=True)\n",
      "  (9): Linear(in_features=256, out_features=256, bias=True)\n",
      "  (10): ReLU()\n",
      "  (11): LayerNorm((256,), eps=1e-05, elementwise_affine=True)\n",
      "  (12): Linear(in_features=256, out_features=256, bias=True)\n",
      "  (13): ReLU()\n",
      "  (14): LayerNorm((256,), eps=1e-05, elementwise_affine=True)\n",
      "  (15): Linear(in_features=256, out_features=256, bias=True)\n",
      "  (16): ReLU()\n",
      "  (17): LayerNorm((256,), eps=1e-05, elementwise_affine=True)\n",
      "  (18): Linear(in_features=256, out_features=2, bias=True)\n",
      "  (19): Softmax(dim=1)\n",
      ")\n",
      "\tShape class: Door\n",
      "\tFirst affordance: openable\n",
      "\tStarting 200 iterations of training...\n",
      "ModuleList(\n",
      "  (0): Linear(in_features=3, out_features=256, bias=True)\n",
      "  (1): ReLU()\n",
      "  (2): LayerNorm((256,), eps=1e-05, elementwise_affine=True)\n",
      "  (3): Linear(in_features=256, out_features=256, bias=True)\n",
      "  (4): ReLU()\n",
      "  (5): LayerNorm((256,), eps=1e-05, elementwise_affine=True)\n",
      "  (6): Linear(in_features=256, out_features=256, bias=True)\n",
      "  (7): ReLU()\n",
      "  (8): LayerNorm((256,), eps=1e-05, elementwise_affine=True)\n",
      "  (9): Linear(in_features=256, out_features=256, bias=True)\n",
      "  (10): ReLU()\n",
      "  (11): LayerNorm((256,), eps=1e-05, elementwise_affine=True)\n",
      "  (12): Linear(in_features=256, out_features=256, bias=True)\n",
      "  (13): ReLU()\n",
      "  (14): LayerNorm((256,), eps=1e-05, elementwise_affine=True)\n",
      "  (15): Linear(in_features=256, out_features=256, bias=True)\n",
      "  (16): ReLU()\n",
      "  (17): LayerNorm((256,), eps=1e-05, elementwise_affine=True)\n",
      "  (18): Linear(in_features=256, out_features=2, bias=True)\n",
      "  (19): Softmax(dim=1)\n",
      ")\n"
     ]
    },
    {
     "name": "stderr",
     "output_type": "stream",
     "text": [
      "  1%|          | 2/200 [00:00<00:36,  5.35it/s]"
     ]
    },
    {
     "name": "stdout",
     "output_type": "stream",
     "text": [
      "Iteration 0, Loss: -0.2185\n"
     ]
    },
    {
     "name": "stderr",
     "output_type": "stream",
     "text": [
      " 51%|█████     | 102/200 [00:18<00:18,  5.39it/s]"
     ]
    },
    {
     "name": "stdout",
     "output_type": "stream",
     "text": [
      "Iteration 100, Loss: -0.1798\n"
     ]
    },
    {
     "name": "stderr",
     "output_type": "stream",
     "text": [
      "100%|██████████| 200/200 [00:36<00:00,  5.42it/s]\n"
     ]
    },
    {
     "name": "stdout",
     "output_type": "stream",
     "text": [
      "\tTraining complete for object 2\n",
      "\tTraining on validation object 3/3\n",
      "ModuleList(\n",
      "  (0): Linear(in_features=3, out_features=256, bias=True)\n",
      "  (1): ReLU()\n",
      "  (2): LayerNorm((256,), eps=1e-05, elementwise_affine=True)\n",
      "  (3): Linear(in_features=256, out_features=256, bias=True)\n",
      "  (4): ReLU()\n",
      "  (5): LayerNorm((256,), eps=1e-05, elementwise_affine=True)\n",
      "  (6): Linear(in_features=256, out_features=256, bias=True)\n",
      "  (7): ReLU()\n",
      "  (8): LayerNorm((256,), eps=1e-05, elementwise_affine=True)\n",
      "  (9): Linear(in_features=256, out_features=256, bias=True)\n",
      "  (10): ReLU()\n",
      "  (11): LayerNorm((256,), eps=1e-05, elementwise_affine=True)\n",
      "  (12): Linear(in_features=256, out_features=256, bias=True)\n",
      "  (13): ReLU()\n",
      "  (14): LayerNorm((256,), eps=1e-05, elementwise_affine=True)\n",
      "  (15): Linear(in_features=256, out_features=256, bias=True)\n",
      "  (16): ReLU()\n",
      "  (17): LayerNorm((256,), eps=1e-05, elementwise_affine=True)\n",
      "  (18): Linear(in_features=256, out_features=2, bias=True)\n",
      "  (19): Softmax(dim=1)\n",
      ")\n",
      "\tShape class: Door\n",
      "\tFirst affordance: openable\n",
      "\tStarting 200 iterations of training...\n",
      "ModuleList(\n",
      "  (0): Linear(in_features=3, out_features=256, bias=True)\n",
      "  (1): ReLU()\n",
      "  (2): LayerNorm((256,), eps=1e-05, elementwise_affine=True)\n",
      "  (3): Linear(in_features=256, out_features=256, bias=True)\n",
      "  (4): ReLU()\n",
      "  (5): LayerNorm((256,), eps=1e-05, elementwise_affine=True)\n",
      "  (6): Linear(in_features=256, out_features=256, bias=True)\n",
      "  (7): ReLU()\n",
      "  (8): LayerNorm((256,), eps=1e-05, elementwise_affine=True)\n",
      "  (9): Linear(in_features=256, out_features=256, bias=True)\n",
      "  (10): ReLU()\n",
      "  (11): LayerNorm((256,), eps=1e-05, elementwise_affine=True)\n",
      "  (12): Linear(in_features=256, out_features=256, bias=True)\n",
      "  (13): ReLU()\n",
      "  (14): LayerNorm((256,), eps=1e-05, elementwise_affine=True)\n",
      "  (15): Linear(in_features=256, out_features=256, bias=True)\n",
      "  (16): ReLU()\n",
      "  (17): LayerNorm((256,), eps=1e-05, elementwise_affine=True)\n",
      "  (18): Linear(in_features=256, out_features=2, bias=True)\n",
      "  (19): Softmax(dim=1)\n",
      ")\n"
     ]
    },
    {
     "name": "stderr",
     "output_type": "stream",
     "text": [
      "  1%|          | 2/200 [00:00<00:37,  5.34it/s]"
     ]
    },
    {
     "name": "stdout",
     "output_type": "stream",
     "text": [
      "Iteration 0, Loss: -0.2186\n"
     ]
    },
    {
     "name": "stderr",
     "output_type": "stream",
     "text": [
      " 51%|█████     | 102/200 [00:18<00:18,  5.38it/s]"
     ]
    },
    {
     "name": "stdout",
     "output_type": "stream",
     "text": [
      "Iteration 100, Loss: -0.2120\n"
     ]
    },
    {
     "name": "stderr",
     "output_type": "stream",
     "text": [
      "100%|██████████| 200/200 [00:36<00:00,  5.43it/s]\n"
     ]
    },
    {
     "name": "stdout",
     "output_type": "stream",
     "text": [
      "\tTraining complete for object 3\n",
      "\n",
      "Starting new training run:\n",
      "Strategy: affordance_specific, Threshold: 0.3\n",
      "\tTraining on validation object 1/3\n",
      "ModuleList(\n",
      "  (0): Linear(in_features=3, out_features=256, bias=True)\n",
      "  (1): ReLU()\n",
      "  (2): LayerNorm((256,), eps=1e-05, elementwise_affine=True)\n",
      "  (3): Linear(in_features=256, out_features=256, bias=True)\n",
      "  (4): ReLU()\n",
      "  (5): LayerNorm((256,), eps=1e-05, elementwise_affine=True)\n",
      "  (6): Linear(in_features=256, out_features=256, bias=True)\n",
      "  (7): ReLU()\n",
      "  (8): LayerNorm((256,), eps=1e-05, elementwise_affine=True)\n",
      "  (9): Linear(in_features=256, out_features=256, bias=True)\n",
      "  (10): ReLU()\n",
      "  (11): LayerNorm((256,), eps=1e-05, elementwise_affine=True)\n",
      "  (12): Linear(in_features=256, out_features=256, bias=True)\n",
      "  (13): ReLU()\n",
      "  (14): LayerNorm((256,), eps=1e-05, elementwise_affine=True)\n",
      "  (15): Linear(in_features=256, out_features=256, bias=True)\n",
      "  (16): ReLU()\n",
      "  (17): LayerNorm((256,), eps=1e-05, elementwise_affine=True)\n",
      "  (18): Linear(in_features=256, out_features=2, bias=True)\n",
      "  (19): Softmax(dim=1)\n",
      ")\n",
      "\tShape class: Door\n",
      "\tFirst affordance: openable\n",
      "\tStarting 200 iterations of training...\n",
      "ModuleList(\n",
      "  (0): Linear(in_features=3, out_features=256, bias=True)\n",
      "  (1): ReLU()\n",
      "  (2): LayerNorm((256,), eps=1e-05, elementwise_affine=True)\n",
      "  (3): Linear(in_features=256, out_features=256, bias=True)\n",
      "  (4): ReLU()\n",
      "  (5): LayerNorm((256,), eps=1e-05, elementwise_affine=True)\n",
      "  (6): Linear(in_features=256, out_features=256, bias=True)\n",
      "  (7): ReLU()\n",
      "  (8): LayerNorm((256,), eps=1e-05, elementwise_affine=True)\n",
      "  (9): Linear(in_features=256, out_features=256, bias=True)\n",
      "  (10): ReLU()\n",
      "  (11): LayerNorm((256,), eps=1e-05, elementwise_affine=True)\n",
      "  (12): Linear(in_features=256, out_features=256, bias=True)\n",
      "  (13): ReLU()\n",
      "  (14): LayerNorm((256,), eps=1e-05, elementwise_affine=True)\n",
      "  (15): Linear(in_features=256, out_features=256, bias=True)\n",
      "  (16): ReLU()\n",
      "  (17): LayerNorm((256,), eps=1e-05, elementwise_affine=True)\n",
      "  (18): Linear(in_features=256, out_features=2, bias=True)\n",
      "  (19): Softmax(dim=1)\n",
      ")\n"
     ]
    },
    {
     "name": "stderr",
     "output_type": "stream",
     "text": [
      "  1%|          | 2/200 [00:00<00:37,  5.34it/s]"
     ]
    },
    {
     "name": "stdout",
     "output_type": "stream",
     "text": [
      "Iteration 0, Loss: -0.2271\n"
     ]
    },
    {
     "name": "stderr",
     "output_type": "stream",
     "text": [
      " 51%|█████     | 102/200 [00:18<00:18,  5.39it/s]"
     ]
    },
    {
     "name": "stdout",
     "output_type": "stream",
     "text": [
      "Iteration 100, Loss: -0.2432\n"
     ]
    },
    {
     "name": "stderr",
     "output_type": "stream",
     "text": [
      "100%|██████████| 200/200 [00:36<00:00,  5.43it/s]\n"
     ]
    },
    {
     "name": "stdout",
     "output_type": "stream",
     "text": [
      "\tTraining complete for object 1\n",
      "\tTraining on validation object 2/3\n",
      "ModuleList(\n",
      "  (0): Linear(in_features=3, out_features=256, bias=True)\n",
      "  (1): ReLU()\n",
      "  (2): LayerNorm((256,), eps=1e-05, elementwise_affine=True)\n",
      "  (3): Linear(in_features=256, out_features=256, bias=True)\n",
      "  (4): ReLU()\n",
      "  (5): LayerNorm((256,), eps=1e-05, elementwise_affine=True)\n",
      "  (6): Linear(in_features=256, out_features=256, bias=True)\n",
      "  (7): ReLU()\n",
      "  (8): LayerNorm((256,), eps=1e-05, elementwise_affine=True)\n",
      "  (9): Linear(in_features=256, out_features=256, bias=True)\n",
      "  (10): ReLU()\n",
      "  (11): LayerNorm((256,), eps=1e-05, elementwise_affine=True)\n",
      "  (12): Linear(in_features=256, out_features=256, bias=True)\n",
      "  (13): ReLU()\n",
      "  (14): LayerNorm((256,), eps=1e-05, elementwise_affine=True)\n",
      "  (15): Linear(in_features=256, out_features=256, bias=True)\n",
      "  (16): ReLU()\n",
      "  (17): LayerNorm((256,), eps=1e-05, elementwise_affine=True)\n",
      "  (18): Linear(in_features=256, out_features=2, bias=True)\n",
      "  (19): Softmax(dim=1)\n",
      ")\n",
      "\tShape class: Door\n",
      "\tFirst affordance: openable\n",
      "\tStarting 200 iterations of training...\n",
      "ModuleList(\n",
      "  (0): Linear(in_features=3, out_features=256, bias=True)\n",
      "  (1): ReLU()\n",
      "  (2): LayerNorm((256,), eps=1e-05, elementwise_affine=True)\n",
      "  (3): Linear(in_features=256, out_features=256, bias=True)\n",
      "  (4): ReLU()\n",
      "  (5): LayerNorm((256,), eps=1e-05, elementwise_affine=True)\n",
      "  (6): Linear(in_features=256, out_features=256, bias=True)\n",
      "  (7): ReLU()\n",
      "  (8): LayerNorm((256,), eps=1e-05, elementwise_affine=True)\n",
      "  (9): Linear(in_features=256, out_features=256, bias=True)\n",
      "  (10): ReLU()\n",
      "  (11): LayerNorm((256,), eps=1e-05, elementwise_affine=True)\n",
      "  (12): Linear(in_features=256, out_features=256, bias=True)\n",
      "  (13): ReLU()\n",
      "  (14): LayerNorm((256,), eps=1e-05, elementwise_affine=True)\n",
      "  (15): Linear(in_features=256, out_features=256, bias=True)\n",
      "  (16): ReLU()\n",
      "  (17): LayerNorm((256,), eps=1e-05, elementwise_affine=True)\n",
      "  (18): Linear(in_features=256, out_features=2, bias=True)\n",
      "  (19): Softmax(dim=1)\n",
      ")\n"
     ]
    },
    {
     "name": "stderr",
     "output_type": "stream",
     "text": [
      "  1%|          | 2/200 [00:00<00:36,  5.37it/s]"
     ]
    },
    {
     "name": "stdout",
     "output_type": "stream",
     "text": [
      "Iteration 0, Loss: -0.1923\n"
     ]
    },
    {
     "name": "stderr",
     "output_type": "stream",
     "text": [
      " 51%|█████     | 102/200 [00:18<00:18,  5.39it/s]"
     ]
    },
    {
     "name": "stdout",
     "output_type": "stream",
     "text": [
      "Iteration 100, Loss: -0.2086\n"
     ]
    },
    {
     "name": "stderr",
     "output_type": "stream",
     "text": [
      "100%|██████████| 200/200 [00:36<00:00,  5.43it/s]\n"
     ]
    },
    {
     "name": "stdout",
     "output_type": "stream",
     "text": [
      "\tTraining complete for object 2\n",
      "\tTraining on validation object 3/3\n",
      "ModuleList(\n",
      "  (0): Linear(in_features=3, out_features=256, bias=True)\n",
      "  (1): ReLU()\n",
      "  (2): LayerNorm((256,), eps=1e-05, elementwise_affine=True)\n",
      "  (3): Linear(in_features=256, out_features=256, bias=True)\n",
      "  (4): ReLU()\n",
      "  (5): LayerNorm((256,), eps=1e-05, elementwise_affine=True)\n",
      "  (6): Linear(in_features=256, out_features=256, bias=True)\n",
      "  (7): ReLU()\n",
      "  (8): LayerNorm((256,), eps=1e-05, elementwise_affine=True)\n",
      "  (9): Linear(in_features=256, out_features=256, bias=True)\n",
      "  (10): ReLU()\n",
      "  (11): LayerNorm((256,), eps=1e-05, elementwise_affine=True)\n",
      "  (12): Linear(in_features=256, out_features=256, bias=True)\n",
      "  (13): ReLU()\n",
      "  (14): LayerNorm((256,), eps=1e-05, elementwise_affine=True)\n",
      "  (15): Linear(in_features=256, out_features=256, bias=True)\n",
      "  (16): ReLU()\n",
      "  (17): LayerNorm((256,), eps=1e-05, elementwise_affine=True)\n",
      "  (18): Linear(in_features=256, out_features=2, bias=True)\n",
      "  (19): Softmax(dim=1)\n",
      ")\n",
      "\tShape class: Door\n",
      "\tFirst affordance: openable\n",
      "\tStarting 200 iterations of training...\n",
      "ModuleList(\n",
      "  (0): Linear(in_features=3, out_features=256, bias=True)\n",
      "  (1): ReLU()\n",
      "  (2): LayerNorm((256,), eps=1e-05, elementwise_affine=True)\n",
      "  (3): Linear(in_features=256, out_features=256, bias=True)\n",
      "  (4): ReLU()\n",
      "  (5): LayerNorm((256,), eps=1e-05, elementwise_affine=True)\n",
      "  (6): Linear(in_features=256, out_features=256, bias=True)\n",
      "  (7): ReLU()\n",
      "  (8): LayerNorm((256,), eps=1e-05, elementwise_affine=True)\n",
      "  (9): Linear(in_features=256, out_features=256, bias=True)\n",
      "  (10): ReLU()\n",
      "  (11): LayerNorm((256,), eps=1e-05, elementwise_affine=True)\n",
      "  (12): Linear(in_features=256, out_features=256, bias=True)\n",
      "  (13): ReLU()\n",
      "  (14): LayerNorm((256,), eps=1e-05, elementwise_affine=True)\n",
      "  (15): Linear(in_features=256, out_features=256, bias=True)\n",
      "  (16): ReLU()\n",
      "  (17): LayerNorm((256,), eps=1e-05, elementwise_affine=True)\n",
      "  (18): Linear(in_features=256, out_features=2, bias=True)\n",
      "  (19): Softmax(dim=1)\n",
      ")\n"
     ]
    },
    {
     "name": "stderr",
     "output_type": "stream",
     "text": [
      "  1%|          | 2/200 [00:00<00:37,  5.34it/s]"
     ]
    },
    {
     "name": "stdout",
     "output_type": "stream",
     "text": [
      "Iteration 0, Loss: -0.2137\n"
     ]
    },
    {
     "name": "stderr",
     "output_type": "stream",
     "text": [
      " 51%|█████     | 102/200 [00:18<00:18,  5.37it/s]"
     ]
    },
    {
     "name": "stdout",
     "output_type": "stream",
     "text": [
      "Iteration 100, Loss: -0.2461\n"
     ]
    },
    {
     "name": "stderr",
     "output_type": "stream",
     "text": [
      "100%|██████████| 200/200 [00:36<00:00,  5.43it/s]\n"
     ]
    },
    {
     "name": "stdout",
     "output_type": "stream",
     "text": [
      "\tTraining complete for object 3\n",
      "\n",
      "Validation Results:\n",
      "Strategy: basic, Threshold: 0.30, mIoU: 0.056\n",
      "Strategy: affordance_specific, Threshold: 0.30, mIoU: 0.009\n",
      "\n",
      "[Val Done] best strategy=basic, threshold=0.3, meanIoU=0.056\n",
      "\n",
      "Starting Test Phase...\n",
      "\tTesting object 1/3\n",
      "ModuleList(\n",
      "  (0): Linear(in_features=3, out_features=256, bias=True)\n",
      "  (1): ReLU()\n",
      "  (2): LayerNorm((256,), eps=1e-05, elementwise_affine=True)\n",
      "  (3): Linear(in_features=256, out_features=256, bias=True)\n",
      "  (4): ReLU()\n",
      "  (5): LayerNorm((256,), eps=1e-05, elementwise_affine=True)\n",
      "  (6): Linear(in_features=256, out_features=256, bias=True)\n",
      "  (7): ReLU()\n",
      "  (8): LayerNorm((256,), eps=1e-05, elementwise_affine=True)\n",
      "  (9): Linear(in_features=256, out_features=256, bias=True)\n",
      "  (10): ReLU()\n",
      "  (11): LayerNorm((256,), eps=1e-05, elementwise_affine=True)\n",
      "  (12): Linear(in_features=256, out_features=256, bias=True)\n",
      "  (13): ReLU()\n",
      "  (14): LayerNorm((256,), eps=1e-05, elementwise_affine=True)\n",
      "  (15): Linear(in_features=256, out_features=256, bias=True)\n",
      "  (16): ReLU()\n",
      "  (17): LayerNorm((256,), eps=1e-05, elementwise_affine=True)\n",
      "  (18): Linear(in_features=256, out_features=2, bias=True)\n",
      "  (19): Softmax(dim=1)\n",
      ")\n",
      "\tShape class: Door\n",
      "\tFirst affordance: openable\n",
      "ModuleList(\n",
      "  (0): Linear(in_features=3, out_features=256, bias=True)\n",
      "  (1): ReLU()\n",
      "  (2): LayerNorm((256,), eps=1e-05, elementwise_affine=True)\n",
      "  (3): Linear(in_features=256, out_features=256, bias=True)\n",
      "  (4): ReLU()\n",
      "  (5): LayerNorm((256,), eps=1e-05, elementwise_affine=True)\n",
      "  (6): Linear(in_features=256, out_features=256, bias=True)\n",
      "  (7): ReLU()\n",
      "  (8): LayerNorm((256,), eps=1e-05, elementwise_affine=True)\n",
      "  (9): Linear(in_features=256, out_features=256, bias=True)\n",
      "  (10): ReLU()\n",
      "  (11): LayerNorm((256,), eps=1e-05, elementwise_affine=True)\n",
      "  (12): Linear(in_features=256, out_features=256, bias=True)\n",
      "  (13): ReLU()\n",
      "  (14): LayerNorm((256,), eps=1e-05, elementwise_affine=True)\n",
      "  (15): Linear(in_features=256, out_features=256, bias=True)\n",
      "  (16): ReLU()\n",
      "  (17): LayerNorm((256,), eps=1e-05, elementwise_affine=True)\n",
      "  (18): Linear(in_features=256, out_features=2, bias=True)\n",
      "  (19): Softmax(dim=1)\n",
      ")\n"
     ]
    },
    {
     "name": "stderr",
     "output_type": "stream",
     "text": [
      "  1%|          | 2/200 [00:00<00:36,  5.36it/s]"
     ]
    },
    {
     "name": "stdout",
     "output_type": "stream",
     "text": [
      "Iteration 0, Loss: -0.2103\n"
     ]
    },
    {
     "name": "stderr",
     "output_type": "stream",
     "text": [
      " 51%|█████     | 102/200 [00:18<00:18,  5.38it/s]"
     ]
    },
    {
     "name": "stdout",
     "output_type": "stream",
     "text": [
      "Iteration 100, Loss: -0.2374\n"
     ]
    },
    {
     "name": "stderr",
     "output_type": "stream",
     "text": [
      "100%|██████████| 200/200 [00:36<00:00,  5.42it/s]\n"
     ]
    },
    {
     "name": "stdout",
     "output_type": "stream",
     "text": [
      "\tTesting object 2/3\n",
      "ModuleList(\n",
      "  (0): Linear(in_features=3, out_features=256, bias=True)\n",
      "  (1): ReLU()\n",
      "  (2): LayerNorm((256,), eps=1e-05, elementwise_affine=True)\n",
      "  (3): Linear(in_features=256, out_features=256, bias=True)\n",
      "  (4): ReLU()\n",
      "  (5): LayerNorm((256,), eps=1e-05, elementwise_affine=True)\n",
      "  (6): Linear(in_features=256, out_features=256, bias=True)\n",
      "  (7): ReLU()\n",
      "  (8): LayerNorm((256,), eps=1e-05, elementwise_affine=True)\n",
      "  (9): Linear(in_features=256, out_features=256, bias=True)\n",
      "  (10): ReLU()\n",
      "  (11): LayerNorm((256,), eps=1e-05, elementwise_affine=True)\n",
      "  (12): Linear(in_features=256, out_features=256, bias=True)\n",
      "  (13): ReLU()\n",
      "  (14): LayerNorm((256,), eps=1e-05, elementwise_affine=True)\n",
      "  (15): Linear(in_features=256, out_features=256, bias=True)\n",
      "  (16): ReLU()\n",
      "  (17): LayerNorm((256,), eps=1e-05, elementwise_affine=True)\n",
      "  (18): Linear(in_features=256, out_features=2, bias=True)\n",
      "  (19): Softmax(dim=1)\n",
      ")\n",
      "\tShape class: Door\n",
      "\tFirst affordance: openable\n",
      "ModuleList(\n",
      "  (0): Linear(in_features=3, out_features=256, bias=True)\n",
      "  (1): ReLU()\n",
      "  (2): LayerNorm((256,), eps=1e-05, elementwise_affine=True)\n",
      "  (3): Linear(in_features=256, out_features=256, bias=True)\n",
      "  (4): ReLU()\n",
      "  (5): LayerNorm((256,), eps=1e-05, elementwise_affine=True)\n",
      "  (6): Linear(in_features=256, out_features=256, bias=True)\n",
      "  (7): ReLU()\n",
      "  (8): LayerNorm((256,), eps=1e-05, elementwise_affine=True)\n",
      "  (9): Linear(in_features=256, out_features=256, bias=True)\n",
      "  (10): ReLU()\n",
      "  (11): LayerNorm((256,), eps=1e-05, elementwise_affine=True)\n",
      "  (12): Linear(in_features=256, out_features=256, bias=True)\n",
      "  (13): ReLU()\n",
      "  (14): LayerNorm((256,), eps=1e-05, elementwise_affine=True)\n",
      "  (15): Linear(in_features=256, out_features=256, bias=True)\n",
      "  (16): ReLU()\n",
      "  (17): LayerNorm((256,), eps=1e-05, elementwise_affine=True)\n",
      "  (18): Linear(in_features=256, out_features=2, bias=True)\n",
      "  (19): Softmax(dim=1)\n",
      ")\n"
     ]
    },
    {
     "name": "stderr",
     "output_type": "stream",
     "text": [
      "  1%|          | 2/200 [00:00<00:36,  5.37it/s]"
     ]
    },
    {
     "name": "stdout",
     "output_type": "stream",
     "text": [
      "Iteration 0, Loss: -0.2283\n"
     ]
    },
    {
     "name": "stderr",
     "output_type": "stream",
     "text": [
      " 51%|█████     | 102/200 [00:18<00:18,  5.40it/s]"
     ]
    },
    {
     "name": "stdout",
     "output_type": "stream",
     "text": [
      "Iteration 100, Loss: -0.2316\n"
     ]
    },
    {
     "name": "stderr",
     "output_type": "stream",
     "text": [
      "100%|██████████| 200/200 [00:36<00:00,  5.43it/s]\n"
     ]
    },
    {
     "name": "stdout",
     "output_type": "stream",
     "text": [
      "\tTesting object 3/3\n",
      "ModuleList(\n",
      "  (0): Linear(in_features=3, out_features=256, bias=True)\n",
      "  (1): ReLU()\n",
      "  (2): LayerNorm((256,), eps=1e-05, elementwise_affine=True)\n",
      "  (3): Linear(in_features=256, out_features=256, bias=True)\n",
      "  (4): ReLU()\n",
      "  (5): LayerNorm((256,), eps=1e-05, elementwise_affine=True)\n",
      "  (6): Linear(in_features=256, out_features=256, bias=True)\n",
      "  (7): ReLU()\n",
      "  (8): LayerNorm((256,), eps=1e-05, elementwise_affine=True)\n",
      "  (9): Linear(in_features=256, out_features=256, bias=True)\n",
      "  (10): ReLU()\n",
      "  (11): LayerNorm((256,), eps=1e-05, elementwise_affine=True)\n",
      "  (12): Linear(in_features=256, out_features=256, bias=True)\n",
      "  (13): ReLU()\n",
      "  (14): LayerNorm((256,), eps=1e-05, elementwise_affine=True)\n",
      "  (15): Linear(in_features=256, out_features=256, bias=True)\n",
      "  (16): ReLU()\n",
      "  (17): LayerNorm((256,), eps=1e-05, elementwise_affine=True)\n",
      "  (18): Linear(in_features=256, out_features=2, bias=True)\n",
      "  (19): Softmax(dim=1)\n",
      ")\n",
      "\tShape class: Door\n",
      "\tFirst affordance: openable\n",
      "ModuleList(\n",
      "  (0): Linear(in_features=3, out_features=256, bias=True)\n",
      "  (1): ReLU()\n",
      "  (2): LayerNorm((256,), eps=1e-05, elementwise_affine=True)\n",
      "  (3): Linear(in_features=256, out_features=256, bias=True)\n",
      "  (4): ReLU()\n",
      "  (5): LayerNorm((256,), eps=1e-05, elementwise_affine=True)\n",
      "  (6): Linear(in_features=256, out_features=256, bias=True)\n",
      "  (7): ReLU()\n",
      "  (8): LayerNorm((256,), eps=1e-05, elementwise_affine=True)\n",
      "  (9): Linear(in_features=256, out_features=256, bias=True)\n",
      "  (10): ReLU()\n",
      "  (11): LayerNorm((256,), eps=1e-05, elementwise_affine=True)\n",
      "  (12): Linear(in_features=256, out_features=256, bias=True)\n",
      "  (13): ReLU()\n",
      "  (14): LayerNorm((256,), eps=1e-05, elementwise_affine=True)\n",
      "  (15): Linear(in_features=256, out_features=256, bias=True)\n",
      "  (16): ReLU()\n",
      "  (17): LayerNorm((256,), eps=1e-05, elementwise_affine=True)\n",
      "  (18): Linear(in_features=256, out_features=2, bias=True)\n",
      "  (19): Softmax(dim=1)\n",
      ")\n"
     ]
    },
    {
     "name": "stderr",
     "output_type": "stream",
     "text": [
      "  1%|          | 2/200 [00:00<00:36,  5.37it/s]"
     ]
    },
    {
     "name": "stdout",
     "output_type": "stream",
     "text": [
      "Iteration 0, Loss: -0.1891\n"
     ]
    },
    {
     "name": "stderr",
     "output_type": "stream",
     "text": [
      " 51%|█████     | 102/200 [00:18<00:18,  5.40it/s]"
     ]
    },
    {
     "name": "stdout",
     "output_type": "stream",
     "text": [
      "Iteration 100, Loss: -0.1962\n"
     ]
    },
    {
     "name": "stderr",
     "output_type": "stream",
     "text": [
      "100%|██████████| 200/200 [00:36<00:00,  5.43it/s]\n"
     ]
    },
    {
     "name": "stdout",
     "output_type": "stream",
     "text": [
      "[Test] Using best strategy=basic, threshold=0.3, final test mIoU=0.000\n",
      "\n",
      "Visualizing multi-view for the last test shape with final threshold:\n"
     ]
    },
    {
     "data": {
      "image/png": "[encoded data removed]",
      "text/plain": [
       "<Figure size 1600x400 with 4 Axes>"
      ]
     },
     "metadata": {},
     "output_type": "display_data"
    }
   ],
   "source": [
    "import torch\n",
    "import matplotlib.pyplot as plt\n",
    "\n",
    "# 1) Imports from your code\n",
    "from src.data_loader_fullshape import create_dataset_splits\n",
    "from src.evaluation_fullshape import (\n",
    "    grid_search_validation,\n",
    "    test_phase_evaluation,   # we just wrote\n",
    "    visualize_predictions,   # optionally used for final 3D scatter\n",
    "    train_and_evaluate_shape # for single shape if we want to visualize\n",
    ")\n",
    "from src.prompt_strategies import generate_affordance_prompt\n",
    "from src.Clip.clip_model import get_clip_model\n",
    "from src.render.cloud_point_renderer import MultiViewPointCloudRenderer\n",
    "from src.neural_highlighter import NeuralHighlighter\n",
    "\n",
    "\n",
    "device = \"cuda\"\n",
    "\n",
    "dataset = FullShapeDataset(\"/kaggle/working/Affordance3DHighlighter/data/full_shape_train_data.pkl\", device=device)\n",
    "train_data, val_data, test_data = create_dataset_splits(dataset, val_ratio=0.1, test_ratio=0.1)\n",
    "\n",
    "\n",
    "print(f\"[Main] val_data size={len(val_data)}, test_data size={len(test_data)}\")\n",
    "\n",
    "# 3) Load CLIP model\n",
    "clip_model, _, _ = get_clip_model(\"ViT-L/14\")\n",
    "\n",
    "# 4) Validation Phase: search best (strategy, threshold)\n",
    "strategies_list = [\"basic\", \"affordance_specific\"]\n",
    "thresholds_list = [0.3, 0.5]  # let's have 2 thresholds now\n",
    "num_val_objects = 3          # how many shapes we pick from val\n",
    "num_iterations_val = 200     # how many training steps\n",
    "\n",
    "best_strat, best_th, best_val_iou = grid_search_validation(\n",
    "    val_dataset=val_data,\n",
    "    clip_model=clip_model,\n",
    "    device=device,\n",
    "    strategies=strategies_list,\n",
    "    thresholds=thresholds_list,\n",
    "    num_val_objects=num_val_objects,\n",
    "    num_iterations=num_iterations_val\n",
    ")\n",
    "\n",
    "print(f\"\\n[Main] Validation done => best strategy={best_strat}, threshold={best_th}, valIoU={best_val_iou:.3f}\")\n",
    "\n",
    "# 5) Test Phase\n",
    "num_test_shapes = 3\n",
    "test_iterations = 200\n",
    "final_test_iou = test_phase_evaluation(\n",
    "    test_dataset=test_data,\n",
    "    clip_model=clip_model,\n",
    "    best_strategy=best_strat,\n",
    "    best_threshold=best_th,\n",
    "    device=device,\n",
    "    num_test_shapes=num_test_shapes,\n",
    "    num_iterations=test_iterations\n",
    ")\n",
    "print(f\"[Main] Final test IoU => {final_test_iou:.3f}\")\n",
    "\n",
    "# 6) (Optional) Visualize multi-view for the last test shape\n",
    "if len(test_data)>0:\n",
    "    last_idx = min(num_test_shapes, len(test_data)) - 1\n",
    "    last_shape = test_data[last_idx]\n",
    "    print(\"\\n[Main] Visualizing multi-view for the last test shape...\")\n",
    "\n",
    "    # We'll do a quick training again\n",
    "    shape_mean = train_and_evaluate_shape(\n",
    "        last_shape,\n",
    "        clip_model,\n",
    "        best_strat,\n",
    "        best_th,\n",
    "        device=device,\n",
    "        num_iterations=test_iterations\n",
    "    )\n",
    "    # Now we do a manual multi-view color-labeled scatter\n",
    "    coords_test = last_shape[\"coords\"]\n",
    "    if not isinstance(coords_test, torch.Tensor):\n",
    "        coords_test = torch.tensor(coords_test, device=device)\n",
    "\n",
    "    # We can re-run the net\n",
    "    net = NeuralHighlighter(depth=5, width=256, out_dim=2, input_dim=3).to(device)\n",
    "    from src.Clip.clip_model import encode_text\n",
    "    aff_main = last_shape[\"affordances\"][0]\n",
    "    prompt_main = generate_affordance_prompt(last_shape[\"shape_class\"], aff_main, best_strat)\n",
    "    txt_main = encode_text(clip_model, prompt_main, device=device)\n",
    "    renderer = MultiViewPointCloudRenderer(image_size=256, base_dist=20, base_elev=10, device=device)\n",
    "    net = optimize_point_cloud(\n",
    "        points=coords_test,\n",
    "        clip_model=clip_model,\n",
    "        renderer=renderer,\n",
    "        encoded_text=txt_main,\n",
    "        log_dir=\"./test_vis\",\n",
    "        num_iterations=test_iterations,\n",
    "        device=device,\n",
    "        n_views=2\n",
    "    )\n",
    "\n",
    "    with torch.no_grad():\n",
    "        pred_ = net(coords_test)[:,0]\n",
    "\n",
    "    # color\n",
    "    color_tensor = pred_.unsqueeze(1)*torch.tensor([204/255,1.0,0.0], device=device) + (1.0 - pred_.unsqueeze(1))*torch.tensor([180/255,180/255,180/255], device=device)\n",
    "    point_cloud = renderer.create_point_cloud(coords_test, color_tensor)\n",
    "    rendered_dict = renderer.render_all_views(point_cloud, n_views=4)\n",
    "\n",
    "    import matplotlib.pyplot as plt\n",
    "    fig, axes = plt.subplots(1, len(rendered_dict), figsize=(4*len(rendered_dict), 4))\n",
    "    for ax, (vname, imgT) in zip(axes, rendered_dict.items()):\n",
    "        ax.imshow(imgT.cpu().numpy())\n",
    "        ax.set_title(vname)\n",
    "        ax.axis('off')\n",
    "    plt.suptitle(f\"Test Shape {last_shape['shape_id']} - final threshold={best_th}\")\n",
    "    plt.show()\n"
   ]
  }
 ],
 "metadata": {
  "accelerator": "GPU",
  "colab": {
   "gpuType": "T4",
   "provenance": []
  },
  "kaggle": {
   "accelerator": "gpu",
   "dataSources": [],
   "dockerImageVersionId": 30822,
   "isGpuEnabled": true,
   "isInternetEnabled": true,
   "language": "python",
   "sourceType": "notebook"
  },
  "kernelspec": {
   "display_name": "Python 3",
   "language": "python",
   "name": "python3"
  },
  "language_info": {
   "codemirror_mode": {
    "name": "ipython",
    "version": 3
   },
   "file_extension": ".py",
   "mimetype": "text/x-python",
   "name": "python",
   "nbconvert_exporter": "python",
   "pygments_lexer": "ipython3",
   "version": "3.10.12"
  }
 },
 "nbformat": 4,
 "nbformat_minor": 4
}
