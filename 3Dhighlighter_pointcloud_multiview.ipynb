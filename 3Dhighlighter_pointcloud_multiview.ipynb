{
  "metadata": {
    "kernelspec": {
      "display_name": "Python 3",
      "language": "python",
      "name": "python3"
    },
    "language_info": {
      "codemirror_mode": {
        "name": "ipython",
        "version": 3
      },
      "file_extension": ".py",
      "mimetype": "text/x-python",
      "name": "python",
      "nbconvert_exporter": "python",
      "pygments_lexer": "ipython3",
      "version": "3.10.12"
    },
    "kaggle": {
      "accelerator": "nvidiaTeslaT4",
      "dataSources": [],
      "dockerImageVersionId": 30822,
      "isInternetEnabled": true,
      "language": "python",
      "sourceType": "notebook",
      "isGpuEnabled": true
    },
    "colab": {
      "gpuType": "T4",
      "provenance": []
    },
    "accelerator": "GPU"
  },
  "nbformat_minor": 0,
  "nbformat": 4,
  "cells": [
    {
      "cell_type": "code",
      "source": [],
      "metadata": {
        "colab": {
          "base_uri": "https://localhost:8080/"
        },
        "execution": {
          "iopub.status.busy": "2025-01-01T14:32:38.498175Z",
          "iopub.execute_input": "2025-01-01T14:32:38.498457Z",
          "iopub.status.idle": "2025-01-01T14:32:39.660922Z",
          "shell.execute_reply.started": "2025-01-01T14:32:38.498434Z",
          "shell.execute_reply": "2025-01-01T14:32:39.660009Z"
        },
        "id": "2rqJobuCpQLi",
        "outputId": "54e3a8d0-acbf-4694-c2ec-715c75bf37bd",
        "trusted": true
      },
      "outputs": [
        {
          "output_type": "stream",
          "name": "stdout",
          "text": [
            "Cloning into 'Affordance3DHighlighter'...\n",
            "remote: Enumerating objects: 244, done.\u001b[K\n",
            "remote: Counting objects: 100% (6/6), done.\u001b[K\n",
            "remote: Compressing objects: 100% (6/6), done.\u001b[K\n",
            "remote: Total 244 (delta 1), reused 1 (delta 0), pack-reused 238 (from 1)\u001b[K\n",
            "Receiving objects: 100% (244/244), 2.56 MiB | 5.84 MiB/s, done.\n",
            "Resolving deltas: 100% (141/141), done.\n"
          ]
        }
      ],
      "execution_count": 1
    },
    {
      "cell_type": "code",
      "source": [
        "import os\n",
        "\n",
        "os.chdir('/content/Affordance3DHighlighter')"
      ],
      "metadata": {
        "execution": {
          "iopub.status.busy": "2025-01-01T14:32:43.089369Z",
          "iopub.execute_input": "2025-01-01T14:32:43.089724Z",
          "iopub.status.idle": "2025-01-01T14:32:43.093468Z",
          "shell.execute_reply.started": "2025-01-01T14:32:43.089694Z",
          "shell.execute_reply": "2025-01-01T14:32:43.092660Z"
        },
        "id": "fhLYzi952EEA",
        "trusted": true
      },
      "outputs": [],
      "execution_count": 2
    },
    {
      "cell_type": "code",
      "source": [
        "!pip install gdown\n",
        "!gdown --id 1siZtGusB1LfQVapTvNOiYi8aeKKAgcDF\n",
        "!unzip full-shape.zip -d /content/Affordance3DHighlighter/data/"
      ],
      "metadata": {
        "execution": {
          "iopub.status.busy": "2025-01-01T14:32:45.542095Z",
          "iopub.execute_input": "2025-01-01T14:32:45.542385Z",
          "iopub.status.idle": "2025-01-01T14:33:16.869764Z",
          "shell.execute_reply.started": "2025-01-01T14:32:45.542363Z",
          "shell.execute_reply": "2025-01-01T14:33:16.868596Z"
        },
        "trusted": true,
        "collapsed": true,
        "jupyter": {
          "outputs_hidden": true
        },
        "id": "OufUfyJM2NHk",
        "outputId": "ed352c1c-2584-416c-c4fc-32c0cce56ff0",
        "colab": {
          "base_uri": "https://localhost:8080/"
        }
      },
      "outputs": [
        {
          "output_type": "stream",
          "name": "stdout",
          "text": [
            "Requirement already satisfied: gdown in /usr/local/lib/python3.10/dist-packages (5.2.0)\n",
            "Requirement already satisfied: beautifulsoup4 in /usr/local/lib/python3.10/dist-packages (from gdown) (4.12.3)\n",
            "Requirement already satisfied: filelock in /usr/local/lib/python3.10/dist-packages (from gdown) (3.16.1)\n",
            "Requirement already satisfied: requests[socks] in /usr/local/lib/python3.10/dist-packages (from gdown) (2.32.3)\n",
            "Requirement already satisfied: tqdm in /usr/local/lib/python3.10/dist-packages (from gdown) (4.67.1)\n",
            "Requirement already satisfied: soupsieve>1.2 in /usr/local/lib/python3.10/dist-packages (from beautifulsoup4->gdown) (2.6)\n",
            "Requirement already satisfied: charset-normalizer<4,>=2 in /usr/local/lib/python3.10/dist-packages (from requests[socks]->gdown) (3.4.0)\n",
            "Requirement already satisfied: idna<4,>=2.5 in /usr/local/lib/python3.10/dist-packages (from requests[socks]->gdown) (3.10)\n",
            "Requirement already satisfied: urllib3<3,>=1.21.1 in /usr/local/lib/python3.10/dist-packages (from requests[socks]->gdown) (2.2.3)\n",
            "Requirement already satisfied: certifi>=2017.4.17 in /usr/local/lib/python3.10/dist-packages (from requests[socks]->gdown) (2024.12.14)\n",
            "Requirement already satisfied: PySocks!=1.5.7,>=1.5.6 in /usr/local/lib/python3.10/dist-packages (from requests[socks]->gdown) (1.7.1)\n",
            "/usr/local/lib/python3.10/dist-packages/gdown/__main__.py:140: FutureWarning: Option `--id` was deprecated in version 4.3.1 and will be removed in 5.0. You don't need to pass it anymore to use a file ID.\n",
            "  warnings.warn(\n",
            "Downloading...\n",
            "From (original): https://drive.google.com/uc?id=1siZtGusB1LfQVapTvNOiYi8aeKKAgcDF\n",
            "From (redirected): https://drive.google.com/uc?id=1siZtGusB1LfQVapTvNOiYi8aeKKAgcDF&confirm=t&uuid=f9c8430e-db6d-4174-884d-d2051d5f2489\n",
            "To: /content/Affordance3DHighlighter/full-shape.zip\n",
            "100% 558M/558M [00:02<00:00, 248MB/s]\n",
            "Archive:  full-shape.zip\n",
            "  inflating: /content/Affordance3DHighlighter/data/full_shape_train_data.pkl  \n",
            "  inflating: /content/Affordance3DHighlighter/data/full_shape_val_data.pkl  \n"
          ]
        }
      ],
      "execution_count": 4
    },
    {
      "cell_type": "code",
      "source": [
        "import pickle\n",
        "\n",
        "# Load training data\n",
        "with open('/kaggle/working/Affordance3DHighlighter/data/full_shape_train_data.pkl', 'rb') as train_file:\n",
        "    train_data = pickle.load(train_file)\n",
        "# Inspect the contents\n",
        "print(f\"Training Data Type: {type(train_data)}\")\n",
        "print(f\"Training Data Example: {train_data[:1]}\")"
      ],
      "metadata": {
        "collapsed": true,
        "execution": {
          "iopub.execute_input": "2024-12-31T00:37:15.380198Z",
          "iopub.status.busy": "2024-12-31T00:37:15.379956Z",
          "iopub.status.idle": "2024-12-31T00:37:19.828311Z",
          "shell.execute_reply": "2024-12-31T00:37:19.827376Z",
          "shell.execute_reply.started": "2024-12-31T00:37:15.380179Z"
        },
        "jupyter": {
          "outputs_hidden": true
        },
        "trusted": true,
        "id": "pE_BXtaR2NHl"
      },
      "outputs": [],
      "execution_count": null
    },
    {
      "cell_type": "code",
      "source": [
        "!pip install git+https://github.com/openai/CLIP.git\n",
        "!pip install kaolin==0.17.0 -f https://nvidia-kaolin.s3.us-east-2.amazonaws.com/torch-2.5.1_cu121.html"
      ],
      "metadata": {
        "colab": {
          "base_uri": "https://localhost:8080/"
        },
        "execution": {
          "iopub.status.busy": "2025-01-01T14:35:07.250511Z",
          "iopub.execute_input": "2025-01-01T14:35:07.250838Z",
          "iopub.status.idle": "2025-01-01T14:35:23.271738Z",
          "shell.execute_reply.started": "2025-01-01T14:35:07.250813Z",
          "shell.execute_reply": "2025-01-01T14:35:23.270687Z"
        },
        "id": "d8vCbctxbPP4",
        "outputId": "f954f920-c524-4262-8fc8-0c80f62eddaf",
        "trusted": true,
        "collapsed": true,
        "jupyter": {
          "outputs_hidden": true
        }
      },
      "outputs": [
        {
          "output_type": "stream",
          "name": "stdout",
          "text": [
            "Collecting git+https://github.com/openai/CLIP.git\n",
            "  Cloning https://github.com/openai/CLIP.git to /tmp/pip-req-build-vy083w8w\n",
            "  Running command git clone --filter=blob:none --quiet https://github.com/openai/CLIP.git /tmp/pip-req-build-vy083w8w\n",
            "  Resolved https://github.com/openai/CLIP.git to commit dcba3cb2e2827b402d2701e7e1c7d9fed8a20ef1\n",
            "  Preparing metadata (setup.py) ... \u001b[?25l\u001b[?25hdone\n",
            "Collecting ftfy (from clip==1.0)\n",
            "  Downloading ftfy-6.3.1-py3-none-any.whl.metadata (7.3 kB)\n",
            "Requirement already satisfied: packaging in /usr/local/lib/python3.10/dist-packages (from clip==1.0) (24.2)\n",
            "Requirement already satisfied: regex in /usr/local/lib/python3.10/dist-packages (from clip==1.0) (2024.11.6)\n",
            "Requirement already satisfied: tqdm in /usr/local/lib/python3.10/dist-packages (from clip==1.0) (4.67.1)\n",
            "Requirement already satisfied: torch in /usr/local/lib/python3.10/dist-packages (from clip==1.0) (2.5.1+cu121)\n",
            "Requirement already satisfied: torchvision in /usr/local/lib/python3.10/dist-packages (from clip==1.0) (0.20.1+cu121)\n",
            "Requirement already satisfied: wcwidth in /usr/local/lib/python3.10/dist-packages (from ftfy->clip==1.0) (0.2.13)\n",
            "Requirement already satisfied: filelock in /usr/local/lib/python3.10/dist-packages (from torch->clip==1.0) (3.16.1)\n",
            "Requirement already satisfied: typing-extensions>=4.8.0 in /usr/local/lib/python3.10/dist-packages (from torch->clip==1.0) (4.12.2)\n",
            "Requirement already satisfied: networkx in /usr/local/lib/python3.10/dist-packages (from torch->clip==1.0) (3.4.2)\n",
            "Requirement already satisfied: jinja2 in /usr/local/lib/python3.10/dist-packages (from torch->clip==1.0) (3.1.4)\n",
            "Requirement already satisfied: fsspec in /usr/local/lib/python3.10/dist-packages (from torch->clip==1.0) (2024.10.0)\n",
            "Requirement already satisfied: sympy==1.13.1 in /usr/local/lib/python3.10/dist-packages (from torch->clip==1.0) (1.13.1)\n",
            "Requirement already satisfied: mpmath<1.4,>=1.1.0 in /usr/local/lib/python3.10/dist-packages (from sympy==1.13.1->torch->clip==1.0) (1.3.0)\n",
            "Requirement already satisfied: numpy in /usr/local/lib/python3.10/dist-packages (from torchvision->clip==1.0) (1.26.4)\n",
            "Requirement already satisfied: pillow!=8.3.*,>=5.3.0 in /usr/local/lib/python3.10/dist-packages (from torchvision->clip==1.0) (11.0.0)\n",
            "Requirement already satisfied: MarkupSafe>=2.0 in /usr/local/lib/python3.10/dist-packages (from jinja2->torch->clip==1.0) (3.0.2)\n",
            "Downloading ftfy-6.3.1-py3-none-any.whl (44 kB)\n",
            "\u001b[2K   \u001b[90m━━━━━━━━━━━━━━━━━━━━━━━━━━━━━━━━━━━━━━━━\u001b[0m \u001b[32m44.8/44.8 kB\u001b[0m \u001b[31m2.6 MB/s\u001b[0m eta \u001b[36m0:00:00\u001b[0m\n",
            "\u001b[?25hBuilding wheels for collected packages: clip\n",
            "  Building wheel for clip (setup.py) ... \u001b[?25l\u001b[?25hdone\n",
            "  Created wheel for clip: filename=clip-1.0-py3-none-any.whl size=1369489 sha256=1a11354961826648cb13017e78684c7659b8fce4edb9795af6db6b1eed5c3eaf\n",
            "  Stored in directory: /tmp/pip-ephem-wheel-cache-cko9xu5a/wheels/da/2b/4c/d6691fa9597aac8bb85d2ac13b112deb897d5b50f5ad9a37e4\n",
            "Successfully built clip\n",
            "Installing collected packages: ftfy, clip\n",
            "Successfully installed clip-1.0 ftfy-6.3.1\n",
            "Looking in links: https://nvidia-kaolin.s3.us-east-2.amazonaws.com/torch-2.5.1_cu121.html\n",
            "Collecting kaolin==0.17.0\n",
            "  Downloading https://nvidia-kaolin.s3.us-east-2.amazonaws.com/torch-2.5.1_cu121/kaolin-0.17.0-cp310-cp310-linux_x86_64.whl (5.4 MB)\n",
            "\u001b[2K     \u001b[90m━━━━━━━━━━━━━━━━━━━━━━━━━━━━━━━━━━━━━━━━\u001b[0m \u001b[32m5.4/5.4 MB\u001b[0m \u001b[31m10.3 MB/s\u001b[0m eta \u001b[36m0:00:00\u001b[0m\n",
            "\u001b[?25hCollecting ipycanvas (from kaolin==0.17.0)\n",
            "  Downloading ipycanvas-0.13.3-py2.py3-none-any.whl.metadata (6.3 kB)\n",
            "Requirement already satisfied: ipyevents in /usr/local/lib/python3.10/dist-packages (from kaolin==0.17.0) (2.0.2)\n",
            "Requirement already satisfied: jupyter-client<8 in /usr/local/lib/python3.10/dist-packages (from kaolin==0.17.0) (6.1.12)\n",
            "Requirement already satisfied: flask in /usr/local/lib/python3.10/dist-packages (from kaolin==0.17.0) (3.1.0)\n",
            "Requirement already satisfied: tornado in /usr/local/lib/python3.10/dist-packages (from kaolin==0.17.0) (6.3.3)\n",
            "Collecting comm>=0.1.3 (from kaolin==0.17.0)\n",
            "  Downloading comm-0.2.2-py3-none-any.whl.metadata (3.7 kB)\n",
            "Collecting usd-core (from kaolin==0.17.0)\n",
            "  Downloading usd_core-24.11-cp310-none-manylinux_2_17_x86_64.manylinux2014_x86_64.whl.metadata (1.5 kB)\n",
            "Requirement already satisfied: numpy<2.0 in /usr/local/lib/python3.10/dist-packages (from kaolin==0.17.0) (1.26.4)\n",
            "Collecting pybind11 (from kaolin==0.17.0)\n",
            "  Downloading pybind11-2.13.6-py3-none-any.whl.metadata (9.5 kB)\n",
            "Requirement already satisfied: Pillow>=8.0.0 in /usr/local/lib/python3.10/dist-packages (from kaolin==0.17.0) (11.0.0)\n",
            "Requirement already satisfied: tqdm>=4.51.0 in /usr/local/lib/python3.10/dist-packages (from kaolin==0.17.0) (4.67.1)\n",
            "Requirement already satisfied: scipy in /usr/local/lib/python3.10/dist-packages (from kaolin==0.17.0) (1.13.1)\n",
            "Collecting pygltflib (from kaolin==0.17.0)\n",
            "  Downloading pygltflib-1.16.3.tar.gz (42 kB)\n",
            "\u001b[2K     \u001b[90m━━━━━━━━━━━━━━━━━━━━━━━━━━━━━━━━━━━━━━━━\u001b[0m \u001b[32m42.9/42.9 kB\u001b[0m \u001b[31m2.3 MB/s\u001b[0m eta \u001b[36m0:00:00\u001b[0m\n",
            "\u001b[?25h  Preparing metadata (setup.py) ... \u001b[?25l\u001b[?25hdone\n",
            "Collecting warp-lang (from kaolin==0.17.0)\n",
            "  Downloading warp_lang-1.5.1-py3-none-manylinux2014_x86_64.whl.metadata (25 kB)\n",
            "Requirement already satisfied: ipython in /usr/local/lib/python3.10/dist-packages (from kaolin==0.17.0) (7.34.0)\n",
            "Requirement already satisfied: traitlets>=4 in /usr/local/lib/python3.10/dist-packages (from comm>=0.1.3->kaolin==0.17.0) (5.7.1)\n",
            "Requirement already satisfied: jupyter-core>=4.6.0 in /usr/local/lib/python3.10/dist-packages (from jupyter-client<8->kaolin==0.17.0) (5.7.2)\n",
            "Requirement already satisfied: pyzmq>=13 in /usr/local/lib/python3.10/dist-packages (from jupyter-client<8->kaolin==0.17.0) (24.0.1)\n",
            "Requirement already satisfied: python-dateutil>=2.1 in /usr/local/lib/python3.10/dist-packages (from jupyter-client<8->kaolin==0.17.0) (2.8.2)\n",
            "Requirement already satisfied: Werkzeug>=3.1 in /usr/local/lib/python3.10/dist-packages (from flask->kaolin==0.17.0) (3.1.3)\n",
            "Requirement already satisfied: Jinja2>=3.1.2 in /usr/local/lib/python3.10/dist-packages (from flask->kaolin==0.17.0) (3.1.4)\n",
            "Requirement already satisfied: itsdangerous>=2.2 in /usr/local/lib/python3.10/dist-packages (from flask->kaolin==0.17.0) (2.2.0)\n",
            "Requirement already satisfied: click>=8.1.3 in /usr/local/lib/python3.10/dist-packages (from flask->kaolin==0.17.0) (8.1.7)\n",
            "Requirement already satisfied: blinker>=1.9 in /usr/local/lib/python3.10/dist-packages (from flask->kaolin==0.17.0) (1.9.0)\n",
            "Requirement already satisfied: ipywidgets<9,>=7.6.0 in /usr/local/lib/python3.10/dist-packages (from ipycanvas->kaolin==0.17.0) (7.7.1)\n",
            "Requirement already satisfied: setuptools>=18.5 in /usr/local/lib/python3.10/dist-packages (from ipython->kaolin==0.17.0) (75.1.0)\n",
            "Collecting jedi>=0.16 (from ipython->kaolin==0.17.0)\n",
            "  Downloading jedi-0.19.2-py2.py3-none-any.whl.metadata (22 kB)\n",
            "Requirement already satisfied: decorator in /usr/local/lib/python3.10/dist-packages (from ipython->kaolin==0.17.0) (4.4.2)\n",
            "Requirement already satisfied: pickleshare in /usr/local/lib/python3.10/dist-packages (from ipython->kaolin==0.17.0) (0.7.5)\n",
            "Requirement already satisfied: prompt-toolkit!=3.0.0,!=3.0.1,<3.1.0,>=2.0.0 in /usr/local/lib/python3.10/dist-packages (from ipython->kaolin==0.17.0) (3.0.48)\n",
            "Requirement already satisfied: pygments in /usr/local/lib/python3.10/dist-packages (from ipython->kaolin==0.17.0) (2.18.0)\n",
            "Requirement already satisfied: backcall in /usr/local/lib/python3.10/dist-packages (from ipython->kaolin==0.17.0) (0.2.0)\n",
            "Requirement already satisfied: matplotlib-inline in /usr/local/lib/python3.10/dist-packages (from ipython->kaolin==0.17.0) (0.1.7)\n",
            "Requirement already satisfied: pexpect>4.3 in /usr/local/lib/python3.10/dist-packages (from ipython->kaolin==0.17.0) (4.9.0)\n",
            "Collecting dataclasses-json>=0.0.25 (from pygltflib->kaolin==0.17.0)\n",
            "  Downloading dataclasses_json-0.6.7-py3-none-any.whl.metadata (25 kB)\n",
            "Requirement already satisfied: deprecated in /usr/local/lib/python3.10/dist-packages (from pygltflib->kaolin==0.17.0) (1.2.15)\n",
            "Collecting marshmallow<4.0.0,>=3.18.0 (from dataclasses-json>=0.0.25->pygltflib->kaolin==0.17.0)\n",
            "  Downloading marshmallow-3.23.3-py3-none-any.whl.metadata (7.1 kB)\n",
            "Collecting typing-inspect<1,>=0.4.0 (from dataclasses-json>=0.0.25->pygltflib->kaolin==0.17.0)\n",
            "  Downloading typing_inspect-0.9.0-py3-none-any.whl.metadata (1.5 kB)\n",
            "Requirement already satisfied: ipykernel>=4.5.1 in /usr/local/lib/python3.10/dist-packages (from ipywidgets<9,>=7.6.0->ipycanvas->kaolin==0.17.0) (5.5.6)\n",
            "Requirement already satisfied: ipython-genutils~=0.2.0 in /usr/local/lib/python3.10/dist-packages (from ipywidgets<9,>=7.6.0->ipycanvas->kaolin==0.17.0) (0.2.0)\n",
            "Requirement already satisfied: widgetsnbextension~=3.6.0 in /usr/local/lib/python3.10/dist-packages (from ipywidgets<9,>=7.6.0->ipycanvas->kaolin==0.17.0) (3.6.10)\n",
            "Requirement already satisfied: jupyterlab-widgets>=1.0.0 in /usr/local/lib/python3.10/dist-packages (from ipywidgets<9,>=7.6.0->ipycanvas->kaolin==0.17.0) (3.0.13)\n",
            "Requirement already satisfied: parso<0.9.0,>=0.8.4 in /usr/local/lib/python3.10/dist-packages (from jedi>=0.16->ipython->kaolin==0.17.0) (0.8.4)\n",
            "Requirement already satisfied: MarkupSafe>=2.0 in /usr/local/lib/python3.10/dist-packages (from Jinja2>=3.1.2->flask->kaolin==0.17.0) (3.0.2)\n",
            "Requirement already satisfied: platformdirs>=2.5 in /usr/local/lib/python3.10/dist-packages (from jupyter-core>=4.6.0->jupyter-client<8->kaolin==0.17.0) (4.3.6)\n",
            "Requirement already satisfied: ptyprocess>=0.5 in /usr/local/lib/python3.10/dist-packages (from pexpect>4.3->ipython->kaolin==0.17.0) (0.7.0)\n",
            "Requirement already satisfied: wcwidth in /usr/local/lib/python3.10/dist-packages (from prompt-toolkit!=3.0.0,!=3.0.1,<3.1.0,>=2.0.0->ipython->kaolin==0.17.0) (0.2.13)\n",
            "Requirement already satisfied: six>=1.5 in /usr/local/lib/python3.10/dist-packages (from python-dateutil>=2.1->jupyter-client<8->kaolin==0.17.0) (1.17.0)\n",
            "Requirement already satisfied: wrapt<2,>=1.10 in /usr/local/lib/python3.10/dist-packages (from deprecated->pygltflib->kaolin==0.17.0) (1.17.0)\n",
            "Requirement already satisfied: packaging>=17.0 in /usr/local/lib/python3.10/dist-packages (from marshmallow<4.0.0,>=3.18.0->dataclasses-json>=0.0.25->pygltflib->kaolin==0.17.0) (24.2)\n",
            "Collecting mypy-extensions>=0.3.0 (from typing-inspect<1,>=0.4.0->dataclasses-json>=0.0.25->pygltflib->kaolin==0.17.0)\n",
            "  Downloading mypy_extensions-1.0.0-py3-none-any.whl.metadata (1.1 kB)\n",
            "Requirement already satisfied: typing-extensions>=3.7.4 in /usr/local/lib/python3.10/dist-packages (from typing-inspect<1,>=0.4.0->dataclasses-json>=0.0.25->pygltflib->kaolin==0.17.0) (4.12.2)\n",
            "Requirement already satisfied: notebook>=4.4.1 in /usr/local/lib/python3.10/dist-packages (from widgetsnbextension~=3.6.0->ipywidgets<9,>=7.6.0->ipycanvas->kaolin==0.17.0) (6.5.5)\n",
            "Requirement already satisfied: argon2-cffi in /usr/local/lib/python3.10/dist-packages (from notebook>=4.4.1->widgetsnbextension~=3.6.0->ipywidgets<9,>=7.6.0->ipycanvas->kaolin==0.17.0) (23.1.0)\n",
            "Requirement already satisfied: nbformat in /usr/local/lib/python3.10/dist-packages (from notebook>=4.4.1->widgetsnbextension~=3.6.0->ipywidgets<9,>=7.6.0->ipycanvas->kaolin==0.17.0) (5.10.4)\n",
            "Requirement already satisfied: nbconvert>=5 in /usr/local/lib/python3.10/dist-packages (from notebook>=4.4.1->widgetsnbextension~=3.6.0->ipywidgets<9,>=7.6.0->ipycanvas->kaolin==0.17.0) (7.16.4)\n",
            "Requirement already satisfied: nest-asyncio>=1.5 in /usr/local/lib/python3.10/dist-packages (from notebook>=4.4.1->widgetsnbextension~=3.6.0->ipywidgets<9,>=7.6.0->ipycanvas->kaolin==0.17.0) (1.6.0)\n",
            "Requirement already satisfied: Send2Trash>=1.8.0 in /usr/local/lib/python3.10/dist-packages (from notebook>=4.4.1->widgetsnbextension~=3.6.0->ipywidgets<9,>=7.6.0->ipycanvas->kaolin==0.17.0) (1.8.3)\n",
            "Requirement already satisfied: terminado>=0.8.3 in /usr/local/lib/python3.10/dist-packages (from notebook>=4.4.1->widgetsnbextension~=3.6.0->ipywidgets<9,>=7.6.0->ipycanvas->kaolin==0.17.0) (0.18.1)\n",
            "Requirement already satisfied: prometheus-client in /usr/local/lib/python3.10/dist-packages (from notebook>=4.4.1->widgetsnbextension~=3.6.0->ipywidgets<9,>=7.6.0->ipycanvas->kaolin==0.17.0) (0.21.1)\n",
            "Requirement already satisfied: nbclassic>=0.4.7 in /usr/local/lib/python3.10/dist-packages (from notebook>=4.4.1->widgetsnbextension~=3.6.0->ipywidgets<9,>=7.6.0->ipycanvas->kaolin==0.17.0) (1.1.0)\n",
            "Requirement already satisfied: notebook-shim>=0.2.3 in /usr/local/lib/python3.10/dist-packages (from nbclassic>=0.4.7->notebook>=4.4.1->widgetsnbextension~=3.6.0->ipywidgets<9,>=7.6.0->ipycanvas->kaolin==0.17.0) (0.2.4)\n",
            "Requirement already satisfied: beautifulsoup4 in /usr/local/lib/python3.10/dist-packages (from nbconvert>=5->notebook>=4.4.1->widgetsnbextension~=3.6.0->ipywidgets<9,>=7.6.0->ipycanvas->kaolin==0.17.0) (4.12.3)\n",
            "Requirement already satisfied: bleach!=5.0.0 in /usr/local/lib/python3.10/dist-packages (from nbconvert>=5->notebook>=4.4.1->widgetsnbextension~=3.6.0->ipywidgets<9,>=7.6.0->ipycanvas->kaolin==0.17.0) (6.2.0)\n",
            "Requirement already satisfied: defusedxml in /usr/local/lib/python3.10/dist-packages (from nbconvert>=5->notebook>=4.4.1->widgetsnbextension~=3.6.0->ipywidgets<9,>=7.6.0->ipycanvas->kaolin==0.17.0) (0.7.1)\n",
            "Requirement already satisfied: jupyterlab-pygments in /usr/local/lib/python3.10/dist-packages (from nbconvert>=5->notebook>=4.4.1->widgetsnbextension~=3.6.0->ipywidgets<9,>=7.6.0->ipycanvas->kaolin==0.17.0) (0.3.0)\n",
            "Requirement already satisfied: mistune<4,>=2.0.3 in /usr/local/lib/python3.10/dist-packages (from nbconvert>=5->notebook>=4.4.1->widgetsnbextension~=3.6.0->ipywidgets<9,>=7.6.0->ipycanvas->kaolin==0.17.0) (3.0.2)\n",
            "Requirement already satisfied: nbclient>=0.5.0 in /usr/local/lib/python3.10/dist-packages (from nbconvert>=5->notebook>=4.4.1->widgetsnbextension~=3.6.0->ipywidgets<9,>=7.6.0->ipycanvas->kaolin==0.17.0) (0.10.1)\n",
            "Requirement already satisfied: pandocfilters>=1.4.1 in /usr/local/lib/python3.10/dist-packages (from nbconvert>=5->notebook>=4.4.1->widgetsnbextension~=3.6.0->ipywidgets<9,>=7.6.0->ipycanvas->kaolin==0.17.0) (1.5.1)\n",
            "Requirement already satisfied: tinycss2 in /usr/local/lib/python3.10/dist-packages (from nbconvert>=5->notebook>=4.4.1->widgetsnbextension~=3.6.0->ipywidgets<9,>=7.6.0->ipycanvas->kaolin==0.17.0) (1.4.0)\n",
            "Requirement already satisfied: fastjsonschema>=2.15 in /usr/local/lib/python3.10/dist-packages (from nbformat->notebook>=4.4.1->widgetsnbextension~=3.6.0->ipywidgets<9,>=7.6.0->ipycanvas->kaolin==0.17.0) (2.21.1)\n",
            "Requirement already satisfied: jsonschema>=2.6 in /usr/local/lib/python3.10/dist-packages (from nbformat->notebook>=4.4.1->widgetsnbextension~=3.6.0->ipywidgets<9,>=7.6.0->ipycanvas->kaolin==0.17.0) (4.23.0)\n",
            "Requirement already satisfied: argon2-cffi-bindings in /usr/local/lib/python3.10/dist-packages (from argon2-cffi->notebook>=4.4.1->widgetsnbextension~=3.6.0->ipywidgets<9,>=7.6.0->ipycanvas->kaolin==0.17.0) (21.2.0)\n",
            "Requirement already satisfied: webencodings in /usr/local/lib/python3.10/dist-packages (from bleach!=5.0.0->nbconvert>=5->notebook>=4.4.1->widgetsnbextension~=3.6.0->ipywidgets<9,>=7.6.0->ipycanvas->kaolin==0.17.0) (0.5.1)\n",
            "Requirement already satisfied: attrs>=22.2.0 in /usr/local/lib/python3.10/dist-packages (from jsonschema>=2.6->nbformat->notebook>=4.4.1->widgetsnbextension~=3.6.0->ipywidgets<9,>=7.6.0->ipycanvas->kaolin==0.17.0) (24.3.0)\n",
            "Requirement already satisfied: jsonschema-specifications>=2023.03.6 in /usr/local/lib/python3.10/dist-packages (from jsonschema>=2.6->nbformat->notebook>=4.4.1->widgetsnbextension~=3.6.0->ipywidgets<9,>=7.6.0->ipycanvas->kaolin==0.17.0) (2024.10.1)\n",
            "Requirement already satisfied: referencing>=0.28.4 in /usr/local/lib/python3.10/dist-packages (from jsonschema>=2.6->nbformat->notebook>=4.4.1->widgetsnbextension~=3.6.0->ipywidgets<9,>=7.6.0->ipycanvas->kaolin==0.17.0) (0.35.1)\n",
            "Requirement already satisfied: rpds-py>=0.7.1 in /usr/local/lib/python3.10/dist-packages (from jsonschema>=2.6->nbformat->notebook>=4.4.1->widgetsnbextension~=3.6.0->ipywidgets<9,>=7.6.0->ipycanvas->kaolin==0.17.0) (0.22.3)\n",
            "Requirement already satisfied: jupyter-server<3,>=1.8 in /usr/local/lib/python3.10/dist-packages (from notebook-shim>=0.2.3->nbclassic>=0.4.7->notebook>=4.4.1->widgetsnbextension~=3.6.0->ipywidgets<9,>=7.6.0->ipycanvas->kaolin==0.17.0) (1.24.0)\n",
            "Requirement already satisfied: cffi>=1.0.1 in /usr/local/lib/python3.10/dist-packages (from argon2-cffi-bindings->argon2-cffi->notebook>=4.4.1->widgetsnbextension~=3.6.0->ipywidgets<9,>=7.6.0->ipycanvas->kaolin==0.17.0) (1.17.1)\n",
            "Requirement already satisfied: soupsieve>1.2 in /usr/local/lib/python3.10/dist-packages (from beautifulsoup4->nbconvert>=5->notebook>=4.4.1->widgetsnbextension~=3.6.0->ipywidgets<9,>=7.6.0->ipycanvas->kaolin==0.17.0) (2.6)\n",
            "Requirement already satisfied: pycparser in /usr/local/lib/python3.10/dist-packages (from cffi>=1.0.1->argon2-cffi-bindings->argon2-cffi->notebook>=4.4.1->widgetsnbextension~=3.6.0->ipywidgets<9,>=7.6.0->ipycanvas->kaolin==0.17.0) (2.22)\n",
            "Requirement already satisfied: anyio<4,>=3.1.0 in /usr/local/lib/python3.10/dist-packages (from jupyter-server<3,>=1.8->notebook-shim>=0.2.3->nbclassic>=0.4.7->notebook>=4.4.1->widgetsnbextension~=3.6.0->ipywidgets<9,>=7.6.0->ipycanvas->kaolin==0.17.0) (3.7.1)\n",
            "Requirement already satisfied: websocket-client in /usr/local/lib/python3.10/dist-packages (from jupyter-server<3,>=1.8->notebook-shim>=0.2.3->nbclassic>=0.4.7->notebook>=4.4.1->widgetsnbextension~=3.6.0->ipywidgets<9,>=7.6.0->ipycanvas->kaolin==0.17.0) (1.8.0)\n",
            "Requirement already satisfied: idna>=2.8 in /usr/local/lib/python3.10/dist-packages (from anyio<4,>=3.1.0->jupyter-server<3,>=1.8->notebook-shim>=0.2.3->nbclassic>=0.4.7->notebook>=4.4.1->widgetsnbextension~=3.6.0->ipywidgets<9,>=7.6.0->ipycanvas->kaolin==0.17.0) (3.10)\n",
            "Requirement already satisfied: sniffio>=1.1 in /usr/local/lib/python3.10/dist-packages (from anyio<4,>=3.1.0->jupyter-server<3,>=1.8->notebook-shim>=0.2.3->nbclassic>=0.4.7->notebook>=4.4.1->widgetsnbextension~=3.6.0->ipywidgets<9,>=7.6.0->ipycanvas->kaolin==0.17.0) (1.3.1)\n",
            "Requirement already satisfied: exceptiongroup in /usr/local/lib/python3.10/dist-packages (from anyio<4,>=3.1.0->jupyter-server<3,>=1.8->notebook-shim>=0.2.3->nbclassic>=0.4.7->notebook>=4.4.1->widgetsnbextension~=3.6.0->ipywidgets<9,>=7.6.0->ipycanvas->kaolin==0.17.0) (1.2.2)\n",
            "Downloading comm-0.2.2-py3-none-any.whl (7.2 kB)\n",
            "Downloading ipycanvas-0.13.3-py2.py3-none-any.whl (125 kB)\n",
            "\u001b[2K   \u001b[90m━━━━━━━━━━━━━━━━━━━━━━━━━━━━━━━━━━━━━━━━\u001b[0m \u001b[32m125.8/125.8 kB\u001b[0m \u001b[31m6.5 MB/s\u001b[0m eta \u001b[36m0:00:00\u001b[0m\n",
            "\u001b[?25hDownloading pybind11-2.13.6-py3-none-any.whl (243 kB)\n",
            "\u001b[2K   \u001b[90m━━━━━━━━━━━━━━━━━━━━━━━━━━━━━━━━━━━━━━━━\u001b[0m \u001b[32m243.3/243.3 kB\u001b[0m \u001b[31m16.3 MB/s\u001b[0m eta \u001b[36m0:00:00\u001b[0m\n",
            "\u001b[?25hDownloading usd_core-24.11-cp310-none-manylinux_2_17_x86_64.manylinux2014_x86_64.whl (25.4 MB)\n",
            "\u001b[2K   \u001b[90m━━━━━━━━━━━━━━━━━━━━━━━━━━━━━━━━━━━━━━━━\u001b[0m \u001b[32m25.4/25.4 MB\u001b[0m \u001b[31m58.2 MB/s\u001b[0m eta \u001b[36m0:00:00\u001b[0m\n",
            "\u001b[?25hDownloading warp_lang-1.5.1-py3-none-manylinux2014_x86_64.whl (84.6 MB)\n",
            "\u001b[2K   \u001b[90m━━━━━━━━━━━━━━━━━━━━━━━━━━━━━━━━━━━━━━━━\u001b[0m \u001b[32m84.6/84.6 MB\u001b[0m \u001b[31m9.1 MB/s\u001b[0m eta \u001b[36m0:00:00\u001b[0m\n",
            "\u001b[?25hDownloading dataclasses_json-0.6.7-py3-none-any.whl (28 kB)\n",
            "Downloading jedi-0.19.2-py2.py3-none-any.whl (1.6 MB)\n",
            "\u001b[2K   \u001b[90m━━━━━━━━━━━━━━━━━━━━━━━━━━━━━━━━━━━━━━━━\u001b[0m \u001b[32m1.6/1.6 MB\u001b[0m \u001b[31m75.6 MB/s\u001b[0m eta \u001b[36m0:00:00\u001b[0m\n",
            "\u001b[?25hDownloading marshmallow-3.23.3-py3-none-any.whl (48 kB)\n",
            "\u001b[2K   \u001b[90m━━━━━━━━━━━━━━━━━━━━━━━━━━━━━━━━━━━━━━━━\u001b[0m \u001b[32m48.9/48.9 kB\u001b[0m \u001b[31m4.2 MB/s\u001b[0m eta \u001b[36m0:00:00\u001b[0m\n",
            "\u001b[?25hDownloading typing_inspect-0.9.0-py3-none-any.whl (8.8 kB)\n",
            "Downloading mypy_extensions-1.0.0-py3-none-any.whl (4.7 kB)\n",
            "Building wheels for collected packages: pygltflib\n",
            "  Building wheel for pygltflib (setup.py) ... \u001b[?25l\u001b[?25hdone\n",
            "  Created wheel for pygltflib: filename=pygltflib-1.16.3-py3-none-any.whl size=27408 sha256=44cc9dee8ff5c8133653ad2d2b2804fa064cc63c70eff2500f504c3e2b34ccc5\n",
            "  Stored in directory: /root/.cache/pip/wheels/de/4a/cc/0d166b319ddda5007d0dfa6087346a30c4713b0fdaeaeff304\n",
            "Successfully built pygltflib\n",
            "Installing collected packages: warp-lang, usd-core, pybind11, mypy-extensions, marshmallow, jedi, comm, typing-inspect, dataclasses-json, pygltflib, ipycanvas, kaolin\n",
            "Successfully installed comm-0.2.2 dataclasses-json-0.6.7 ipycanvas-0.13.3 jedi-0.19.2 kaolin-0.17.0 marshmallow-3.23.3 mypy-extensions-1.0.0 pybind11-2.13.6 pygltflib-1.16.3 typing-inspect-0.9.0 usd-core-24.11 warp-lang-1.5.1\n"
          ]
        }
      ],
      "execution_count": 5
    },
    {
      "cell_type": "code",
      "source": [
        "\n",
        "import sys\n",
        "import torch\n",
        "\n",
        "need_pytorch3d = False\n",
        "try:\n",
        "    import pytorch3d\n",
        "except ModuleNotFoundError:\n",
        "    need_pytorch3d = True\n",
        "if need_pytorch3d:\n",
        "    pyt_version_str = torch.__version__.split(\"+\")[0].replace(\".\", \"\")\n",
        "    version_str = \"\".join([\n",
        "        f\"py3{sys.version_info.minor}_cu\",\n",
        "        torch.version.cuda.replace(\".\", \"\"),\n",
        "        f\"_pyt{pyt_version_str}\"\n",
        "    ])\n",
        "    !pip install iopath\n",
        "    if sys.platform.startswith(\"linux\"):\n",
        "        print(\"Trying to install wheel for PyTorch3D\")\n",
        "        !pip install --no-index --no-cache-dir pytorch3d -f https://dl.fbaipublicfiles.com/pytorch3d/packaging/wheels/{version_str}/download.html\n",
        "        pip_list = !pip freeze\n",
        "        need_pytorch3d = not any(i.startswith(\"pytorch3d==\") for i in pip_list)\n",
        "    if need_pytorch3d:\n",
        "        print(f\"failed to find/install wheel for {version_str}\")\n",
        "if need_pytorch3d:\n",
        "    print(\"Installing PyTorch3D from source\")\n",
        "    !pip install ninja\n",
        "    !pip install 'git+https://github.com/facebookresearch/pytorch3d.git@stable'"
      ],
      "metadata": {
        "ExecuteTime": {
          "end_time": "2024-12-26T14:58:53.585274Z",
          "start_time": "2024-12-26T14:58:48.836644Z"
        },
        "execution": {
          "iopub.status.busy": "2025-01-01T14:36:21.555574Z",
          "iopub.execute_input": "2025-01-01T14:36:21.555908Z",
          "iopub.status.idle": "2025-01-01T14:36:21.568059Z",
          "shell.execute_reply.started": "2025-01-01T14:36:21.555881Z",
          "shell.execute_reply": "2025-01-01T14:36:21.567172Z"
        },
        "id": "sRNWfRMnIzuJ",
        "trusted": true
      },
      "outputs": [],
      "execution_count": null
    },
    {
      "cell_type": "code",
      "source": [
        "!pip install open3d"
      ],
      "metadata": {
        "execution": {
          "iopub.status.busy": "2025-01-01T14:36:14.047506Z",
          "iopub.execute_input": "2025-01-01T14:36:14.047869Z",
          "iopub.status.idle": "2025-01-01T14:36:17.370993Z",
          "shell.execute_reply.started": "2025-01-01T14:36:14.047843Z",
          "shell.execute_reply": "2025-01-01T14:36:17.369917Z"
        },
        "id": "zT9LfpcRXDHy",
        "trusted": true,
        "collapsed": true,
        "jupyter": {
          "outputs_hidden": true
        }
      },
      "outputs": [],
      "execution_count": null
    },
    {
      "cell_type": "code",
      "source": [
        "!mkdir -p data/PittsburghBridge\n",
        "!wget -P data/PittsburghBridge https://dl.fbaipublicfiles.com/pytorch3d/data/PittsburghBridge/pointcloud.npz"
      ],
      "metadata": {
        "collapsed": true,
        "execution": {
          "iopub.execute_input": "2024-12-30T21:49:30.907987Z",
          "iopub.status.busy": "2024-12-30T21:49:30.907664Z",
          "iopub.status.idle": "2024-12-30T21:49:31.604721Z",
          "shell.execute_reply": "2024-12-30T21:49:31.603879Z",
          "shell.execute_reply.started": "2024-12-30T21:49:30.907957Z"
        },
        "id": "FTk44DGYYIBS",
        "jupyter": {
          "outputs_hidden": true
        },
        "trusted": true
      },
      "outputs": [],
      "execution_count": null
    },
    {
      "cell_type": "code",
      "source": [
        "\n",
        "from src.mesh import Mesh\n",
        "from pytorch3d.structures import Pointclouds\n",
        "\n",
        "from src.convertor import obj_to_pointcloud\n",
        "\n",
        "\n",
        "def bounding_sphere_normalize(points: torch.Tensor) -> torch.Tensor:\n",
        "    \"\"\"\n",
        "    points: (N,3) tensor of point coords\n",
        "    Return normalized points in a unit sphere centered at origin.\n",
        "    \"\"\"\n",
        "    center = points.mean(dim=0, keepdim=True)\n",
        "    max_dist = (points - center).norm(p=2, dim=1).max()\n",
        "    points_normed = (points - center) / max_dist\n",
        "    return points_normed\n",
        "\n",
        "\n",
        "def load_3d_data(file_path, num_points=10000, device=\"cuda\", do_normalize=True):\n",
        "    \"\"\"\n",
        "    Loads 3D data as PyTorch3D Pointclouds from either NPZ point cloud or OBJ mesh.\n",
        "\n",
        "    Args:\n",
        "        file_path: Path to either .npz point cloud or .obj mesh file\n",
        "        num_points: Number of points to sample if loading from mesh\n",
        "        device: Device to load data on\n",
        "\n",
        "    Returns:\n",
        "        Pointclouds object containing points and features\n",
        "    \"\"\"\n",
        "    file_ext = file_path.split('.')[-1].lower()\n",
        "\n",
        "    if file_ext == 'npz':\n",
        "        # Load NPZ point cloud directly like in the example\n",
        "        pointcloud = np.load(file_path)\n",
        "        verts = torch.Tensor(pointcloud['verts']).to(device)\n",
        "        rgb = torch.Tensor(pointcloud['rgb']).to(device)\n",
        "\n",
        "        print(\"lenght of the data\")\n",
        "        print(len(verts))\n",
        "\n",
        "        # Subsample if needed\n",
        "        if len(verts) > num_points:\n",
        "            idx = torch.randperm(len(verts))[:num_points]\n",
        "            verts = verts[idx]\n",
        "            rgb = rgb[idx]\n",
        "\n",
        "        if do_normalize:\n",
        "            verts = bounding_sphere_normalize(verts)\n",
        "\n",
        "        # Return both the points tensor and the Pointclouds object\n",
        "        point_cloud = Pointclouds(points=[verts], features=[rgb])\n",
        "        return verts, point_cloud  # Return both\n",
        "\n",
        "    elif file_ext == 'obj':\n",
        "        # Load and convert your OBJ file\n",
        "        points, point_cloud = obj_to_pointcloud(\n",
        "            file_path,\n",
        "            num_points=num_points,  # Adjust this number as needed\n",
        "            device=\"cuda\"  # Use \"cpu\" if you don't have a GPU\n",
        "        )\n",
        "        if do_normalize:\n",
        "            points = bounding_sphere_normalize(points)\n",
        "            # here we update the point cloud too\n",
        "            rgb = point_cloud.features_packed() # shape [N,3]\n",
        "            point_cloud = Pointclouds(points = [points], features = [rgb])\n",
        "        return points, point_cloud\n",
        "        # # Load mesh and sample points\n",
        "        # mesh = Mesh(file_path)\n",
        "        # vertices = mesh.vertices\n",
        "\n",
        "        # # Sample random points\n",
        "        # idx = torch.randperm(vertices.shape[0])[:num_points]\n",
        "        # points = vertices[idx].to(device)\n",
        "\n",
        "        # # Initialize with gray color\n",
        "        # colors = torch.ones_like(points) * 0.7\n",
        "\n",
        "        # return Pointclouds(points=[points], features=[colors])\n",
        "\n",
        "    else:\n",
        "        raise ValueError(f\"Unsupported file format: {file_ext}. Only .npz and .obj are supported.\")\n",
        "\n"
      ],
      "metadata": {
        "execution": {
          "iopub.status.busy": "2025-01-01T14:36:26.236843Z",
          "iopub.execute_input": "2025-01-01T14:36:26.237129Z",
          "iopub.status.idle": "2025-01-01T14:36:29.035862Z",
          "shell.execute_reply.started": "2025-01-01T14:36:26.237107Z",
          "shell.execute_reply": "2025-01-01T14:36:29.035082Z"
        },
        "trusted": true,
        "id": "fxo1SjSH2NHm",
        "outputId": "9c803631-c3d8-40b1-d76f-c91aa196d52b",
        "colab": {
          "base_uri": "https://localhost:8080/",
          "height": 138
        }
      },
      "outputs": [
        {
          "output_type": "stream",
          "name": "stdout",
          "text": [
            "Warp 1.5.1 initialized:\n",
            "   CUDA Toolkit 12.6, Driver 12.2\n",
            "   Devices:\n",
            "     \"cpu\"      : \"x86_64\"\n",
            "     \"cuda:0\"   : \"Tesla T4\" (15 GiB, sm_75, mempool enabled)\n",
            "   Kernel cache:\n",
            "     /root/.cache/warp/1.5.1\n"
          ]
        }
      ],
      "execution_count": 8
    },
    {
      "cell_type": "code",
      "source": [
        "def print_grad_fn(tensor, depth=0):\n",
        "    \"\"\"Recursively print the gradient function graph\"\"\"\n",
        "    if tensor.grad_fn is None:\n",
        "        print(\"  \" * depth + \"None (leaf tensor)\")\n",
        "        return\n",
        "\n",
        "    print(\"  \" * depth + str(tensor.grad_fn))\n",
        "    for fn in tensor.grad_fn.next_functions:\n",
        "        if fn[0] is not None:\n",
        "            print(\"  \" * (depth + 1) + str(fn[0]))"
      ],
      "metadata": {
        "collapsed": true,
        "execution": {
          "iopub.execute_input": "2024-12-29T14:25:41.677365Z",
          "iopub.status.busy": "2024-12-29T14:25:41.677027Z",
          "iopub.status.idle": "2024-12-29T14:25:41.682294Z",
          "shell.execute_reply": "2024-12-29T14:25:41.681359Z",
          "shell.execute_reply.started": "2024-12-29T14:25:41.677336Z"
        },
        "jupyter": {
          "outputs_hidden": true
        },
        "trusted": true,
        "id": "kBamsUCJ2NHn"
      },
      "outputs": [],
      "execution_count": null
    },
    {
      "cell_type": "code",
      "source": [
        "\n",
        "from src.render.cloud_point_renderer import MultiViewPointCloudRenderer\n",
        "from src.save_results import save_renders, save_results\n",
        "from src.neural_highlighter import NeuralHighlighter\n",
        "from src.Clip.loss_function import clip_loss\n",
        "from src.Clip.clip_model import get_clip_model, encode_text, setup_clip_transforms\n",
        "\n",
        "import torch\n",
        "import numpy as np\n",
        "import random\n",
        "from tqdm import tqdm\n",
        "\n",
        "# Constrain most sources of randomness\n",
        "# (some torch backwards functions within CLIP are non-determinstic)\n",
        "# Set a consistent seed for reproducibility\n",
        "seed = 0  # You can use any integer value\n",
        "torch.manual_seed(seed)\n",
        "torch.cuda.manual_seed(seed)\n",
        "torch.cuda.manual_seed_all(seed)\n",
        "random.seed(seed)\n",
        "np.random.seed(seed)\n",
        "torch.backends.cudnn.benchmark = False\n",
        "torch.backends.cudnn.deterministic = True\n",
        "\n",
        "\n",
        "def optimize_point_cloud(points, clip_model, renderer, encoded_text, log_dir: str, **kwargs):\n",
        "    num_iterations = kwargs.get('num_iterations', 1000)\n",
        "    learning_rate = kwargs.get('learning_rate', 1e-4)\n",
        "    depth = kwargs.get('depth', 5)\n",
        "    width = kwargs.get('network_width', 256)\n",
        "    n_views = kwargs.get(\"n_views\", 4)\n",
        "    n_augs = kwargs.get('n_augs', 1)\n",
        "    clipavg = kwargs.get('clipavg', 'view')\n",
        "    device = kwargs.get('device', 'cuda')\n",
        "\n",
        "    # Initialize network and optimizer\n",
        "    net = NeuralHighlighter(\n",
        "        depth=depth,  # Number of hidden layers\n",
        "        width=width,  # Width of each layer\n",
        "        out_dim=2,  # Binary classification (highlight/no-highlight)\n",
        "        input_dim=3,  # 3D coordinates (x,y,z)\n",
        "        positional_encoding=False  # As recommended in the paper\n",
        "    ).to(device)\n",
        "    optimizer = torch.optim.Adam(net.parameters(), lr=learning_rate)\n",
        "\n",
        "    # Set up the transforms\n",
        "    clip_transform, augment_transform = setup_clip_transforms()\n",
        "\n",
        "    # Training loop\n",
        "    for i in tqdm(range(num_iterations)):\n",
        "        optimizer.zero_grad()\n",
        "\n",
        "        # Predict highlight probabilities\n",
        "        pred_class = net(points)\n",
        "\n",
        "        # Create colors based on predictions\n",
        "        highlight_color = torch.tensor([204 / 255, 1.0, 0.0]).to(device)\n",
        "        base_color = torch.tensor([180 / 255, 180 / 255, 180 / 255]).to(device)\n",
        "\n",
        "        colors = pred_class[:, 0:1] * highlight_color + pred_class[:, 1:2] * base_color\n",
        "\n",
        "        # Create and render point cloud\n",
        "        point_cloud = renderer.create_point_cloud(points, colors)\n",
        "        rendered_images = renderer.render_all_views(point_cloud=point_cloud, n_views=n_views)\n",
        "        # Convert dictionary of images to tensor\n",
        "        rendered_tensor = []\n",
        "        for name, img in rendered_images.items():\n",
        "            rendered_tensor.append(img.to(device))\n",
        "        rendered_tensor = torch.stack(rendered_tensor)\n",
        "\n",
        "        #Convert rendered images to CLIP format\n",
        "        rendered_images = rendered_tensor.permute(0, 3, 1, 2)  # [B, H, W, C] -> [B, C, H, W]\n",
        "        #print(rendered_images.shape)\n",
        "\n",
        "        # Calculate CLIP loss\n",
        "        loss = clip_loss(\n",
        "            rendered_images=rendered_images,\n",
        "            encoded_text=encoded_text,\n",
        "            clip_transform=clip_transform,\n",
        "            augment_transform=augment_transform,\n",
        "            clip_model=clip_model,\n",
        "            n_augs=n_augs,\n",
        "            clipavg=clipavg\n",
        "        )\n",
        "        #print(\"Loss computation graph:\")\n",
        "        #print_grad_fn(loss)\n",
        "        loss.backward()\n",
        "        optimizer.step()\n",
        "\n",
        "        if i % 100 == 0:\n",
        "            print(f\"Iteration {i}, Loss: {loss.item():.4f}\")\n",
        "            save_renders(log_dir, i, rendered_images)\n",
        "\n",
        "    return net\n",
        "\n",
        "\n",
        "def main(input_path, object_name, highlight_region, **kwargs):\n",
        "    \"\"\"\n",
        "    Main function for 3D highlighting with configurable parameters.\n",
        "\n",
        "    Args:\n",
        "        input_path: Path to input 3D file (mesh or point cloud)\n",
        "        object_name: Name of the object for the prompt\n",
        "        highlight_region: Region to highlight\n",
        "        **kwargs: Optional parameters with defaults:\n",
        "            n_views: Number of views to render (default: 5)\n",
        "            n_aug: Number of augmentations (default: 5)\n",
        "            clipavg: Method for CLIP averaging (default: \"view\")\n",
        "            network_depth: Depth of neural network (default: 5)\n",
        "            network_width: Width of neural layers (default: 256)\n",
        "            learning_rate: Learning rate for optimization (default: 1e-4)\n",
        "            num_iterations: Number of training iterations (default: 500)\n",
        "            num_points: Number of points to sample (default: 10000)\n",
        "            device: Device to run on (default: \"cuda\")\n",
        "            output_dir: Directory for outputs (default: \"./output\")\n",
        "    \"\"\"\n",
        "    # Extract parameters from kwargs with defaults\n",
        "    n_views = kwargs.get(\"n_views\", 4)\n",
        "    num_points = kwargs.get(\"num_points\", 10000)\n",
        "    device = kwargs.get(\"device\", \"cuda\")\n",
        "    output_dir = kwargs.get(\"output_dir\", \"./output\")\n",
        "    do_normalize = kwargs.get(\"do_normalize\", True)\n",
        "\n",
        "    try:\n",
        "        # Create output directory if it doesn't exist\n",
        "        os.makedirs(output_dir, exist_ok=True)\n",
        "\n",
        "        # Load 3D data (either mesh or point cloud)\n",
        "        print(f\"Loading 3D data from {input_path}...\")\n",
        "        points, point_cloud = load_3d_data(input_path, num_points=num_points, device=device)\n",
        "        print(f\"Loaded {len(points)} points\")\n",
        "\n",
        "        # Setup CLIP model\n",
        "        print(\"Setting up CLIP model...\")\n",
        "        clip_model, preprocess, resolution = get_clip_model()\n",
        "\n",
        "        # Create and encode prompt\n",
        "        prompt = f\"A 3D render of a gray {object_name} with highlighted {highlight_region}\"\n",
        "        print(f\"Using prompt: {prompt}\")\n",
        "        text_features = encode_text(clip_model, prompt, device)\n",
        "\n",
        "        # Initialize renderer\n",
        "        print(\"Setting up renderer...\")\n",
        "        renderer = MultiViewPointCloudRenderer(\n",
        "            image_size=512,\n",
        "            base_dist=30,  # Your default view distance\n",
        "            base_elev=10,  # Your default elevation\n",
        "            base_azim=0,  # Your default azimuth\n",
        "            device=device\n",
        "        )\n",
        "\n",
        "        # Optimize point cloud highlighting\n",
        "        print(\"Starting optimization...\")\n",
        "        net = optimize_point_cloud(\n",
        "            points=points,\n",
        "            renderer=renderer,\n",
        "            clip_model=clip_model,\n",
        "            encoded_text=text_features,\n",
        "            log_dir=output_dir,\n",
        "            **kwargs\n",
        "        )\n",
        "\n",
        "        # Save results\n",
        "        print(\"Saving results...\")\n",
        "        save_results(\n",
        "            net=net,\n",
        "            points=points,\n",
        "            n_views=n_views,\n",
        "            prompt=prompt,\n",
        "            output_dir=output_dir,\n",
        "            renderer=renderer,\n",
        "            device=device\n",
        "        )\n",
        "\n",
        "        print(\"Processing complete!\")\n",
        "        return net, points\n",
        "\n",
        "    except Exception as e:\n",
        "        print(f\"Error in processing: {str(e)}\")\n",
        "        raise\n",
        "\n"
      ],
      "metadata": {
        "execution": {
          "iopub.status.busy": "2025-01-01T14:36:34.620779Z",
          "iopub.execute_input": "2025-01-01T14:36:34.621176Z",
          "iopub.status.idle": "2025-01-01T14:36:36.982381Z",
          "shell.execute_reply.started": "2025-01-01T14:36:34.621151Z",
          "shell.execute_reply": "2025-01-01T14:36:36.981685Z"
        },
        "id": "E0SBrmlBkwib",
        "trusted": true
      },
      "outputs": [],
      "execution_count": 9
    },
    {
      "cell_type": "code",
      "source": [
        "main(\n",
        "    input_path=\"/kaggle/working/Affordance3DHighlighter/data/candle.obj\",\n",
        "    object_name=\"candle\",\n",
        "    highlight_region=\"head\",\n",
        "    n_views=4,\n",
        "    n_augs=1,\n",
        "    clipavg=\"view\",\n",
        "    network_depth=5,\n",
        "    network_width=256,\n",
        "    learning_rate=1e-4,\n",
        "    num_iterations=500,\n",
        "    num_points=100000,\n",
        "    device=\"cuda\",\n",
        "    output_dir=\"./output\"\n",
        ")"
      ],
      "metadata": {
        "collapsed": true,
        "execution": {
          "iopub.execute_input": "2024-12-29T14:51:45.103620Z",
          "iopub.status.busy": "2024-12-29T14:51:45.103314Z",
          "iopub.status.idle": "2024-12-29T14:55:01.180282Z",
          "shell.execute_reply": "2024-12-29T14:55:01.179493Z",
          "shell.execute_reply.started": "2024-12-29T14:51:45.103597Z"
        },
        "id": "uD_gYzdOpy-t",
        "jupyter": {
          "outputs_hidden": true
        },
        "trusted": true
      },
      "outputs": [],
      "execution_count": null
    },
    {
      "cell_type": "markdown",
      "source": [
        "### Evaluation for part 3"
      ],
      "metadata": {
        "id": "wWM3ZR9_2NHo"
      }
    },
    {
      "cell_type": "markdown",
      "source": [
        "Ground truth visual representation"
      ],
      "metadata": {
        "id": "XEKOPuSx2NHp"
      }
    },
    {
      "cell_type": "code",
      "source": [
        "def save_ground_truth_results(data_entry, output_dir, renderer, device=\"cuda\", n_views=4):\n",
        "    \"\"\"\n",
        "    Saves visualization of ground truth affordance labels using existing save functions.\n",
        "    Now with more contrasting colors for better visibility.\n",
        "\n",
        "    Args:\n",
        "        data_entry: Dataset entry containing point cloud and labels\n",
        "        output_dir: Directory to save results\n",
        "        renderer: Point cloud renderer\n",
        "        device: Computing device\n",
        "        n_views: Number of views to render\n",
        "    \"\"\"\n",
        "    with torch.no_grad():\n",
        "        points = data_entry[\"coords\"]\n",
        "        labels_dict = data_entry[\"labels_dict\"]\n",
        "        shape_class = data_entry[\"shape_class\"]\n",
        "\n",
        "        # Create ground truth directory\n",
        "        gt_dir = os.path.join(output_dir, 'ground_truth')\n",
        "        os.makedirs(gt_dir, exist_ok=True)\n",
        "\n",
        "        # Define colors for different affordances\n",
        "        affordance_colors = {\n",
        "            'openable': torch.tensor([1.0, 0.0, 0.0]).to(device),  # bright red\n",
        "            'pushable': torch.tensor([0.0, 0.0, 1.0]).to(device),  # bright blue\n",
        "            'pull': torch.tensor([0.0, 1.0, 0.0]).to(device)       # bright green\n",
        "        }\n",
        "\n",
        "        # Darker base color for better contrast\n",
        "        base_color = torch.tensor([0.3, 0.3, 0.3]).to(device)  # darker gray\n",
        "\n",
        "        # Process each affordance\n",
        "        for affordance, labels in labels_dict.items():\n",
        "            # Convert labels to the same format as network predictions\n",
        "            pred_class = torch.stack([1 - labels, labels], dim=1)\n",
        "\n",
        "            # Use the corresponding color for this affordance\n",
        "            highlight_color = affordance_colors.get(affordance, torch.tensor([1.0, 0.0, 0.0]).to(device))  # default to red\n",
        "            colors = pred_class[:, 1:2] * highlight_color + pred_class[:, 0:1] * base_color\n",
        "\n",
        "            # Save raw point cloud data using existing function\n",
        "            save_point_cloud_results(\n",
        "                points=points,\n",
        "                colors=colors,\n",
        "                output_path=os.path.join(gt_dir, f'gt_pointcloud_{affordance}.ply')\n",
        "            )\n",
        "\n",
        "            # Create and render point cloud\n",
        "            point_cloud = renderer.create_point_cloud(points, colors)\n",
        "            rendered_images = renderer.render_all_views(point_cloud=point_cloud, n_views=n_views)\n",
        "\n",
        "            # Convert dictionary of images to tensor\n",
        "            rendered_tensor = []\n",
        "            for name, img in rendered_images.items():\n",
        "                rendered_tensor.append(img.to(device))\n",
        "            rendered_tensor = torch.stack(rendered_tensor)\n",
        "\n",
        "            # Convert rendered images to proper format\n",
        "            rendered_images = rendered_tensor.permute(0, 3, 1, 2)  # [B, H, W, C] -> [B, C, H, W]\n",
        "            rendered_images = (rendered_images * 255).clamp(0, 255).to(torch.uint8)\n",
        "\n",
        "            # Save rendered images using existing function\n",
        "            save_renders(\n",
        "                dir=gt_dir,\n",
        "                i=0,\n",
        "                rendered_images=rendered_images.float() / 255.0,\n",
        "                name=f'gt_render_{affordance}.png'\n",
        "            )\n",
        "\n",
        "            # Save metadata\n",
        "            with open(os.path.join(gt_dir, f'gt_info_{affordance}.txt'), 'w') as f:\n",
        "                f.write(f\"Shape Class: {shape_class}\\n\")\n",
        "                f.write(f\"Affordance: {affordance}\\n\")\n",
        "                f.write(f\"Positive labels: {labels.sum().item()}/{len(labels)}\")"
      ],
      "metadata": {
        "id": "MIty92B94HEW"
      },
      "execution_count": 16,
      "outputs": []
    },
    {
      "cell_type": "markdown",
      "source": [
        "### Part 3\n",
        "Hyperparam + Strategy Tuning, Then Test Evaluation\n",
        "Teammates focus on the below code block for the reporting part of part 3."
      ],
      "metadata": {
        "id": "-fdoEbMQ2NHp"
      }
    },
    {
      "metadata": {
        "id": "vFI0Nlrz2NHp"
      },
      "cell_type": "code",
      "outputs": [],
      "execution_count": 22,
      "source": [
        "from src.prompt_strategies import generate_affordance_prompt\n",
        "\n",
        "def train_and_evaluate_shape(\n",
        "    shape_entry, # single shape (object) is passed, a dictionary containing point cloud coordinates, class, affordance\n",
        "    clip_model, # pre trained clip model\n",
        "    strategy, # prompt strategy, e.g basic, affordance class specific\n",
        "    threshold, # binary classification threshold for highlighting. As we know highlighting (or the contrast of highlighting\n",
        "    # is done on the basis of probability distribution generated. so closer the value to 1 the brighter it is. so threshold filters out noise which helps miou)\n",
        "    device=\"cuda\",\n",
        "    num_iterations=200 # Number of optimization steps.\n",
        "):\n",
        "    \"\"\"\n",
        "    Trains and evaluates a neural highlighter for a single 3D shape.\n",
        "    Process:\n",
        "    1. Creates fresh neural network\n",
        "    2. Generates prompt using shape's first affordance and selected strategy\n",
        "    3. Trains network for specified iterations\n",
        "    4. Evaluates IoU across ALL affordances using given threshold\n",
        "    5. Returns average IoU for this shape\n",
        "    \"\"\"\n",
        "    # Extracts shape data from dictionary\n",
        "    shape_coords = shape_entry[\"coords\"] # point cloud coordinates\n",
        "    shape_class = shape_entry[\"shape_class\"] # object class (e.g \"DOOR\")\n",
        "    affs = shape_entry[\"affordances\"] # List of affordances (e.g., [\"Openable\", \"Pushable\"])\n",
        "    label_dict = shape_entry[\"labels_dict\"] # Ground truth labels for each affordance\n",
        "\n",
        "    # Make sure coords is on GPU\n",
        "    if not isinstance(shape_coords, torch.Tensor):\n",
        "        shape_coords = torch.tensor(shape_coords, device=device)\n",
        "\n",
        "\n",
        "\n",
        "    # We initialize fresh neural network for this shape\n",
        "    # change in order to observe better results.\n",
        "    net = NeuralHighlighter(depth=5, width=256, out_dim=2, input_dim=3).to(device)\n",
        "\n",
        "    # Here we fetch the first affordance in the class\n",
        "    main_aff = affs[0]  # e.g \"open\" for door\n",
        "\n",
        "    # Here we generate the affordance and class specific prompt!\n",
        "    prompt_str = generate_affordance_prompt(shape_class, main_aff, strategy)\n",
        "    # here the prompt is converted to text features.\n",
        "    text_feats = encode_text(clip_model, prompt_str, device=device)\n",
        "\n",
        "    # Point cloud renderer is initialized here\n",
        "    # These parameters can also be changed in order to achieve the configuration!\n",
        "    renderer = MultiViewPointCloudRenderer(\n",
        "        image_size=256, base_dist=20, base_elev=10, device=device\n",
        "    )\n",
        "\n",
        "    # Train network through optimization\n",
        "    # Clip is used here to align rendered views with text prompt\n",
        "    net = optimize_point_cloud(\n",
        "        points=shape_coords,\n",
        "        clip_model=clip_model,\n",
        "        renderer=renderer,\n",
        "        encoded_text=text_feats,\n",
        "        log_dir=\"./val_tmp\",\n",
        "        num_iterations=num_iterations,\n",
        "        device=device,\n",
        "        n_views=2 # this can be changed to test different config.\n",
        "    )\n",
        "\n",
        "    # Evaluate IoU across all affordances\n",
        "    with torch.no_grad():\n",
        "        pred_class = net(shape_coords)  # shape [N,2]\n",
        "        highlight_scores = pred_class[:,0] # get highlighting probability\n",
        "\n",
        "    # here we calculate average iou (mIoU) across all affordances of a shape. so one door with three diff affordances.\n",
        "    shape_sum = 0.0\n",
        "    c = 0\n",
        "    for aff in affs:\n",
        "        # convert ground truth to binary for comparison\n",
        "        gt_bin = (label_dict[aff]>0.0).long()\n",
        "        # here we convert predictions to binary using threshold\n",
        "        bin_pred = (highlight_scores >= threshold).long()\n",
        "        # compute IoU for this affordance\n",
        "        iou_val = compute_mIoU(bin_pred, gt_bin)\n",
        "        shape_sum += iou_val\n",
        "        c += 1\n",
        "\n",
        "    # Here we return the mean iou accross all affordances\n",
        "    shape_mean = shape_sum/c if c>0 else 0.0\n",
        "    return shape_mean\n",
        "\n",
        "\n",
        "def grid_search_validation(\n",
        "    val_dataset, # validation set\n",
        "    clip_model, # clip model\n",
        "    device='cuda', # computation device\n",
        "    strategies=('basic','affordance_specific'), # strategies\n",
        "    thresholds=(0.3, 0.5, 0.7), # classification threshold to try\n",
        "    num_val_objects=3, # number of validation objects to use\n",
        "    num_iterations=200, # the number of iterations\n",
        "    output_dir=\"./val_gridsearch\"\n",
        "):\n",
        "    \"\"\"\n",
        "    For each (strategy, threshold), pick up to 'num_val_objects' shapes from val_dataset,\n",
        "    train & evaluate each shape => average IoU => pick best combo.\n",
        "    \"\"\"\n",
        "    import random\n",
        "\n",
        "    os.makedirs(output_dir, exist_ok=True)\n",
        "    val_indices = list(range(min(num_val_objects, len(val_dataset))))\n",
        "\n",
        "    # We'll pick 'num_val_objects' shapes from the val dataset for speed\n",
        "    val_indices = list(range(min(num_val_objects, len(val_dataset))))\n",
        "    best_strategy = None\n",
        "    best_threshold = None\n",
        "    best_iou = -1.0\n",
        "    all_results = []\n",
        "\n",
        "    print(\"[grid_search_validation] Starting shape-by-shape training on validation, with saving GT & predictions...\")\n",
        "\n",
        "    for strategy in strategies:\n",
        "        for th in thresholds:\n",
        "            print(f\"\\n=== Trying strategy='{strategy}', threshold={th} ===\")\n",
        "            sum_iou = 0.0\n",
        "            count = 0\n",
        "\n",
        "            combo_dir = os.path.join(output_dir, f\"val_{strategy}_th{th}\")\n",
        "            os.makedirs(combo_dir, exist_ok=True)\n",
        "\n",
        "            # For each shape in val_indices\n",
        "            for i, idx in enumerate(val_indices):\n",
        "                shape_entry = val_dataset[idx]\n",
        "                shape_id = shape_entry.get('shape_id', f'valshape_{idx}')\n",
        "                shape_class = shape_entry[\"shape_class\"]\n",
        "                affs = shape_entry[\"affordances\"]\n",
        "                label_dict = shape_entry[\"labels_dict\"]\n",
        "\n",
        "                shape_coords = shape_entry[\"coords\"]\n",
        "                if not isinstance(shape_coords, torch.Tensor):\n",
        "                    shape_coords = torch.tensor(shape_coords, device=device)\n",
        "\n",
        "                shape_subdir = os.path.join(combo_dir, f\"val_shape_{shape_id}\")\n",
        "                os.makedirs(shape_subdir, exist_ok=True)\n",
        "                os.makedirs(os.path.join(shape_subdir, \"predictions\"), exist_ok=True)\n",
        "\n",
        "                print(f\"  -> [Shape {i+1}/{len(val_indices)}] ID={shape_id}, Class={shape_class}, Affs={affs}\")\n",
        "\n",
        "                try:\n",
        "                    # 1) Save ground truth\n",
        "                    renderer = MultiViewPointCloudRenderer(\n",
        "                        image_size=256, base_dist=20, base_elev=10, device=device\n",
        "                    )\n",
        "                    save_ground_truth_results(\n",
        "                        data_entry=shape_entry,\n",
        "                        output_dir=shape_subdir,\n",
        "                        renderer=renderer,\n",
        "                        device=device,\n",
        "                        n_views=4\n",
        "                    )\n",
        "\n",
        "                    # 2) Train net\n",
        "                    net = NeuralHighlighter(depth=5, width=256, out_dim=2, input_dim=3).to(device)\n",
        "                    main_aff = affs[0]  # first affordance\n",
        "                    prompt_str = generate_affordance_prompt(shape_class, main_aff, strategy)\n",
        "\n",
        "                    from src.Clip.clip_model import encode_text\n",
        "                    text_feats = encode_text(clip_model, prompt_str, device=device)\n",
        "\n",
        "                    net = optimize_point_cloud(\n",
        "                        points=shape_coords,\n",
        "                        clip_model=clip_model,\n",
        "                        renderer=renderer,\n",
        "                        encoded_text=text_feats,\n",
        "                        log_dir=os.path.join(shape_subdir, \"optimization_logs\"),\n",
        "                        num_iterations=num_iterations,\n",
        "                        device=device,\n",
        "                        n_views=4\n",
        "                    )\n",
        "\n",
        "                    # 3) Save predictions\n",
        "                    save_results(\n",
        "                        net=net,\n",
        "                        points=shape_coords,\n",
        "                        prompt=prompt_str,\n",
        "                        output_dir=os.path.join(shape_subdir, \"predictions\"),\n",
        "                        renderer=renderer,\n",
        "                        device=device,\n",
        "                        n_views=4\n",
        "                    )\n",
        "\n",
        "                    # 4) measure IoU across all affs\n",
        "                    with torch.no_grad():\n",
        "                        pred_class = net(shape_coords)  # shape [N,2]\n",
        "                        highlight_scores = pred_class[:,0]\n",
        "\n",
        "                    shape_sum=0.0\n",
        "                    c2=0\n",
        "                    for aff in affs:\n",
        "                        gt_bin = (label_dict[aff]>0.5).long()\n",
        "                        bin_pred = (highlight_scores>= th).long()\n",
        "                        iou_val = compute_mIoU(bin_pred, gt_bin)\n",
        "                        shape_sum+= iou_val\n",
        "                        c2+=1\n",
        "\n",
        "                    shape_mean= shape_sum/c2 if c2>0 else 0.0\n",
        "                    sum_iou += shape_mean\n",
        "                    count += 1\n",
        "\n",
        "                    # Write shape metrics\n",
        "                    with open(os.path.join(shape_subdir, \"metrics.txt\"), 'w') as f:\n",
        "                        f.write(f\"Validation shape ID: {shape_id}\\n\")\n",
        "                        f.write(f\"Strategy: {strategy}\\n\")\n",
        "                        f.write(f\"Threshold: {th}\\n\")\n",
        "                        f.write(f\"Mean IoU: {shape_mean:.3f}\\n\")\n",
        "\n",
        "                    print(f\"     shape IoU => {shape_mean:.3f}\")\n",
        "\n",
        "                except Exception as e:\n",
        "                    print(f\"[Warning] Skipped shape idx={idx} due to error: {e}\")\n",
        "                    continue\n",
        "\n",
        "            # After finishing these shapes for this combo...\n",
        "            avg_iou = sum_iou / count if count>0 else 0.0\n",
        "            all_results.append((strategy, th, avg_iou))\n",
        "            print(f\"\\n>>> Combo (strategy={strategy}, threshold={th}) => Mean IoU={avg_iou:.3f} over {count} shapes\")\n",
        "\n",
        "            # track best\n",
        "            if avg_iou>best_iou:\n",
        "                best_iou= avg_iou\n",
        "                best_strategy= strategy\n",
        "                best_threshold= th\n",
        "\n",
        "    print(\"\\n[grid_search_validation] Validation combos sorted by best IoU:\")\n",
        "    sorted_res= sorted(all_results, key=lambda x: x[2], reverse=True)\n",
        "    for (s,t,iou) in sorted_res:\n",
        "        print(f\"    Strategy={s}, Threshold={t}, IoU={iou:.3f}\")\n",
        "\n",
        "    print(f\"\\n[grid_search_validation] Best strategy={best_strategy}, threshold={best_threshold}, average mIoU={best_iou:.3f}\")\n",
        "    return best_strategy, best_threshold, best_iou\n",
        "\n",
        "\n",
        "def test_phase_evaluation(\n",
        "    test_dataset,\n",
        "    clip_model,\n",
        "    best_strategy,\n",
        "    best_threshold,\n",
        "    device='cuda',\n",
        "    num_test_shapes=3,\n",
        "    num_iterations=200,\n",
        "    output_dir=\"./test_results\"  # Added output directory parameter\n",
        "):\n",
        "    \"\"\"\n",
        "    Evaluate the pipeline on test dataset and save both ground truth and prediction visualizations.\n",
        "    Returns the final average test IoU.\n",
        "    \"\"\"\n",
        "    import os\n",
        "    import random\n",
        "\n",
        "    test_indices = list(range(min(num_test_shapes, len(test_dataset))))\n",
        "    sum_test_iou = 0.0\n",
        "    c = 0\n",
        "\n",
        "    print(f\"[test_phase_evaluation] Using strategy={best_strategy}, threshold={best_threshold}\")\n",
        "\n",
        "    for idx in test_indices:\n",
        "        shape_entry = test_dataset[idx]\n",
        "        shape_id = shape_entry.get('shape_id', f'shape_{idx}')\n",
        "\n",
        "        # Create directory for this test shape\n",
        "        shape_dir = os.path.join(output_dir, f\"test_shape_{shape_id}\")\n",
        "      # ensure all subdirs\n",
        "        os.makedirs(shape_dir, exist_ok=True)\n",
        "        os.makedirs(os.path.join(shape_dir,\"predictions\"), exist_ok=True)\n",
        "\n",
        "\n",
        "        try:\n",
        "            # Initialize renderer\n",
        "            renderer = MultiViewPointCloudRenderer(\n",
        "                image_size=256, base_dist=20, base_elev=10, device=device\n",
        "            )\n",
        "\n",
        "            # 1. Save ground truth visualization\n",
        "            save_ground_truth_results(\n",
        "                data_entry=shape_entry,\n",
        "                output_dir=shape_dir,\n",
        "                renderer=renderer,\n",
        "                device=device,\n",
        "                n_views=4\n",
        "            )\n",
        "\n",
        "            # 2. Train and evaluate network\n",
        "            net = NeuralHighlighter(depth=5, width=256, out_dim=2, input_dim=3).to(device)\n",
        "\n",
        "            # Generate prompt and encode text\n",
        "            main_aff = shape_entry[\"affordances\"][0]\n",
        "            prompt_str = generate_affordance_prompt(shape_entry[\"shape_class\"], main_aff, best_strategy)\n",
        "            text_feats = encode_text(clip_model, prompt_str, device=device)\n",
        "\n",
        "            # Train network\n",
        "            net = optimize_point_cloud(\n",
        "                points=shape_entry[\"coords\"],\n",
        "                clip_model=clip_model,\n",
        "                renderer=renderer,\n",
        "                encoded_text=text_feats,\n",
        "                log_dir=os.path.join(shape_dir, \"optimization_logs\"),\n",
        "                num_iterations=num_iterations,\n",
        "                device=device,\n",
        "                n_views=4\n",
        "            )\n",
        "\n",
        "            # 3. Save network predictions\n",
        "            save_results(\n",
        "                net=net,\n",
        "                points=shape_entry[\"coords\"],\n",
        "                prompt=prompt_str,\n",
        "                output_dir=os.path.join(shape_dir, \"predictions\"),\n",
        "                renderer=renderer,\n",
        "                device=device,\n",
        "                n_views=4\n",
        "            )\n",
        "\n",
        "            # 4. Compute and save metrics\n",
        "            with torch.no_grad():\n",
        "                pred_class = net(shape_entry[\"coords\"])\n",
        "                highlight_scores = pred_class[:,0]\n",
        "\n",
        "            shape_sum = 0.0\n",
        "            affordance_ious = {}\n",
        "            for aff in shape_entry[\"affordances\"]:\n",
        "                gt_bin = (shape_entry[\"labels_dict\"][aff] > 0.0).long()\n",
        "                bin_pred = (highlight_scores >= best_threshold).long()\n",
        "                iou_val = compute_mIoU(bin_pred, gt_bin)\n",
        "                affordance_ious[aff] = iou_val\n",
        "                shape_sum += iou_val\n",
        "\n",
        "            shape_mean = shape_sum / len(shape_entry[\"affordances\"])\n",
        "            sum_test_iou += shape_mean\n",
        "            c += 1\n",
        "\n",
        "            # Save metrics\n",
        "            with open(os.path.join(shape_dir, \"metrics.txt\"), 'w') as f:\n",
        "                f.write(f\"Shape ID: {shape_id}\\n\")\n",
        "                f.write(f\"Class: {shape_entry['shape_class']}\\n\")\n",
        "                f.write(f\"Strategy: {best_strategy}\\n\")\n",
        "                f.write(f\"Threshold: {best_threshold}\\n\")\n",
        "                f.write(f\"Mean IoU: {shape_mean:.3f}\\n\\n\")\n",
        "                f.write(\"Per-affordance IoUs:\\n\")\n",
        "                for aff, iou in affordance_ious.items():\n",
        "                    f.write(f\"{aff}: {iou:.3f}\\n\")\n",
        "\n",
        "            print(f\"  -> shape idx={idx}, shape mean IoU={shape_mean:.3f}\")\n",
        "\n",
        "        except Exception as e:\n",
        "            print(f\"  [Warning] Skipped shape idx={idx} due to error: {e}\")\n",
        "            continue\n",
        "\n",
        "    final_test_iou = sum_test_iou/c if c>0 else 0.0\n",
        "    print(f\"[test_phase_evaluation] Final mIoU = {final_test_iou:.3f} (over {c} shapes)\")\n",
        "\n",
        "    # Save overall test results\n",
        "    with open(os.path.join(output_dir, \"test_summary.txt\"), 'w') as f:\n",
        "        f.write(f\"Test Summary\\n\")\n",
        "        f.write(f\"============\\n\")\n",
        "        f.write(f\"Number of shapes tested: {c}\\n\")\n",
        "        f.write(f\"Best strategy: {best_strategy}\\n\")\n",
        "        f.write(f\"Best threshold: {best_threshold}\\n\")\n",
        "        f.write(f\"Final mIoU: {final_test_iou:.3f}\\n\")\n",
        "\n",
        "    return final_test_iou\n",
        "\n",
        "\n",
        "def compute_mIoU(pred_labels, gt_labels):\n",
        "    intersection = ((pred_labels == 1) & (gt_labels == 1)).sum().float()\n",
        "    union = ((pred_labels == 1) | (gt_labels == 1)).sum().float()\n",
        "    if union == 0:\n",
        "        return 0.0\n",
        "    return (intersection / union).item()"
      ]
    },
    {
      "metadata": {
        "id": "IeqFmgmU2NHq"
      },
      "cell_type": "markdown",
      "source": [
        "## Here we pass different strategies and threshold values."
      ]
    },
    {
      "metadata": {
        "id": "rCVuykp52NHq",
        "outputId": "010587d8-beb6-47ff-fc73-5c4e0c90bac9",
        "colab": {
          "base_uri": "https://localhost:8080/",
          "height": 1000
        }
      },
      "cell_type": "code",
      "outputs": [
        {
          "output_type": "stream",
          "name": "stdout",
          "text": [
            "Found 107 valid door objects with all affordances\n",
            "[Main] val_data size=10, test_data size=10\n",
            "[grid_search_validation] Starting shape-by-shape training on validation, with saving GT & predictions...\n",
            "\n",
            "=== Trying strategy='basic', threshold=0.3 ===\n",
            "  -> [Shape 1/3] ID=f649133ee152f0c4535dab46efb28e27, Class=Door, Affs=['openable', 'pushable', 'pull']\n"
          ]
        },
        {
          "output_type": "stream",
          "name": "stderr",
          "text": [
            "  1%|          | 2/200 [00:00<00:36,  5.42it/s]"
          ]
        },
        {
          "output_type": "stream",
          "name": "stdout",
          "text": [
            "Iteration 0, Loss: -0.2249\n"
          ]
        },
        {
          "output_type": "stream",
          "name": "stderr",
          "text": [
            " 51%|█████     | 102/200 [00:17<00:15,  6.32it/s]"
          ]
        },
        {
          "output_type": "stream",
          "name": "stdout",
          "text": [
            "Iteration 100, Loss: -0.2390\n"
          ]
        },
        {
          "output_type": "stream",
          "name": "stderr",
          "text": [
            "100%|██████████| 200/200 [00:32<00:00,  6.19it/s]\n"
          ]
        },
        {
          "output_type": "stream",
          "name": "stdout",
          "text": [
            "     shape IoU => 0.031\n",
            "  -> [Shape 2/3] ID=ca55384f8d7b2beaa0af12c1cf92de5f, Class=Door, Affs=['openable', 'pushable', 'pull']\n"
          ]
        },
        {
          "output_type": "stream",
          "name": "stderr",
          "text": [
            "  1%|          | 2/200 [00:00<00:30,  6.45it/s]"
          ]
        },
        {
          "output_type": "stream",
          "name": "stdout",
          "text": [
            "Iteration 0, Loss: -0.2284\n"
          ]
        },
        {
          "output_type": "stream",
          "name": "stderr",
          "text": [
            " 51%|█████     | 102/200 [00:15<00:15,  6.49it/s]"
          ]
        },
        {
          "output_type": "stream",
          "name": "stdout",
          "text": [
            "Iteration 100, Loss: -0.2332\n"
          ]
        },
        {
          "output_type": "stream",
          "name": "stderr",
          "text": [
            "100%|██████████| 200/200 [00:31<00:00,  6.27it/s]\n"
          ]
        },
        {
          "output_type": "stream",
          "name": "stdout",
          "text": [
            "     shape IoU => 0.000\n",
            "  -> [Shape 3/3] ID=157d99a639b9b9aa5dd29c13c4b9a983, Class=Door, Affs=['openable', 'pushable', 'pull']\n"
          ]
        },
        {
          "output_type": "stream",
          "name": "stderr",
          "text": [
            "  1%|          | 2/200 [00:00<00:30,  6.51it/s]"
          ]
        },
        {
          "output_type": "stream",
          "name": "stdout",
          "text": [
            "Iteration 0, Loss: -0.1986\n"
          ]
        },
        {
          "output_type": "stream",
          "name": "stderr",
          "text": [
            " 51%|█████     | 102/200 [00:16<00:16,  5.96it/s]"
          ]
        },
        {
          "output_type": "stream",
          "name": "stdout",
          "text": [
            "Iteration 100, Loss: -0.2015\n"
          ]
        },
        {
          "output_type": "stream",
          "name": "stderr",
          "text": [
            "100%|██████████| 200/200 [00:31<00:00,  6.32it/s]\n"
          ]
        },
        {
          "output_type": "stream",
          "name": "stdout",
          "text": [
            "     shape IoU => 0.001\n",
            "\n",
            ">>> Combo (strategy=basic, threshold=0.3) => Mean IoU=0.010 over 3 shapes\n",
            "\n",
            "=== Trying strategy='basic', threshold=0.5 ===\n",
            "  -> [Shape 1/3] ID=f649133ee152f0c4535dab46efb28e27, Class=Door, Affs=['openable', 'pushable', 'pull']\n"
          ]
        },
        {
          "output_type": "stream",
          "name": "stderr",
          "text": [
            "  1%|          | 2/200 [00:00<00:31,  6.29it/s]"
          ]
        },
        {
          "output_type": "stream",
          "name": "stdout",
          "text": [
            "Iteration 0, Loss: -0.2308\n"
          ]
        },
        {
          "output_type": "stream",
          "name": "stderr",
          "text": [
            " 51%|█████     | 102/200 [00:16<00:15,  6.20it/s]"
          ]
        },
        {
          "output_type": "stream",
          "name": "stdout",
          "text": [
            "Iteration 100, Loss: -0.1964\n"
          ]
        },
        {
          "output_type": "stream",
          "name": "stderr",
          "text": [
            "100%|██████████| 200/200 [00:32<00:00,  6.21it/s]\n"
          ]
        },
        {
          "output_type": "stream",
          "name": "stdout",
          "text": [
            "     shape IoU => 0.000\n",
            "  -> [Shape 2/3] ID=ca55384f8d7b2beaa0af12c1cf92de5f, Class=Door, Affs=['openable', 'pushable', 'pull']\n"
          ]
        },
        {
          "output_type": "stream",
          "name": "stderr",
          "text": [
            "  1%|          | 2/200 [00:00<00:32,  6.14it/s]"
          ]
        },
        {
          "output_type": "stream",
          "name": "stdout",
          "text": [
            "Iteration 0, Loss: -0.2356\n"
          ]
        },
        {
          "output_type": "stream",
          "name": "stderr",
          "text": [
            " 51%|█████     | 102/200 [00:16<00:16,  5.90it/s]"
          ]
        },
        {
          "output_type": "stream",
          "name": "stdout",
          "text": [
            "Iteration 100, Loss: -0.2097\n"
          ]
        },
        {
          "output_type": "stream",
          "name": "stderr",
          "text": [
            "100%|██████████| 200/200 [00:32<00:00,  6.20it/s]\n"
          ]
        },
        {
          "output_type": "stream",
          "name": "stdout",
          "text": [
            "     shape IoU => 0.000\n",
            "  -> [Shape 3/3] ID=157d99a639b9b9aa5dd29c13c4b9a983, Class=Door, Affs=['openable', 'pushable', 'pull']\n"
          ]
        },
        {
          "output_type": "stream",
          "name": "stderr",
          "text": [
            "  1%|          | 2/200 [00:00<00:32,  6.04it/s]"
          ]
        },
        {
          "output_type": "stream",
          "name": "stdout",
          "text": [
            "Iteration 0, Loss: -0.2183\n"
          ]
        },
        {
          "output_type": "stream",
          "name": "stderr",
          "text": [
            " 51%|█████     | 102/200 [00:16<00:15,  6.34it/s]"
          ]
        },
        {
          "output_type": "stream",
          "name": "stdout",
          "text": [
            "Iteration 100, Loss: -0.2028\n"
          ]
        },
        {
          "output_type": "stream",
          "name": "stderr",
          "text": [
            "100%|██████████| 200/200 [00:31<00:00,  6.27it/s]\n"
          ]
        },
        {
          "output_type": "stream",
          "name": "stdout",
          "text": [
            "     shape IoU => 0.060\n",
            "\n",
            ">>> Combo (strategy=basic, threshold=0.5) => Mean IoU=0.020 over 3 shapes\n",
            "\n",
            "=== Trying strategy='affordance_specific', threshold=0.3 ===\n",
            "  -> [Shape 1/3] ID=f649133ee152f0c4535dab46efb28e27, Class=Door, Affs=['openable', 'pushable', 'pull']\n"
          ]
        },
        {
          "output_type": "stream",
          "name": "stderr",
          "text": [
            "  1%|          | 2/200 [00:00<00:31,  6.31it/s]"
          ]
        },
        {
          "output_type": "stream",
          "name": "stdout",
          "text": [
            "Iteration 0, Loss: -0.1960\n"
          ]
        },
        {
          "output_type": "stream",
          "name": "stderr",
          "text": [
            " 51%|█████     | 102/200 [00:16<00:16,  5.87it/s]"
          ]
        },
        {
          "output_type": "stream",
          "name": "stdout",
          "text": [
            "Iteration 100, Loss: -0.1925\n"
          ]
        },
        {
          "output_type": "stream",
          "name": "stderr",
          "text": [
            "100%|██████████| 200/200 [00:32<00:00,  6.21it/s]\n"
          ]
        },
        {
          "output_type": "stream",
          "name": "stdout",
          "text": [
            "     shape IoU => 0.000\n",
            "  -> [Shape 2/3] ID=ca55384f8d7b2beaa0af12c1cf92de5f, Class=Door, Affs=['openable', 'pushable', 'pull']\n"
          ]
        },
        {
          "output_type": "stream",
          "name": "stderr",
          "text": [
            "  1%|          | 2/200 [00:00<00:31,  6.23it/s]"
          ]
        },
        {
          "output_type": "stream",
          "name": "stdout",
          "text": [
            "Iteration 0, Loss: -0.1998\n"
          ]
        },
        {
          "output_type": "stream",
          "name": "stderr",
          "text": [
            " 51%|█████     | 102/200 [00:16<00:15,  6.27it/s]"
          ]
        },
        {
          "output_type": "stream",
          "name": "stdout",
          "text": [
            "Iteration 100, Loss: -0.2236\n"
          ]
        },
        {
          "output_type": "stream",
          "name": "stderr",
          "text": [
            "100%|██████████| 200/200 [00:31<00:00,  6.27it/s]\n"
          ]
        },
        {
          "output_type": "stream",
          "name": "stdout",
          "text": [
            "     shape IoU => 0.000\n",
            "  -> [Shape 3/3] ID=157d99a639b9b9aa5dd29c13c4b9a983, Class=Door, Affs=['openable', 'pushable', 'pull']\n"
          ]
        },
        {
          "output_type": "stream",
          "name": "stderr",
          "text": [
            "  1%|          | 2/200 [00:00<00:31,  6.35it/s]"
          ]
        },
        {
          "output_type": "stream",
          "name": "stdout",
          "text": [
            "Iteration 0, Loss: -0.1802\n"
          ]
        },
        {
          "output_type": "stream",
          "name": "stderr",
          "text": [
            " 51%|█████     | 102/200 [00:16<00:16,  5.80it/s]"
          ]
        },
        {
          "output_type": "stream",
          "name": "stdout",
          "text": [
            "Iteration 100, Loss: -0.2107\n"
          ]
        },
        {
          "output_type": "stream",
          "name": "stderr",
          "text": [
            "100%|██████████| 200/200 [00:32<00:00,  6.22it/s]\n"
          ]
        },
        {
          "output_type": "stream",
          "name": "stdout",
          "text": [
            "     shape IoU => 0.000\n",
            "\n",
            ">>> Combo (strategy=affordance_specific, threshold=0.3) => Mean IoU=0.000 over 3 shapes\n",
            "\n",
            "=== Trying strategy='affordance_specific', threshold=0.5 ===\n",
            "  -> [Shape 1/3] ID=f649133ee152f0c4535dab46efb28e27, Class=Door, Affs=['openable', 'pushable', 'pull']\n"
          ]
        },
        {
          "output_type": "stream",
          "name": "stderr",
          "text": [
            "  1%|          | 2/200 [00:00<00:31,  6.29it/s]"
          ]
        },
        {
          "output_type": "stream",
          "name": "stdout",
          "text": [
            "Iteration 0, Loss: -0.1766\n"
          ]
        },
        {
          "output_type": "stream",
          "name": "stderr",
          "text": [
            " 51%|█████     | 102/200 [00:16<00:15,  6.29it/s]"
          ]
        },
        {
          "output_type": "stream",
          "name": "stdout",
          "text": [
            "Iteration 100, Loss: -0.1984\n"
          ]
        },
        {
          "output_type": "stream",
          "name": "stderr",
          "text": [
            "100%|██████████| 200/200 [00:31<00:00,  6.27it/s]\n"
          ]
        },
        {
          "output_type": "stream",
          "name": "stdout",
          "text": [
            "     shape IoU => 0.000\n",
            "  -> [Shape 2/3] ID=ca55384f8d7b2beaa0af12c1cf92de5f, Class=Door, Affs=['openable', 'pushable', 'pull']\n"
          ]
        },
        {
          "output_type": "stream",
          "name": "stderr",
          "text": [
            "  1%|          | 2/200 [00:00<00:31,  6.34it/s]"
          ]
        },
        {
          "output_type": "stream",
          "name": "stdout",
          "text": [
            "Iteration 0, Loss: -0.1995\n"
          ]
        },
        {
          "output_type": "stream",
          "name": "stderr",
          "text": [
            " 51%|█████     | 102/200 [00:16<00:16,  5.89it/s]"
          ]
        },
        {
          "output_type": "stream",
          "name": "stdout",
          "text": [
            "Iteration 100, Loss: -0.2222\n"
          ]
        },
        {
          "output_type": "stream",
          "name": "stderr",
          "text": [
            "100%|██████████| 200/200 [00:32<00:00,  6.23it/s]\n"
          ]
        },
        {
          "output_type": "stream",
          "name": "stdout",
          "text": [
            "     shape IoU => 0.000\n",
            "  -> [Shape 3/3] ID=157d99a639b9b9aa5dd29c13c4b9a983, Class=Door, Affs=['openable', 'pushable', 'pull']\n"
          ]
        },
        {
          "output_type": "stream",
          "name": "stderr",
          "text": [
            "  1%|          | 2/200 [00:00<00:31,  6.34it/s]"
          ]
        },
        {
          "output_type": "stream",
          "name": "stdout",
          "text": [
            "Iteration 0, Loss: -0.2040\n"
          ]
        },
        {
          "output_type": "stream",
          "name": "stderr",
          "text": [
            " 51%|█████     | 102/200 [00:16<00:15,  6.30it/s]"
          ]
        },
        {
          "output_type": "stream",
          "name": "stdout",
          "text": [
            "Iteration 100, Loss: -0.2086\n"
          ]
        },
        {
          "output_type": "stream",
          "name": "stderr",
          "text": [
            "100%|██████████| 200/200 [00:31<00:00,  6.28it/s]\n"
          ]
        },
        {
          "output_type": "stream",
          "name": "stdout",
          "text": [
            "     shape IoU => 0.000\n",
            "\n",
            ">>> Combo (strategy=affordance_specific, threshold=0.5) => Mean IoU=0.000 over 3 shapes\n",
            "\n",
            "[grid_search_validation] Validation combos sorted by best IoU:\n",
            "    Strategy=basic, Threshold=0.5, IoU=0.020\n",
            "    Strategy=basic, Threshold=0.3, IoU=0.010\n",
            "    Strategy=affordance_specific, Threshold=0.3, IoU=0.000\n",
            "    Strategy=affordance_specific, Threshold=0.5, IoU=0.000\n",
            "\n",
            "[grid_search_validation] Best strategy=basic, threshold=0.5, average mIoU=0.020\n",
            "\n",
            "[Main] Validation done => best strategy=basic, threshold=0.5, valIoU=0.020\n",
            "[test_phase_evaluation] Using strategy=basic, threshold=0.5\n"
          ]
        },
        {
          "output_type": "stream",
          "name": "stderr",
          "text": [
            "  1%|          | 2/200 [00:00<00:33,  5.89it/s]"
          ]
        },
        {
          "output_type": "stream",
          "name": "stdout",
          "text": [
            "Iteration 0, Loss: -0.2341\n"
          ]
        },
        {
          "output_type": "stream",
          "name": "stderr",
          "text": [
            " 51%|█████     | 102/200 [00:16<00:15,  6.17it/s]"
          ]
        },
        {
          "output_type": "stream",
          "name": "stdout",
          "text": [
            "Iteration 100, Loss: -0.2323\n"
          ]
        },
        {
          "output_type": "stream",
          "name": "stderr",
          "text": [
            "100%|██████████| 200/200 [00:32<00:00,  6.23it/s]\n"
          ]
        },
        {
          "output_type": "stream",
          "name": "stdout",
          "text": [
            "  -> shape idx=0, shape mean IoU=0.087\n"
          ]
        },
        {
          "output_type": "stream",
          "name": "stderr",
          "text": [
            "  1%|          | 2/200 [00:00<00:31,  6.31it/s]"
          ]
        },
        {
          "output_type": "stream",
          "name": "stdout",
          "text": [
            "Iteration 0, Loss: -0.2290\n"
          ]
        },
        {
          "output_type": "stream",
          "name": "stderr",
          "text": [
            " 51%|█████     | 102/200 [00:16<00:15,  6.22it/s]"
          ]
        },
        {
          "output_type": "stream",
          "name": "stdout",
          "text": [
            "Iteration 100, Loss: -0.2311\n"
          ]
        },
        {
          "output_type": "stream",
          "name": "stderr",
          "text": [
            "100%|██████████| 200/200 [00:31<00:00,  6.26it/s]\n"
          ]
        },
        {
          "output_type": "stream",
          "name": "stdout",
          "text": [
            "  -> shape idx=1, shape mean IoU=0.000\n"
          ]
        },
        {
          "output_type": "stream",
          "name": "stderr",
          "text": [
            "  1%|          | 2/200 [00:00<00:32,  6.00it/s]"
          ]
        },
        {
          "output_type": "stream",
          "name": "stdout",
          "text": [
            "Iteration 0, Loss: -0.2433\n"
          ]
        },
        {
          "output_type": "stream",
          "name": "stderr",
          "text": [
            " 51%|█████     | 102/200 [00:16<00:15,  6.26it/s]"
          ]
        },
        {
          "output_type": "stream",
          "name": "stdout",
          "text": [
            "Iteration 100, Loss: -0.2678\n"
          ]
        },
        {
          "output_type": "stream",
          "name": "stderr",
          "text": [
            "100%|██████████| 200/200 [00:32<00:00,  6.22it/s]\n"
          ]
        },
        {
          "output_type": "stream",
          "name": "stdout",
          "text": [
            "  -> shape idx=2, shape mean IoU=0.000\n",
            "[test_phase_evaluation] Final mIoU = 0.029 (over 3 shapes)\n",
            "[Main] Final test IoU => 0.029\n",
            "\n",
            "[Main] Visualizing multi-view for the last test shape...\n"
          ]
        },
        {
          "output_type": "stream",
          "name": "stderr",
          "text": [
            "  1%|          | 2/200 [00:00<00:16, 11.67it/s]"
          ]
        },
        {
          "output_type": "stream",
          "name": "stdout",
          "text": [
            "Iteration 0, Loss: -0.2477\n"
          ]
        },
        {
          "output_type": "stream",
          "name": "stderr",
          "text": [
            " 52%|█████▏    | 103/200 [00:09<00:08, 10.78it/s]"
          ]
        },
        {
          "output_type": "stream",
          "name": "stdout",
          "text": [
            "Iteration 100, Loss: -0.2495\n"
          ]
        },
        {
          "output_type": "stream",
          "name": "stderr",
          "text": [
            "100%|██████████| 200/200 [00:17<00:00, 11.37it/s]\n",
            "  1%|          | 2/200 [00:00<00:16, 11.81it/s]"
          ]
        },
        {
          "output_type": "stream",
          "name": "stdout",
          "text": [
            "Iteration 0, Loss: -0.2261\n"
          ]
        },
        {
          "output_type": "stream",
          "name": "stderr",
          "text": [
            " 51%|█████     | 102/200 [00:09<00:08, 11.59it/s]"
          ]
        },
        {
          "output_type": "stream",
          "name": "stdout",
          "text": [
            "Iteration 100, Loss: -0.2324\n"
          ]
        },
        {
          "output_type": "stream",
          "name": "stderr",
          "text": [
            "100%|██████████| 200/200 [00:18<00:00, 11.08it/s]\n"
          ]
        },
        {
          "output_type": "display_data",
          "data": {
            "text/plain": [
              "<Figure size 1600x400 with 4 Axes>"
            ],
            "image/png": "[encoded data removed]"
          },
          "metadata": {}
        }
      ],
      "execution_count": 23,
      "source": [
        "import torch\n",
        "import matplotlib.pyplot as plt\n",
        "\n",
        "# 1) Imports from your code\n",
        "from src.data_loader_fullshape import create_dataset_splits, FullShapeDataset\n",
        "from src.prompt_strategies import generate_affordance_prompt\n",
        "from src.Clip.clip_model import get_clip_model\n",
        "from src.render.cloud_point_renderer import MultiViewPointCloudRenderer\n",
        "from src.neural_highlighter import NeuralHighlighter\n",
        "\n",
        "\n",
        "device = \"cuda\"\n",
        "\n",
        "dataset = FullShapeDataset(\"/content/Affordance3DHighlighter/data/full_shape_train_data.pkl\", device=device)\n",
        "train_data, val_data, test_data = create_dataset_splits(dataset, val_ratio=0.1, test_ratio=0.1)\n",
        "\n",
        "\n",
        "print(f\"[Main] val_data size={len(val_data)}, test_data size={len(test_data)}\")\n",
        "\n",
        "# 3) Load CLIP model\n",
        "clip_model, _, _ = get_clip_model(\"ViT-L/14\")\n",
        "\n",
        "# 4) Validation Phase: search best (strategy, threshold)\n",
        "strategies_list = [\"basic\", \"affordance_specific\"]\n",
        "thresholds_list = [0.3, 0.5]  # let's have 2 thresholds now\n",
        "num_val_objects = 3          # how many shapes we pick from val\n",
        "num_iterations_val = 200     # how many training steps\n",
        "\n",
        "best_strat, best_th, best_val_iou = grid_search_validation(\n",
        "    val_dataset=val_data,\n",
        "    clip_model=clip_model,\n",
        "    device=device,\n",
        "    strategies=strategies_list,\n",
        "    thresholds=thresholds_list,\n",
        "    num_val_objects=num_val_objects,\n",
        "    num_iterations=num_iterations_val,\n",
        "    output_dir=\"./val_gridsearch\"\n",
        ")\n",
        "\n",
        "print(f\"\\n[Main] Validation done => best strategy={best_strat}, threshold={best_th}, valIoU={best_val_iou:.3f}\")\n",
        "\n",
        "# 5) Test Phase\n",
        "num_test_shapes = 3\n",
        "test_iterations = 200\n",
        "final_test_iou = test_phase_evaluation(\n",
        "    test_dataset=test_data,\n",
        "    clip_model=clip_model,\n",
        "    best_strategy=best_strat,\n",
        "    best_threshold=best_th,\n",
        "    device=device,\n",
        "    num_test_shapes=num_test_shapes,\n",
        "    num_iterations=test_iterations,\n",
        "    output_dir=\"./test_results\"\n",
        ")\n",
        "print(f\"[Main] Final test IoU => {final_test_iou:.3f}\")\n",
        "\n",
        "# 6) (Optional) Visualize multi-view for the last test shape\n",
        "if len(test_data)>0:\n",
        "    last_idx = min(num_test_shapes, len(test_data)) - 1\n",
        "    last_shape = test_data[last_idx]\n",
        "    print(\"\\n[Main] Visualizing multi-view for the last test shape...\")\n",
        "\n",
        "    # We'll do a quick training again\n",
        "    shape_mean = train_and_evaluate_shape(\n",
        "        last_shape,\n",
        "        clip_model,\n",
        "        best_strat,\n",
        "        best_th,\n",
        "        device=device,\n",
        "        num_iterations=test_iterations\n",
        "    )\n",
        "    # Now we do a manual multi-view color-labeled scatter\n",
        "    coords_test = last_shape[\"coords\"]\n",
        "    if not isinstance(coords_test, torch.Tensor):\n",
        "        coords_test = torch.tensor(coords_test, device=device)\n",
        "\n",
        "    # We can re-run the net\n",
        "    net = NeuralHighlighter(depth=5, width=256, out_dim=2, input_dim=3).to(device)\n",
        "    from src.Clip.clip_model import encode_text\n",
        "    aff_main = last_shape[\"affordances\"][0]\n",
        "    prompt_main = generate_affordance_prompt(last_shape[\"shape_class\"], aff_main, best_strat)\n",
        "    txt_main = encode_text(clip_model, prompt_main, device=device)\n",
        "    renderer = MultiViewPointCloudRenderer(image_size=256, base_dist=20, base_elev=10, device=device)\n",
        "    net = optimize_point_cloud(\n",
        "        points=coords_test,\n",
        "        clip_model=clip_model,\n",
        "        renderer=renderer,\n",
        "        encoded_text=txt_main,\n",
        "        log_dir=\"./test_vis\",\n",
        "        num_iterations=test_iterations,\n",
        "        device=device,\n",
        "        n_views=2\n",
        "    )\n",
        "\n",
        "    with torch.no_grad():\n",
        "        pred_ = net(coords_test)[:,0]\n",
        "\n",
        "    # color\n",
        "    color_tensor = pred_.unsqueeze(1)*torch.tensor([204/255,1.0,0.0], device=device) + (1.0 - pred_.unsqueeze(1))*torch.tensor([180/255,180/255,180/255], device=device)\n",
        "    point_cloud = renderer.create_point_cloud(coords_test, color_tensor)\n",
        "    rendered_dict = renderer.render_all_views(point_cloud, n_views=4)\n",
        "\n",
        "    import matplotlib.pyplot as plt\n",
        "    fig, axes = plt.subplots(1, len(rendered_dict), figsize=(4*len(rendered_dict), 4))\n",
        "    for ax, (vname, imgT) in zip(axes, rendered_dict.items()):\n",
        "        ax.imshow(imgT.cpu().numpy())\n",
        "        ax.set_title(vname)\n",
        "        ax.axis('off')\n",
        "    plt.suptitle(f\"Test Shape {last_shape['shape_id']} - final threshold={best_th}\")\n",
        "    plt.show()\n"
      ]
    }
  ]
}