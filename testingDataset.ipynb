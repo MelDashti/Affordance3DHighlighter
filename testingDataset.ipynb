{
 "cells": [
  {
   "cell_type": "code",
   "metadata": {
    "colab": {
     "base_uri": "https://localhost:8080/"
    },
    "id": "43t5R0tED6Kn",
    "outputId": "9cd47185-2838-4b50-cd05-fd477cdbe072"
   },
   "source": [
    "!pip install gdown\n",
    "!gdown --id 1siZtGusB1LfQVapTvNOiYi8aeKKAgcDF\n",
    "!unzip full-shape.zip -d /content/"
   ],
   "outputs": [],
   "execution_count": null
  },
  {
   "cell_type": "code",
   "metadata": {
    "colab": {
     "base_uri": "https://localhost:8080/"
    },
    "id": "d9F6tJgkE3XE",
    "outputId": "69737278-c325-4afd-b789-6213afc8af19"
   },
   "source": [
    "import pickle\n",
    "\n",
    "# Load training data\n",
    "with open('full_shape_train_data.pkl', 'rb') as train_file:\n",
    "    train_data = pickle.load(train_file)\n",
    "\n",
    "# Print the structure of the first object in the dataset\n",
    "print(\"Keys in the first object:\", train_data[0].keys())\n",
    "print(\"Semantic Class:\", train_data[0]['semantic class'])\n",
    "print(\"Affordances:\", train_data[0]['affordance'])\n",
    "print(\"Coordinate Shape:\", train_data[0]['full_shape']['coordinate'].shape)\n",
    "print(\"Label Keys:\", train_data[0]['full_shape']['label'].keys())\n"
   ],
   "outputs": [],
   "execution_count": null
  },
  {
   "cell_type": "code",
   "metadata": {
    "colab": {
     "base_uri": "https://localhost:8080/"
    },
    "id": "FSyjo1CWJa3Y",
    "outputId": "b215ea1f-5acc-408a-d50f-024c45a56d6e"
   },
   "source": [
    "from collections import defaultdict\n",
    "\n",
    "affordance_counts = defaultdict(lambda: defaultdict(int))\n",
    "\n",
    "for entry in train_data:\n",
    "    semantic_class = entry['semantic class']\n",
    "    for affordance, label in entry['full_shape']['label'].items():\n",
    "        if label.max() > 0:  # Check if there are non-zero labels\n",
    "            affordance_counts[semantic_class][affordance] += 1\n",
    "\n",
    "for semantic_class, counts in affordance_counts.items():\n",
    "    print(f\"{semantic_class}:\")\n",
    "    for affordance, count in counts.items():\n",
    "        print(f\"  {affordance}: {count} objects\")\n"
   ],
   "outputs": [],
   "execution_count": null
  },
  {
   "cell_type": "code",
   "metadata": {
    "colab": {
     "base_uri": "https://localhost:8080/",
     "height": 505
    },
    "id": "vve6IRLIKVfA",
    "outputId": "1dd1681d-2724-499b-8d5e-606a2cf1841c"
   },
   "source": [
    "import matplotlib.pyplot as plt\n",
    "\n",
    "affordance_totals = defaultdict(int)\n",
    "for semantic_class, counts in affordance_counts.items():\n",
    "    for affordance, count in counts.items():\n",
    "        affordance_totals[affordance] += count\n",
    "\n",
    "# Bar plot\n",
    "plt.bar(affordance_totals.keys(), affordance_totals.values())\n",
    "plt.xticks(rotation=45, ha='right')\n",
    "plt.title(\"Frequency of Affordances Across All Classes\")\n",
    "plt.ylabel(\"Number of Objects\")\n",
    "plt.show()\n"
   ],
   "outputs": [],
   "execution_count": null
  },
  {
   "cell_type": "code",
   "metadata": {
    "colab": {
     "base_uri": "https://localhost:8080/"
    },
    "id": "KzhVZv_VKm7H",
    "outputId": "36859e32-4c6c-4692-a4d7-945b5b8dfd99"
   },
   "source": [
    "import pandas as pd\n",
    "\n",
    "class_affordance_matrix = pd.DataFrame.from_dict(affordance_counts, orient='index').fillna(0)\n",
    "print(class_affordance_matrix)\n",
    "\n",
    "# Save to a CSV for further analysis\n",
    "class_affordance_matrix.to_csv(\"class_affordance_matrix.csv\")"
   ],
   "outputs": [],
   "execution_count": null
  },
  {
   "cell_type": "code",
   "metadata": {
    "colab": {
     "base_uri": "https://localhost:8080/"
    },
    "id": "ql1njYPeF5ZT",
    "outputId": "d4a6fcf2-a16b-4dee-eea2-bcb2103ed5d5"
   },
   "source": [
    "# Select the first object\n",
    "object_data = val_data[0]\n",
    "\n",
    "# Extract relevant information\n",
    "coords = object_data['full_shape']['coordinate']\n",
    "affordance_label = object_data['full_shape']['label']['grasp']  # Replace 'grasp' with desired affordance\n",
    "\n",
    "print(\"Selected Object Class:\", object_data['semantic class'])\n",
    "print(\"Affordance Label Shape:\", affordance_label.shape)"
   ],
   "outputs": [],
   "execution_count": null
  },
  {
   "cell_type": "code",
   "metadata": {
    "colab": {
     "base_uri": "https://localhost:8080/"
    },
    "id": "sg0VrYrCF7V6",
    "outputId": "65aa25b8-6915-4614-9d9e-f3d049ca97e8"
   },
   "source": [
    "import numpy as np\n",
    "\n",
    "# Convert to numpy arrays for easy handling\n",
    "coords = np.array(coords)  # Shape: [N, 3]\n",
    "affordance_label = np.array(affordance_label)  # Shape: [N]\n",
    "\n",
    "# Print summary of the affordance labels\n",
    "print(\"Unique Label Values:\", np.unique(affordance_label, return_counts=True))\n"
   ],
   "outputs": [],
   "execution_count": null
  },
  {
   "cell_type": "code",
   "metadata": {
    "colab": {
     "base_uri": "https://localhost:8080/"
    },
    "id": "QcdboRz0JMm_",
    "outputId": "7ada58fa-a124-4d70-e646-27dbeb6955c7"
   },
   "source": [
    "print(\"Coordinate Range:\")\n",
    "print(\"X:\", coords[:, 0].min(), \"-\", coords[:, 0].max())\n",
    "print(\"Y:\", coords[:, 1].min(), \"-\", coords[:, 1].max())\n",
    "print(\"Z:\", coords[:, 2].min(), \"-\", coords[:, 2].max())\n",
    "\n",
    "print(\"\\nAffordance Label Range:\")\n",
    "print(\"Min:\", affordance_label.min(), \"Max:\", affordance_label.max())"
   ],
   "outputs": [],
   "execution_count": null
  },
  {
   "cell_type": "code",
   "metadata": {
    "colab": {
     "base_uri": "https://localhost:8080/",
     "height": 606
    },
    "id": "EAYMLfLFF8aN",
    "outputId": "c97d1f2e-1808-47db-d1f7-85cf0061f905"
   },
   "source": [
    "import matplotlib.pyplot as plt\n",
    "from mpl_toolkits.mplot3d import Axes3D\n",
    "\n",
    "def plot_3d_points(coords, labels, title=\"3D Scatter Plot\"):\n",
    "    fig = plt.figure(figsize=(10, 7))\n",
    "    ax = fig.add_subplot(111, projection='3d')\n",
    "    scatter = ax.scatter(\n",
    "        coords[:, 0], coords[:, 1], coords[:, 2],\n",
    "        c=labels, cmap='coolwarm', s=10\n",
    "    )\n",
    "    plt.colorbar(scatter)\n",
    "    ax.set_title(title)\n",
    "    plt.show()\n",
    "\n",
    "# Plot the object with ground truth labels\n",
    "plot_3d_points(coords, affordance_label, title=f\"{object_data['semantic class']} - Pull\")\n"
   ],
   "outputs": [],
   "execution_count": null
  },
  {
   "cell_type": "code",
   "metadata": {
    "colab": {
     "base_uri": "https://localhost:8080/",
     "height": 683
    },
    "id": "tXL9yRrzPEoj",
    "outputId": "e5803820-98aa-4b25-d649-9c445c99d925"
   },
   "source": [
    "import matplotlib.pyplot as plt\n",
    "from mpl_toolkits.mplot3d import Axes3D\n",
    "\n",
    "# Select an object with non-zero affordance labels\n",
    "selected_class = \"Door\"\n",
    "selected_affordance = \"Pull\"\n",
    "\n",
    "# Find an object with non-zero labels for the selected affordance\n",
    "for entry in train_data:\n",
    "    if entry[\"semantic class\"] == selected_class and selected_affordance in entry[\"full_shape\"][\"label\"]:\n",
    "        label = entry[\"full_shape\"][\"label\"][selected_affordance]\n",
    "        if label.max() > 0:  # Ensure non-zero values\n",
    "            coords = entry[\"full_shape\"][\"coordinate\"]\n",
    "            break\n",
    "\n",
    "# Plot the coordinates and affordance label\n",
    "fig = plt.figure(figsize=(12, 8))\n",
    "ax = fig.add_subplot(111, projection='3d')\n",
    "\n",
    "# Normalize the label values for better visualization\n",
    "norm_labels = label / label.max()\n",
    "\n",
    "# Scatter plot with color-coded affordance regions\n",
    "sc = ax.scatter(\n",
    "    coords[:, 0], coords[:, 1], coords[:, 2],\n",
    "    c=norm_labels, cmap=\"coolwarm\", s=2\n",
    ")\n",
    "\n",
    "ax.set_title(f\"{selected_class} - {selected_affordance}\")\n",
    "ax.set_xlabel(\"X\")\n",
    "ax.set_ylabel(\"Y\")\n",
    "ax.set_zlabel(\"Z\")\n",
    "\n",
    "# Add a color bar to show the affordance intensity\n",
    "plt.colorbar(sc, label=\"Affordance Intensity\")\n",
    "plt.show()\n"
   ],
   "outputs": [],
   "execution_count": null
  }
 ],
 "metadata": {
  "colab": {
   "provenance": []
  },
  "kernelspec": {
   "display_name": "Python 3",
   "name": "python3"
  },
  "language_info": {
   "codemirror_mode": {
    "name": "ipython",
    "version": 3
   },
   "file_extension": ".py",
   "mimetype": "text/x-python",
   "name": "python",
   "nbconvert_exporter": "python",
   "pygments_lexer": "ipython3",
   "version": "3.12.2"
  }
 },
 "nbformat": 4,
 "nbformat_minor": 0
}
